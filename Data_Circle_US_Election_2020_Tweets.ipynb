{
  "cells": [
    {
      "cell_type": "markdown",
      "metadata": {
        "colab_type": "text",
        "id": "view-in-github"
      },
      "source": [
        "<a href=\"https://colab.research.google.com/github/GulsahDurmaz/redi_fall2024_data_circle_twitter_project/blob/main/Data_Circle_US_Election_2020_Tweets.ipynb\" target=\"_parent\"><img src=\"https://colab.research.google.com/assets/colab-badge.svg\" alt=\"Open In Colab\"/></a>"
      ]
    },
    {
      "cell_type": "markdown",
      "metadata": {
        "id": "lzzxDOjCgvWE"
      },
      "source": [
        "## Data Set"
      ]
    },
    {
      "cell_type": "markdown",
      "metadata": {
        "id": "E8FGYTxxeBDY"
      },
      "source": [
        "### Context\n",
        "\n",
        "The 2020 US election is set for **November 3, 2020**, and its global impact will be significant, regardless of the winner. After reading two relevant papers ([linked here](#) and [here](#)), I was inspired to conduct my own sentiment analysis.\n",
        "\n",
        "### Why Twitter?\n",
        "\n",
        "Social media platforms like Facebook and Twitter have transformed how we interact and share news. As of June 2019, Twitter had over 348M users posting 500M tweets daily, enabling users to influence trends and shape news coverage.\n",
        "\n",
        "Twitter has become increasingly important in electoral campaigning, with politicians and parties actively using the platform. This rise in political activity on Twitter has attracted researchers' interest, making election prediction based on Twitter data a popular field. Researchers now analyze citizen sentiment to estimate candidate performance in elections.\n",
        "\n",
        "### Content\n",
        "\n",
        "Tweets were collected using the Twitter API `statuses_lookup` and `snsscrape` for specific keywords. The original goal was to update the dataset daily to cover the period from **October 15 to November 4, 2020**.\n",
        "\n",
        "- **Added on November 6, 2020**: As the election events continue, I decided to keep updating the dataset until at least the end of November 6.\n",
        "- **Added on November 8, 2020**: One final version will include tweets up until the end of November 8.\n",
        "\n",
        "### Data Source and Acknowledgment\n",
        "\n",
        "The data and content described here are originally from **MANCH HUI**'s Kaggle profile. This information was adapted from their dataset, and can be found at their [Kaggle profile](https://www.kaggle.com/manchunhui). All credit for the dataset collection and updates goes to them.\n",
        "\n",
        "\n",
        "\n",
        "You can download the dataset from [this](https://www.kaggle.com/datasets/manchunhui/us-election-2020-tweets/data) link.\n",
        "\n",
        "The dataset contains 21 features :\n",
        "\n",
        "| No  | Column Name          | Description                                              |\n",
        "|-----|----------------------|----------------------------------------------------------|\n",
        "| 1   | created_at           | Date and time of tweet creation                          |\n",
        "| 2   | tweet_id             | Unique ID of the tweet                                   |\n",
        "| 3   | tweet                | Full tweet text                                          |\n",
        "| 4   | likes                | Number of likes                                          |\n",
        "| 5   | retweet_count        | Number of retweets                                       |\n",
        "| 6   | source               | Utility used to post the tweet                           |\n",
        "| 7   | user_id              | User ID of tweet creator                                 |\n",
        "| 8   | user_name            | Username of tweet creator                                |\n",
        "| 9   | user_screen_name     | Screen name of tweet creator                             |\n",
        "| 10  | user_description     | Description of self by tweet creator                     |\n",
        "| 11  | user_join_date       | Join date of tweet creator                               |\n",
        "| 12  | user_followers_count | Followers count of tweet creator                         |\n",
        "| 13  | user_location        | Location given on tweet creator's profile                |\n",
        "| 14  | lat                  | Latitude parsed from user_location                       |\n",
        "| 15  | long                 | Longitude parsed from user_location                      |\n",
        "| 16  | city                 | City parsed from user_location                           |\n",
        "| 17  | country              | Country parsed from user_location                        |\n",
        "| 18  | state                | State parsed from user_location                          |\n",
        "| 19  | state_code           | State code parsed from user_location                     |\n",
        "| 20  | collected_at         | Date and time tweet data was mined from Twitter          |\n"
      ]
    },
    {
      "cell_type": "markdown",
      "metadata": {
        "id": "lsxMe6WhgoCG"
      },
      "source": [
        "# Importing Libraries and Dataset\n",
        "\n",
        "Here we are using:\n",
        "\n",
        "- **Pandas** – To load the Dataframe\n",
        "- **Matplotlib** – To visualize the data features i.e. barplot\n",
        "- **Seaborn** – To see the correlation between features using heatmap\n",
        "- **NumPy** – To perform numerical operations and efficiently handle arrays."
      ]
    },
    {
      "cell_type": "code",
      "execution_count": 117,
      "metadata": {
        "id": "61MLzXI0LB6g"
      },
      "outputs": [
        {
          "ename": "AttributeError",
          "evalue": "partially initialized module 'pyproj' has no attribute 'network' (most likely due to a circular import)",
          "output_type": "error",
          "traceback": [
            "\u001b[0;31m---------------------------------------------------------------------------\u001b[0m",
            "\u001b[0;31mAttributeError\u001b[0m                            Traceback (most recent call last)",
            "Cell \u001b[0;32mIn[117], line 7\u001b[0m\n\u001b[1;32m      4\u001b[0m \u001b[38;5;28;01mimport\u001b[39;00m \u001b[38;5;21;01mseaborn\u001b[39;00m \u001b[38;5;28;01mas\u001b[39;00m \u001b[38;5;21;01msns\u001b[39;00m\n\u001b[1;32m      6\u001b[0m \u001b[38;5;66;03m# map\u001b[39;00m\n\u001b[0;32m----> 7\u001b[0m \u001b[38;5;28;01mimport\u001b[39;00m \u001b[38;5;21;01mpyproj\u001b[39;00m\n\u001b[1;32m      8\u001b[0m \u001b[38;5;28;01mimport\u001b[39;00m \u001b[38;5;21;01mshapely\u001b[39;00m\n\u001b[1;32m      9\u001b[0m \u001b[38;5;28;01mimport\u001b[39;00m \u001b[38;5;21;01mgeopandas\u001b[39;00m \u001b[38;5;28;01mas\u001b[39;00m \u001b[38;5;21;01mgpd\u001b[39;00m \n",
            "File \u001b[0;32m/opt/homebrew/lib/python3.10/site-packages/pyproj/__init__.py:94\u001b[0m\n\u001b[1;32m     92\u001b[0m __proj_compiled_version__ \u001b[38;5;241m=\u001b[39m PROJ_COMPILED_VERSION_STR\n\u001b[1;32m     93\u001b[0m \u001b[38;5;28;01mtry\u001b[39;00m:\n\u001b[0;32m---> 94\u001b[0m     \u001b[43mpyproj\u001b[49m\u001b[38;5;241;43m.\u001b[39;49m\u001b[43mnetwork\u001b[49m\u001b[38;5;241m.\u001b[39mset_ca_bundle_path()\n\u001b[1;32m     95\u001b[0m \u001b[38;5;28;01mexcept\u001b[39;00m DataDirError \u001b[38;5;28;01mas\u001b[39;00m err:\n\u001b[1;32m     96\u001b[0m     warnings\u001b[38;5;241m.\u001b[39mwarn(\u001b[38;5;28mstr\u001b[39m(err))\n",
            "\u001b[0;31mAttributeError\u001b[0m: partially initialized module 'pyproj' has no attribute 'network' (most likely due to a circular import)"
          ]
        }
      ],
      "source": [
        "import pandas as pd\n",
        "import numpy as np\n",
        "import matplotlib.pyplot as plt\n",
        "import seaborn as sns\n",
        "\n",
        "# map\n",
        "import pyproj\n",
        "import shapely\n",
        "import geopandas as gpd "
      ]
    },
    {
      "cell_type": "code",
      "execution_count": 50,
      "metadata": {
        "id": "moJgyLjVL06l"
      },
      "outputs": [],
      "source": [
        "# trump_df = pd.read_csv(r\"/content/sample_data/hashtag_donaldtrump.csv\",lineterminator='\\n')\n",
        "# biden_df = pd.read_csv(r\"/content/sample_data/hashtag_joebiden.csv\",lineterminator='\\n')\n",
        "trump_df = pd.read_csv(r\"/Users/gulsah/Desktop/REDI/redi_fall2024_data_circle_twitter_project/csv/hashtag_donaldtrump.csv\",lineterminator='\\n')\n",
        "biden_df = pd.read_csv(r\"/Users/gulsah/Desktop/REDI/redi_fall2024_data_circle_twitter_project/csv/hashtag_joebiden.csv\",lineterminator='\\n')"
      ]
    },
    {
      "cell_type": "code",
      "execution_count": 51,
      "metadata": {
        "colab": {
          "base_uri": "https://localhost:8080/"
        },
        "id": "gJOxguQ5hfXf",
        "outputId": "e61982c0-ef7d-476d-c8f1-13001ba1321d"
      },
      "outputs": [
        {
          "name": "stdout",
          "output_type": "stream",
          "text": [
            "<class 'pandas.core.frame.DataFrame'>\n",
            "RangeIndex: 970919 entries, 0 to 970918\n",
            "Data columns (total 21 columns):\n",
            " #   Column                Non-Null Count   Dtype  \n",
            "---  ------                --------------   -----  \n",
            " 0   created_at            970919 non-null  object \n",
            " 1   tweet_id              970919 non-null  float64\n",
            " 2   tweet                 970919 non-null  object \n",
            " 3   likes                 970919 non-null  float64\n",
            " 4   retweet_count         970919 non-null  float64\n",
            " 5   source                970043 non-null  object \n",
            " 6   user_id               970919 non-null  float64\n",
            " 7   user_name             970903 non-null  object \n",
            " 8   user_screen_name      970919 non-null  object \n",
            " 9   user_description      869653 non-null  object \n",
            " 10  user_join_date        970919 non-null  object \n",
            " 11  user_followers_count  970919 non-null  float64\n",
            " 12  user_location         675966 non-null  object \n",
            " 13  lat                   445719 non-null  float64\n",
            " 14  long                  445719 non-null  float64\n",
            " 15  city                  227187 non-null  object \n",
            " 16  country               442748 non-null  object \n",
            " 17  continent             442765 non-null  object \n",
            " 18  state                 320620 non-null  object \n",
            " 19  state_code            300425 non-null  object \n",
            " 20  collected_at          970919 non-null  object \n",
            "dtypes: float64(7), object(14)\n",
            "memory usage: 155.6+ MB\n"
          ]
        }
      ],
      "source": [
        "trump_df.info()"
      ]
    },
    {
      "cell_type": "code",
      "execution_count": 52,
      "metadata": {
        "colab": {
          "base_uri": "https://localhost:8080/"
        },
        "id": "Oj957EqphizS",
        "outputId": "ccfb84d2-2b9a-40c8-8888-77231a9eafaf"
      },
      "outputs": [
        {
          "name": "stdout",
          "output_type": "stream",
          "text": [
            "<class 'pandas.core.frame.DataFrame'>\n",
            "RangeIndex: 776886 entries, 0 to 776885\n",
            "Data columns (total 21 columns):\n",
            " #   Column                Non-Null Count   Dtype  \n",
            "---  ------                --------------   -----  \n",
            " 0   created_at            776886 non-null  object \n",
            " 1   tweet_id              776886 non-null  float64\n",
            " 2   tweet                 776886 non-null  object \n",
            " 3   likes                 776886 non-null  float64\n",
            " 4   retweet_count         776886 non-null  float64\n",
            " 5   source                776173 non-null  object \n",
            " 6   user_id               776886 non-null  float64\n",
            " 7   user_name             776868 non-null  object \n",
            " 8   user_screen_name      776886 non-null  object \n",
            " 9   user_description      694880 non-null  object \n",
            " 10  user_join_date        776886 non-null  object \n",
            " 11  user_followers_count  776886 non-null  float64\n",
            " 12  user_location         543095 non-null  object \n",
            " 13  lat                   355293 non-null  float64\n",
            " 14  long                  355293 non-null  float64\n",
            " 15  city                  186872 non-null  object \n",
            " 16  country               353779 non-null  object \n",
            " 17  continent             353797 non-null  object \n",
            " 18  state                 260195 non-null  object \n",
            " 19  state_code            244609 non-null  object \n",
            " 20  collected_at          776886 non-null  object \n",
            "dtypes: float64(7), object(14)\n",
            "memory usage: 124.5+ MB\n"
          ]
        }
      ],
      "source": [
        "biden_df.info()"
      ]
    },
    {
      "cell_type": "markdown",
      "metadata": {
        "id": "PJ0sttrRhDsq"
      },
      "source": [
        "# Data Preprocessing\n",
        "\n",
        "We categorize the features based on their data type (int, float, object) and calculate the count for each. Finally, we convert the object data type into the appropriate types as needed."
      ]
    },
    {
      "cell_type": "code",
      "execution_count": 53,
      "metadata": {
        "colab": {
          "base_uri": "https://localhost:8080/"
        },
        "id": "7TJDh0CmdScW",
        "outputId": "6289a278-a25f-42de-b9d1-98ba3c62b76e"
      },
      "outputs": [
        {
          "name": "stdout",
          "output_type": "stream",
          "text": [
            "Categorical variables: 14\n",
            "Integer variables: 0\n",
            "Float variables: 7\n"
          ]
        }
      ],
      "source": [
        "obj_ = (trump_df.dtypes == 'object')\n",
        "\n",
        "object_cols = list(obj_[obj_].index)\n",
        "\n",
        "print(\"Categorical variables:\",len(object_cols))\n",
        "\n",
        "int_ = (trump_df.dtypes == 'int')\n",
        "num_cols = list(int_[int_].index)\n",
        "print(\"Integer variables:\",len(num_cols))\n",
        "\n",
        "fl_ = (trump_df.dtypes == 'float')\n",
        "fl_cols = list(fl_[fl_].index)\n",
        "print(\"Float variables:\",len(fl_cols))"
      ]
    },
    {
      "cell_type": "code",
      "execution_count": 54,
      "metadata": {
        "colab": {
          "base_uri": "https://localhost:8080/"
        },
        "id": "4SGFW8LzdkFi",
        "outputId": "f81da0f2-c26b-4632-c25e-2bce0092fd73"
      },
      "outputs": [
        {
          "name": "stdout",
          "output_type": "stream",
          "text": [
            "Categorical variables: 14\n",
            "Integer variables: 0\n",
            "Float variables: 7\n"
          ]
        }
      ],
      "source": [
        "obj_ = (biden_df.dtypes == 'object')\n",
        "\n",
        "object_cols = list(obj_[obj_].index)\n",
        "\n",
        "print(\"Categorical variables:\",len(object_cols))\n",
        "\n",
        "int_ = (biden_df.dtypes == 'int')\n",
        "num_cols = list(int_[int_].index)\n",
        "print(\"Integer variables:\",len(num_cols))\n",
        "\n",
        "fl_ = (biden_df.dtypes == 'float')\n",
        "fl_cols = list(fl_[fl_].index)\n",
        "print(\"Float variables:\",len(fl_cols))"
      ]
    },
    {
      "cell_type": "code",
      "execution_count": 55,
      "metadata": {
        "id": "LhRHQ7EEjjuJ"
      },
      "outputs": [],
      "source": [
        "# Converting date values (data type: object) to datetime format\n",
        "trump_df['created_at'] = pd.to_datetime(trump_df['created_at'])\n",
        "biden_df['created_at'] = pd.to_datetime(biden_df['created_at'])"
      ]
    },
    {
      "cell_type": "code",
      "execution_count": 56,
      "metadata": {
        "colab": {
          "base_uri": "https://localhost:8080/"
        },
        "id": "2OLV4t1CYzRC",
        "outputId": "22865668-9906-4d34-a638-057b342c7076"
      },
      "outputs": [
        {
          "data": {
            "text/plain": [
              "(970919, 17)"
            ]
          },
          "execution_count": 56,
          "metadata": {},
          "output_type": "execute_result"
        }
      ],
      "source": [
        "# drop non necesssary columns\n",
        "new_trump_df = trump_df.drop(columns= ['tweet_id', 'lat', 'long', 'continent'])\n",
        "new_trump_df.shape"
      ]
    },
    {
      "cell_type": "code",
      "execution_count": 57,
      "metadata": {
        "colab": {
          "base_uri": "https://localhost:8080/"
        },
        "id": "UGvMmxOwZvuB",
        "outputId": "4aad4efc-509d-4dcd-c939-442bd1fb9b5a"
      },
      "outputs": [
        {
          "data": {
            "text/plain": [
              "(776886, 17)"
            ]
          },
          "execution_count": 57,
          "metadata": {},
          "output_type": "execute_result"
        }
      ],
      "source": [
        "# drop non necesssary columns\n",
        "new_biden_df = biden_df.drop(columns= ['tweet_id', 'lat', 'long', 'continent'])\n",
        "new_biden_df.shape"
      ]
    },
    {
      "cell_type": "markdown",
      "metadata": {
        "id": "KrE9vmowh64u"
      },
      "source": [
        "# Exploratory Data Analysis - Global\n",
        "\n",
        "EDA refers to the deep analysis of data so as to discover different patterns and spot anomalies. Before making inferences from data it is essential to examine all variables.\n"
      ]
    },
    {
      "cell_type": "code",
      "execution_count": 58,
      "metadata": {
        "colab": {
          "base_uri": "https://localhost:8080/",
          "height": 621
        },
        "id": "6o0pFt51Z4Lh",
        "outputId": "ff62bc40-05ed-4002-9bec-a76d0b556c3e"
      },
      "outputs": [
        {
          "data": {
            "text/plain": [
              "<function matplotlib.pyplot.show(close=None, block=None)>"
            ]
          },
          "execution_count": 58,
          "metadata": {},
          "output_type": "execute_result"
        },
        {
          "data": {
            "image/png": "[encoded data removed]",
            "text/plain": [
              "<Figure size 640x480 with 1 Axes>"
            ]
          },
          "metadata": {},
          "output_type": "display_data"
        }
      ],
      "source": [
        "# Percentage of Total Tweets - Trump vs Biden\n",
        "trump_tweet_count = new_trump_df.shape[0]\n",
        "biden_tweet_count = new_biden_df.shape[0]\n",
        "\n",
        "total_tweet_count = trump_tweet_count + biden_tweet_count\n",
        "trump_tweet_percentage = (trump_tweet_count / total_tweet_count) * 100\n",
        "biden_tweet_percentage = (biden_tweet_count / total_tweet_count) * 100\n",
        "\n",
        "tweet_percentage = {'Trump': trump_tweet_percentage, 'Biden': biden_tweet_percentage}\n",
        "\n",
        "labels = list(tweet_percentage.keys())\n",
        "values = list(tweet_percentage.values())\n",
        "\n",
        "plt.bar(labels, values, color=['red', 'blue'])\n",
        "plt.ylabel('Tweet %')\n",
        "plt.title('Percentage of Total Tweets (Global) - Trump vs Biden')\n",
        "\n",
        "for i, v in enumerate(values):\n",
        "    plt.text(i, v + 1, f'{v:.2f}%', ha='center', fontweight='bold')\n",
        "\n",
        "plt.show"
      ]
    },
    {
      "cell_type": "code",
      "execution_count": 59,
      "metadata": {
        "colab": {
          "base_uri": "https://localhost:8080/",
          "height": 554
        },
        "id": "i5TYk-BggZrw",
        "outputId": "7ba019d9-dc77-4ba0-87bb-2b8fed2995bc"
      },
      "outputs": [
        {
          "data": {
            "image/png": "[encoded data removed]",
            "text/plain": [
              "<Figure size 640x480 with 1 Axes>"
            ]
          },
          "metadata": {},
          "output_type": "display_data"
        },
        {
          "data": {
            "text/plain": [
              "<Figure size 1400x700 with 0 Axes>"
            ]
          },
          "metadata": {},
          "output_type": "display_data"
        }
      ],
      "source": [
        "# Daily Tweet Counts About Trump and Biden\n",
        "t_tweets_per_day = new_trump_df.groupby(trump_df['created_at'].dt.date).size()\n",
        "b_tweets_per_day = new_biden_df.groupby(biden_df['created_at'].dt.date).size()\n",
        "\n",
        "plt.plot(t_tweets_per_day.index, t_tweets_per_day.values, label='Trump', color='Red')\n",
        "plt.plot(b_tweets_per_day.index, b_tweets_per_day.values, label='Biden', color='Blue')\n",
        "plt.xlabel('Date')\n",
        "plt.ylabel('Tweet Counts')\n",
        "plt.title('Daily Tweet Counts About Trump and Biden (Global)')\n",
        "plt.legend()\n",
        "plt.gca().set_xticks(t_tweets_per_day.index)\n",
        "plt.gca().set_xticklabels(t_tweets_per_day.index, rotation=90)\n",
        "plt.figure(figsize=(14,7))\n",
        "plt.show()"
      ]
    },
    {
      "cell_type": "markdown",
      "metadata": {
        "id": "79X_RlzXlUo-"
      },
      "source": [
        "# Data Cleaning\n",
        "\n",
        "Data Cleaning is the way to improvise the data or remove incorrect, corrupted or irrelevant data.\n",
        "\n",
        "As in our dataset, there are some columns that are not important and irrelevant for the analysis. So, we can drop them. There are 2 approaches to dealing with empty/null values\n",
        "\n",
        "- We can easily delete the column/row (if the feature or record is not much important).\n",
        "- Filling the empty slots with mean/mode/0/NA/etc. (depending on the dataset requirement).\n",
        "- As Id Column will not be participating in any prediction. So we can Drop it."
      ]
    },
    {
      "cell_type": "code",
      "execution_count": 60,
      "metadata": {
        "colab": {
          "base_uri": "https://localhost:8080/"
        },
        "id": "CGhNVNiTlppG",
        "outputId": "2c6be1a9-8f21-4b9d-b14d-098b736c191d"
      },
      "outputs": [
        {
          "name": "stdout",
          "output_type": "stream",
          "text": [
            "Trump\n",
            " created_at               0.00\n",
            "tweet                    0.00\n",
            "likes                    0.00\n",
            "retweet_count            0.00\n",
            "source                   0.09\n",
            "user_id                  0.00\n",
            "user_name                0.00\n",
            "user_screen_name         0.00\n",
            "user_description        10.43\n",
            "user_join_date           0.00\n",
            "user_followers_count     0.00\n",
            "user_location           30.38\n",
            "city                    76.60\n",
            "country                 54.40\n",
            "state                   66.98\n",
            "state_code              69.06\n",
            "collected_at             0.00\n",
            "dtype: float64\n",
            "Biden\n",
            " created_at               0.00\n",
            "tweet                    0.00\n",
            "likes                    0.00\n",
            "retweet_count            0.00\n",
            "source                   0.09\n",
            "user_id                  0.00\n",
            "user_name                0.00\n",
            "user_screen_name         0.00\n",
            "user_description        10.56\n",
            "user_join_date           0.00\n",
            "user_followers_count     0.00\n",
            "user_location           30.09\n",
            "city                    75.95\n",
            "country                 54.46\n",
            "state                   66.51\n",
            "state_code              68.51\n",
            "collected_at             0.00\n",
            "dtype: float64\n"
          ]
        }
      ],
      "source": [
        "# Missing values\n",
        "percentage_empty_cell_trump = ((new_trump_df.isnull().sum() / trump_tweet_count)*100).round(2)\n",
        "print(\"Trump\\n\", percentage_empty_cell_trump)\n",
        "\n",
        "percentage_empty_cell_biden = ((new_biden_df.isnull().sum() / biden_tweet_count)*100).round(2)\n",
        "print(\"Biden\\n\", percentage_empty_cell_biden)\n",
        "\n",
        "# Outliers\n",
        "\n",
        "# Duplicates\n",
        "\n",
        "# Erroneous data\n",
        "\n",
        "# Inconsistencies"
      ]
    },
    {
      "cell_type": "code",
      "execution_count": 61,
      "metadata": {
        "colab": {
          "base_uri": "https://localhost:8080/"
        },
        "id": "vaSuXDYIjI7V",
        "outputId": "482e8a9a-7004-4c17-fcdc-0341e175a80d"
      },
      "outputs": [
        {
          "data": {
            "text/plain": [
              "array(['United States of America', nan, 'United Kingdom', 'Germany',\n",
              "       'United States', 'Australia', 'Costa Rica', 'Barbados', 'Cameroon',\n",
              "       'The Netherlands', 'Mexico', 'Canada', 'France', 'Peru',\n",
              "       'Argentina', 'South Korea', 'Finland', 'Mongolia', 'India',\n",
              "       'Japan', 'Turkey', 'Switzerland', 'Iran', 'Portugal', 'Ireland',\n",
              "       'Russia', 'Greece', 'Egypt', 'Ecuador', 'Colombia', 'Sri Lanka',\n",
              "       'Italy', 'China', 'Malaysia', 'Indonesia', 'Venezuela', 'Thailand',\n",
              "       'Sweden', 'Nepal', 'Bangladesh', 'Philippines',\n",
              "       'Dominican Republic', 'New Zealand', 'Chile', 'Honduras',\n",
              "       'Azerbaijan', 'Georgia', 'Spain', 'Cyprus', 'Morocco',\n",
              "       'Netherlands', 'Saudi Arabia', 'Norway', 'Singapore', 'Cuba',\n",
              "       'Niger', 'Hungary', 'Greenland', 'United Arab Emirates', 'Brazil',\n",
              "       'Uganda', 'Guatemala', 'Pakistan', 'Taiwan', 'Qatar',\n",
              "       'Afghanistan', 'South Africa', 'Nigeria', 'Slovakia', 'Guyana',\n",
              "       'Kenya', 'Iraq', 'Denmark', 'Uruguay', 'Belgium', 'Lebanon',\n",
              "       'Austria', 'Liechtenstein', 'Tunisia', 'Bosnia and Herzegovina',\n",
              "       'Iceland', 'Sudan', 'Czech Republic', 'Malta', 'Poland', 'Israel',\n",
              "       'Serbia', 'Luxembourg', 'Trinidad and Tobago', 'Ethiopia',\n",
              "       'Rwanda', 'Somalia', 'Panama', 'Ukraine', 'Kuwait', 'El Salvador',\n",
              "       'Palestinian Territory', 'Papua New Guinea', 'Nicaragua', 'Jersey',\n",
              "       'Bolivia', 'Bahrain', 'Cambodia', 'British Virgin Islands',\n",
              "       'Algeria', 'Uzbekistan', 'Kosovo', 'Albania', 'Myanmar', 'Monaco',\n",
              "       'Jamaika', 'Paraguay', 'Tanzania', 'Liberia', 'Cayman Islands',\n",
              "       'Gabon', 'Seychelles', 'Fiji', 'Laos', 'Maldives', 'Ghana',\n",
              "       'Mauritius', 'Gibraltar', 'Zimbabwe', 'Armenia', 'Latvia',\n",
              "       'Kiribati', 'Lithuania', 'Madagascar', 'The Gambia', 'Syria',\n",
              "       'Romania', 'Sierra Leone', 'Burkina Faso', 'Estonia', 'Jordan',\n",
              "       'Vietnam', 'Slovenia', 'Tajikistan', \"Côte d'Ivoire\", 'Grenada',\n",
              "       'Republic of the Congo', 'Democratic Republic of the Congo',\n",
              "       'Senegal', 'Yemen', 'Croatia', 'Congo-Brazzaville', 'Libya',\n",
              "       'North Korea', 'Tonga', 'Oman', 'Moldova', 'Haiti', 'Angola',\n",
              "       'Djibouti', 'Falkland Islands', 'The Bahamas', 'Vatican City',\n",
              "       'Montenegro', 'Bulgaria', 'Zambia', 'Suriname', 'North Macedonia',\n",
              "       'Hong Kong', 'Guinea', 'Saint Kitts and Nevis', 'Bahamas',\n",
              "       'Puerto Rico', 'Dominica', 'Vanuatu', 'Namibia', 'Kazakhstan',\n",
              "       'Belize', 'Cape Verde', 'Benin', 'Northern Mariana Islands',\n",
              "       'Congo', 'Isle of Man', 'Turks and Caicos Islands', 'Anguilla',\n",
              "       'Belarus', 'South Sudan', 'Federated States of Micronesia',\n",
              "       'Faroe Islands', 'Antigua and Barbuda', 'Samoa'], dtype=object)"
            ]
          },
          "execution_count": 61,
          "metadata": {},
          "output_type": "execute_result"
        }
      ],
      "source": [
        "# check duplicates\n",
        "\n",
        "new_trump_df['country'].unique()"
      ]
    },
    {
      "cell_type": "code",
      "execution_count": 62,
      "metadata": {
        "colab": {
          "base_uri": "https://localhost:8080/"
        },
        "id": "oERPR5syks8a",
        "outputId": "e3ca679c-cee7-4b29-c717-267c6ca07b87"
      },
      "outputs": [
        {
          "data": {
            "text/plain": [
              "array(['USA', nan, 'United Kingdom', 'Germany', 'Australia', 'Costa Rica',\n",
              "       'Barbados', 'Cameroon', 'The Netherlands', 'Mexico', 'Canada',\n",
              "       'France', 'Peru', 'Argentina', 'South Korea', 'Finland',\n",
              "       'Mongolia', 'India', 'Japan', 'Turkey', 'Switzerland', 'Iran',\n",
              "       'Portugal', 'Ireland', 'Russia', 'Greece', 'Egypt', 'Ecuador',\n",
              "       'Colombia', 'Sri Lanka', 'Italy', 'China', 'Malaysia', 'Indonesia',\n",
              "       'Venezuela', 'Thailand', 'Sweden', 'Nepal', 'Bangladesh',\n",
              "       'Philippines', 'Dominican Republic', 'New Zealand', 'Chile',\n",
              "       'Honduras', 'Azerbaijan', 'Georgia', 'Spain', 'Cyprus', 'Morocco',\n",
              "       'Netherlands', 'Saudi Arabia', 'Norway', 'Singapore', 'Cuba',\n",
              "       'Niger', 'Hungary', 'Greenland', 'United Arab Emirates', 'Brazil',\n",
              "       'Uganda', 'Guatemala', 'Pakistan', 'Taiwan', 'Qatar',\n",
              "       'Afghanistan', 'South Africa', 'Nigeria', 'Slovakia', 'Guyana',\n",
              "       'Kenya', 'Iraq', 'Denmark', 'Uruguay', 'Belgium', 'Lebanon',\n",
              "       'Austria', 'Liechtenstein', 'Tunisia', 'Bosnia and Herzegovina',\n",
              "       'Iceland', 'Sudan', 'Czech Republic', 'Malta', 'Poland', 'Israel',\n",
              "       'Serbia', 'Luxembourg', 'Trinidad and Tobago', 'Ethiopia',\n",
              "       'Rwanda', 'Somalia', 'Panama', 'Ukraine', 'Kuwait', 'El Salvador',\n",
              "       'Palestinian Territory', 'Papua New Guinea', 'Nicaragua', 'Jersey',\n",
              "       'Bolivia', 'Bahrain', 'Cambodia', 'British Virgin Islands',\n",
              "       'Algeria', 'Uzbekistan', 'Kosovo', 'Albania', 'Myanmar', 'Monaco',\n",
              "       'Jamaika', 'Paraguay', 'Tanzania', 'Liberia', 'Cayman Islands',\n",
              "       'Gabon', 'Seychelles', 'Fiji', 'Laos', 'Maldives', 'Ghana',\n",
              "       'Mauritius', 'Gibraltar', 'Zimbabwe', 'Armenia', 'Latvia',\n",
              "       'Kiribati', 'Lithuania', 'Madagascar', 'The Gambia', 'Syria',\n",
              "       'Romania', 'Sierra Leone', 'Burkina Faso', 'Estonia', 'Jordan',\n",
              "       'Vietnam', 'Slovenia', 'Tajikistan', \"Côte d'Ivoire\", 'Grenada',\n",
              "       'Republic of the Congo', 'Democratic Republic of the Congo',\n",
              "       'Senegal', 'Yemen', 'Croatia', 'Congo-Brazzaville', 'Libya',\n",
              "       'North Korea', 'Tonga', 'Oman', 'Moldova', 'Haiti', 'Angola',\n",
              "       'Djibouti', 'Falkland Islands', 'The Bahamas', 'Vatican City',\n",
              "       'Montenegro', 'Bulgaria', 'Zambia', 'Suriname', 'North Macedonia',\n",
              "       'Hong Kong', 'Guinea', 'Saint Kitts and Nevis', 'Bahamas',\n",
              "       'Puerto Rico', 'Dominica', 'Vanuatu', 'Namibia', 'Kazakhstan',\n",
              "       'Belize', 'Cape Verde', 'Benin', 'Northern Mariana Islands',\n",
              "       'Congo', 'Isle of Man', 'Turks and Caicos Islands', 'Anguilla',\n",
              "       'Belarus', 'South Sudan', 'Federated States of Micronesia',\n",
              "       'Faroe Islands', 'Antigua and Barbuda', 'Samoa'], dtype=object)"
            ]
          },
          "execution_count": 62,
          "metadata": {},
          "output_type": "execute_result"
        }
      ],
      "source": [
        "# 'United States of America', 'United States', 'nan'\n",
        "# combine 'United States of America' and 'United States'\n",
        "\n",
        "country_mapping = {\n",
        "    'United States of America': 'USA',\n",
        "    'United States': 'USA'\n",
        "}\n",
        "new_trump_df['country'] = new_trump_df['country'].replace(country_mapping)\n",
        "new_biden_df['country'] = new_biden_df['country'].replace(country_mapping)\n",
        "new_trump_df['country'].unique()"
      ]
    },
    {
      "cell_type": "code",
      "execution_count": 63,
      "metadata": {
        "colab": {
          "base_uri": "https://localhost:8080/"
        },
        "id": "2CpFEUW4pVnA",
        "outputId": "1b36d2e3-b6f1-4750-de9e-c5f73a9637d2"
      },
      "outputs": [
        {
          "name": "stdout",
          "output_type": "stream",
          "text": [
            "Number of tweets from USA: 213263\n",
            "Percentage of tweets USA/total: 12.2\n"
          ]
        }
      ],
      "source": [
        "trump_usa_count = new_trump_df[new_trump_df['country'] == 'USA'].shape[0]\n",
        "print(f\"Number of tweets from USA: {trump_usa_count}\")\n",
        "\n",
        "trump_usa_percentage = (trump_usa_count / total_tweet_count) * 100\n",
        "trump_usa_percentage = np.round(trump_usa_percentage, 2)\n",
        "print(f\"Percentage of tweets USA/total: {trump_usa_percentage}\")"
      ]
    },
    {
      "cell_type": "code",
      "execution_count": 64,
      "metadata": {
        "colab": {
          "base_uri": "https://localhost:8080/"
        },
        "id": "STE3SoSW1AO5",
        "outputId": "866fa6b7-0759-447e-f0f5-ebf60f501e02"
      },
      "outputs": [
        {
          "name": "stdout",
          "output_type": "stream",
          "text": [
            "Number of tweets from USA: 181137\n",
            "Percentage of tweets USA/total: 10.36\n"
          ]
        }
      ],
      "source": [
        "biden_usa_count = new_biden_df[new_biden_df['country'] == 'USA'].shape[0]\n",
        "print(f\"Number of tweets from USA: {biden_usa_count}\")\n",
        "\n",
        "biden_usa_percentage = (biden_usa_count / total_tweet_count) * 100\n",
        "biden_usa_percentage = np.round(biden_usa_percentage, 2)\n",
        "print(f\"Percentage of tweets USA/total: {biden_usa_percentage}\")"
      ]
    },
    {
      "cell_type": "markdown",
      "metadata": {
        "id": "e5Hw7XvP2jFP"
      },
      "source": [
        "# Exploratory Data Analysis - Only USA Users"
      ]
    },
    {
      "cell_type": "code",
      "execution_count": 65,
      "metadata": {
        "colab": {
          "base_uri": "https://localhost:8080/"
        },
        "id": "skkKTMCJ0Ir1",
        "outputId": "925d8d03-810b-4187-a165-a152de53c3d0"
      },
      "outputs": [
        {
          "data": {
            "text/plain": [
              "(213263, 17)"
            ]
          },
          "execution_count": 65,
          "metadata": {},
          "output_type": "execute_result"
        }
      ],
      "source": [
        "# Create a new DataFrame with only USA data\n",
        "usa_trump_df = new_trump_df[new_trump_df['country'] == 'USA']\n",
        "usa_trump_df.shape"
      ]
    },
    {
      "cell_type": "code",
      "execution_count": 66,
      "metadata": {
        "colab": {
          "base_uri": "https://localhost:8080/"
        },
        "id": "CY97aJtE1-Di",
        "outputId": "0c4b1442-360e-428d-9cca-b12eadfc1784"
      },
      "outputs": [
        {
          "data": {
            "text/plain": [
              "(181137, 17)"
            ]
          },
          "execution_count": 66,
          "metadata": {},
          "output_type": "execute_result"
        }
      ],
      "source": [
        "usa_biden_df = new_biden_df[new_biden_df['country'] == 'USA']\n",
        "usa_biden_df.shape"
      ]
    },
    {
      "cell_type": "code",
      "execution_count": 67,
      "metadata": {
        "colab": {
          "base_uri": "https://localhost:8080/",
          "height": 621
        },
        "id": "zitCqhWk2xEC",
        "outputId": "5ef2ec89-8e8e-4670-cb34-ca34b0a967bb"
      },
      "outputs": [
        {
          "data": {
            "text/plain": [
              "<function matplotlib.pyplot.show(close=None, block=None)>"
            ]
          },
          "execution_count": 67,
          "metadata": {},
          "output_type": "execute_result"
        },
        {
          "data": {
            "image/png": "[encoded data removed]",
            "text/plain": [
              "<Figure size 640x480 with 1 Axes>"
            ]
          },
          "metadata": {},
          "output_type": "display_data"
        }
      ],
      "source": [
        "# Percentage of Total Tweets (USA) - Trump vs Biden\n",
        "trump_tweet_count_usa = usa_trump_df.shape[0]\n",
        "biden_tweet_count_usa = usa_biden_df.shape[0]\n",
        "\n",
        "total_tweet_count_usa = trump_tweet_count_usa + biden_tweet_count_usa\n",
        "trump_tweet_percentage_usa = (trump_tweet_count_usa / total_tweet_count_usa) * 100\n",
        "biden_tweet_percentage_usa = (biden_tweet_count_usa / total_tweet_count_usa) * 100\n",
        "\n",
        "tweet_percentage_usa = {'Trump': trump_tweet_percentage_usa, 'Biden': biden_tweet_percentage_usa}\n",
        "\n",
        "labels = list(tweet_percentage_usa.keys())\n",
        "values = list(tweet_percentage_usa.values())\n",
        "\n",
        "plt.bar(labels, values, color=['red', 'blue'])\n",
        "plt.ylabel('Tweet %')\n",
        "plt.title('Percentage of Total Tweets (USA) - Trump vs Biden')\n",
        "\n",
        "for i, v in enumerate(values):\n",
        "    plt.text(i, v + 1, f'{v:.2f}%', ha='center', fontweight='bold')\n",
        "\n",
        "plt.show"
      ]
    },
    {
      "cell_type": "code",
      "execution_count": 68,
      "metadata": {
        "colab": {
          "base_uri": "https://localhost:8080/",
          "height": 554
        },
        "id": "rHIH4c3E2_aO",
        "outputId": "049dfb19-b127-4433-edea-9114dd0cefef"
      },
      "outputs": [
        {
          "data": {
            "image/png": "[encoded data removed]",
            "text/plain": [
              "<Figure size 640x480 with 1 Axes>"
            ]
          },
          "metadata": {},
          "output_type": "display_data"
        },
        {
          "data": {
            "text/plain": [
              "<Figure size 1400x700 with 0 Axes>"
            ]
          },
          "metadata": {},
          "output_type": "display_data"
        }
      ],
      "source": [
        "# Daily Tweet Counts About Trump and Biden\n",
        "t_tweets_per_day = usa_trump_df.groupby(usa_trump_df['created_at'].dt.date).size()\n",
        "b_tweets_per_day = usa_biden_df.groupby(usa_biden_df['created_at'].dt.date).size()\n",
        "\n",
        "plt.plot(t_tweets_per_day.index, t_tweets_per_day.values, label='Trump', color='Red')\n",
        "plt.plot(b_tweets_per_day.index, b_tweets_per_day.values, label='Biden', color='Blue')\n",
        "plt.xlabel('Date')\n",
        "plt.ylabel('Tweet Counts')\n",
        "plt.title('Daily Tweet Counts About Trump and Biden (USA)')\n",
        "plt.legend()\n",
        "plt.gca().set_xticks(t_tweets_per_day.index)\n",
        "plt.gca().set_xticklabels(t_tweets_per_day.index, rotation=90)\n",
        "plt.figure(figsize=(14,7))\n",
        "plt.show()"
      ]
    },
    {
      "cell_type": "code",
      "execution_count": 69,
      "metadata": {
        "colab": {
          "base_uri": "https://localhost:8080/",
          "height": 563
        },
        "id": "YRJe5qk6H3zi",
        "outputId": "4dbb63c7-79c1-4f75-e978-53d4dcc9c210"
      },
      "outputs": [
        {
          "name": "stderr",
          "output_type": "stream",
          "text": [
            "/var/folders/0m/wtx537hs0p18qyy9nvg99f300000gn/T/ipykernel_87235/2968988051.py:2: SettingWithCopyWarning: \n",
            "A value is trying to be set on a copy of a slice from a DataFrame.\n",
            "Try using .loc[row_indexer,col_indexer] = value instead\n",
            "\n",
            "See the caveats in the documentation: https://pandas.pydata.org/pandas-docs/stable/user_guide/indexing.html#returning-a-view-versus-a-copy\n",
            "  usa_trump_df.loc[:, 'tweet_hour'] = usa_trump_df['created_at'].dt.hour\n",
            "/var/folders/0m/wtx537hs0p18qyy9nvg99f300000gn/T/ipykernel_87235/2968988051.py:3: SettingWithCopyWarning: \n",
            "A value is trying to be set on a copy of a slice from a DataFrame.\n",
            "Try using .loc[row_indexer,col_indexer] = value instead\n",
            "\n",
            "See the caveats in the documentation: https://pandas.pydata.org/pandas-docs/stable/user_guide/indexing.html#returning-a-view-versus-a-copy\n",
            "  usa_biden_df.loc[:, 'tweet_hour'] = usa_biden_df['created_at'].dt.hour\n"
          ]
        },
        {
          "data": {
            "image/png": "[encoded data removed]",
            "text/plain": [
              "<Figure size 1200x600 with 1 Axes>"
            ]
          },
          "metadata": {},
          "output_type": "display_data"
        }
      ],
      "source": [
        "# Expl 2: Investigate Distribution of Hour of Tweets\n",
        "usa_trump_df.loc[:, 'tweet_hour'] = usa_trump_df['created_at'].dt.hour\n",
        "usa_biden_df.loc[:, 'tweet_hour'] = usa_biden_df['created_at'].dt.hour\n",
        "\n",
        "plt.figure(figsize=(12,6))\n",
        "\n",
        "sns.histplot(usa_trump_df['tweet_hour'], bins=24, kde=False, color='red', label='Trump', alpha=0.8)\n",
        "sns.histplot(usa_biden_df['tweet_hour'], bins=24, kde=False, color='blue', label='Biden', alpha=0.8)\n",
        "\n",
        "plt.title('Distribution of Tweets by Hour(USA): Trump vs Biden')\n",
        "plt.xlabel('Hour of Day (0-23)')\n",
        "plt.ylabel('Tweet Count')\n",
        "plt.xticks(range(0, 24))  # Show all hours on the x-axis\n",
        "plt.legend()  # Show the legend to distinguish Trump and Biden\n",
        "plt.grid(False)\n",
        "\n",
        "plt.show()"
      ]
    },
    {
      "cell_type": "code",
      "execution_count": 70,
      "metadata": {},
      "outputs": [
        {
          "name": "stdout",
          "output_type": "stream",
          "text": [
            "Trump\n",
            " created_at               0.00\n",
            "tweet                    0.00\n",
            "likes                    0.00\n",
            "retweet_count            0.00\n",
            "source                   0.01\n",
            "user_id                  0.00\n",
            "user_name                0.00\n",
            "user_screen_name         0.00\n",
            "user_description         5.84\n",
            "user_join_date           0.00\n",
            "user_followers_count     0.00\n",
            "user_location            0.00\n",
            "city                    52.19\n",
            "country                  0.00\n",
            "state                   16.12\n",
            "state_code              16.12\n",
            "collected_at             0.00\n",
            "tweet_hour               0.00\n",
            "dtype: float64\n",
            "Biden\n",
            " created_at               0.00\n",
            "tweet                    0.00\n",
            "likes                    0.00\n",
            "retweet_count            0.00\n",
            "source                   0.00\n",
            "user_id                  0.00\n",
            "user_name                0.00\n",
            "user_screen_name         0.00\n",
            "user_description         6.17\n",
            "user_join_date           0.00\n",
            "user_followers_count     0.00\n",
            "user_location            0.00\n",
            "city                    49.96\n",
            "country                  0.00\n",
            "state                   15.21\n",
            "state_code              15.21\n",
            "collected_at             0.00\n",
            "tweet_hour               0.00\n",
            "dtype: float64\n"
          ]
        }
      ],
      "source": [
        "# Missing values\n",
        "percentage_empty_cell_trump_usa = ((usa_trump_df.isnull().sum() / trump_tweet_count_usa)*100).round(2)\n",
        "print(\"Trump\\n\", percentage_empty_cell_trump_usa)\n",
        "\n",
        "percentage_empty_cell_biden_usa = ((usa_biden_df.isnull().sum() / biden_tweet_count_usa)*100).round(2)\n",
        "print(\"Biden\\n\", percentage_empty_cell_biden_usa)"
      ]
    },
    {
      "cell_type": "code",
      "execution_count": 88,
      "metadata": {},
      "outputs": [
        {
          "data": {
            "text/plain": [
              "(53,)"
            ]
          },
          "execution_count": 88,
          "metadata": {},
          "output_type": "execute_result"
        }
      ],
      "source": [
        "# Trump - tweet counts according to states\n",
        "usa_trump_grouped = usa_trump_df.groupby('state')['tweet'].count()\n",
        "usa_trump_grouped.shape"
      ]
    },
    {
      "cell_type": "code",
      "execution_count": 89,
      "metadata": {},
      "outputs": [
        {
          "data": {
            "text/plain": [
              "(54,)"
            ]
          },
          "execution_count": 89,
          "metadata": {},
          "output_type": "execute_result"
        }
      ],
      "source": [
        "# Biden - tweet counts according to states\n",
        "usa_biden_grouped = usa_biden_df.groupby('state')['tweet'].count()\n",
        "usa_biden_grouped.shape"
      ]
    },
    {
      "cell_type": "code",
      "execution_count": 102,
      "metadata": {},
      "outputs": [
        {
          "data": {
            "text/html": [
              "<div>\n",
              "<style scoped>\n",
              "    .dataframe tbody tr th:only-of-type {\n",
              "        vertical-align: middle;\n",
              "    }\n",
              "\n",
              "    .dataframe tbody tr th {\n",
              "        vertical-align: top;\n",
              "    }\n",
              "\n",
              "    .dataframe thead th {\n",
              "        text-align: right;\n",
              "    }\n",
              "</style>\n",
              "<table border=\"1\" class=\"dataframe\">\n",
              "  <thead>\n",
              "    <tr style=\"text-align: right;\">\n",
              "      <th></th>\n",
              "      <th>trump_tweets</th>\n",
              "      <th>biden_tweets</th>\n",
              "    </tr>\n",
              "    <tr>\n",
              "      <th>state</th>\n",
              "      <th></th>\n",
              "      <th></th>\n",
              "    </tr>\n",
              "  </thead>\n",
              "  <tbody>\n",
              "    <tr>\n",
              "      <th>Alabama</th>\n",
              "      <td>849</td>\n",
              "      <td>864</td>\n",
              "    </tr>\n",
              "    <tr>\n",
              "      <th>Alaska</th>\n",
              "      <td>311</td>\n",
              "      <td>429</td>\n",
              "    </tr>\n",
              "    <tr>\n",
              "      <th>Arizona</th>\n",
              "      <td>2865</td>\n",
              "      <td>3248</td>\n",
              "    </tr>\n",
              "    <tr>\n",
              "      <th>Arkansas</th>\n",
              "      <td>613</td>\n",
              "      <td>469</td>\n",
              "    </tr>\n",
              "    <tr>\n",
              "      <th>California</th>\n",
              "      <td>31149</td>\n",
              "      <td>25817</td>\n",
              "    </tr>\n",
              "    <tr>\n",
              "      <th>Colorado</th>\n",
              "      <td>3618</td>\n",
              "      <td>2687</td>\n",
              "    </tr>\n",
              "    <tr>\n",
              "      <th>Connecticut</th>\n",
              "      <td>1141</td>\n",
              "      <td>878</td>\n",
              "    </tr>\n",
              "    <tr>\n",
              "      <th>Delaware</th>\n",
              "      <td>245</td>\n",
              "      <td>331</td>\n",
              "    </tr>\n",
              "    <tr>\n",
              "      <th>District of Columbia</th>\n",
              "      <td>9684</td>\n",
              "      <td>7055</td>\n",
              "    </tr>\n",
              "    <tr>\n",
              "      <th>Florida</th>\n",
              "      <td>16559</td>\n",
              "      <td>13278</td>\n",
              "    </tr>\n",
              "    <tr>\n",
              "      <th>Georgia</th>\n",
              "      <td>2876</td>\n",
              "      <td>3186</td>\n",
              "    </tr>\n",
              "    <tr>\n",
              "      <th>Guam</th>\n",
              "      <td>4</td>\n",
              "      <td>5</td>\n",
              "    </tr>\n",
              "    <tr>\n",
              "      <th>Hawaii</th>\n",
              "      <td>706</td>\n",
              "      <td>635</td>\n",
              "    </tr>\n",
              "    <tr>\n",
              "      <th>Idaho</th>\n",
              "      <td>608</td>\n",
              "      <td>404</td>\n",
              "    </tr>\n",
              "    <tr>\n",
              "      <th>Illinois</th>\n",
              "      <td>6777</td>\n",
              "      <td>5500</td>\n",
              "    </tr>\n",
              "    <tr>\n",
              "      <th>Indiana</th>\n",
              "      <td>1556</td>\n",
              "      <td>1552</td>\n",
              "    </tr>\n",
              "    <tr>\n",
              "      <th>Iowa</th>\n",
              "      <td>880</td>\n",
              "      <td>572</td>\n",
              "    </tr>\n",
              "    <tr>\n",
              "      <th>Kansas</th>\n",
              "      <td>900</td>\n",
              "      <td>888</td>\n",
              "    </tr>\n",
              "    <tr>\n",
              "      <th>Kentucky</th>\n",
              "      <td>1484</td>\n",
              "      <td>1196</td>\n",
              "    </tr>\n",
              "    <tr>\n",
              "      <th>Louisiana</th>\n",
              "      <td>1125</td>\n",
              "      <td>1022</td>\n",
              "    </tr>\n",
              "    <tr>\n",
              "      <th>Maine</th>\n",
              "      <td>398</td>\n",
              "      <td>317</td>\n",
              "    </tr>\n",
              "    <tr>\n",
              "      <th>Maryland</th>\n",
              "      <td>2189</td>\n",
              "      <td>2069</td>\n",
              "    </tr>\n",
              "    <tr>\n",
              "      <th>Massachusetts</th>\n",
              "      <td>4719</td>\n",
              "      <td>3738</td>\n",
              "    </tr>\n",
              "    <tr>\n",
              "      <th>Michigan</th>\n",
              "      <td>3053</td>\n",
              "      <td>3074</td>\n",
              "    </tr>\n",
              "    <tr>\n",
              "      <th>Minnesota</th>\n",
              "      <td>1821</td>\n",
              "      <td>1622</td>\n",
              "    </tr>\n",
              "    <tr>\n",
              "      <th>Mississippi</th>\n",
              "      <td>241</td>\n",
              "      <td>265</td>\n",
              "    </tr>\n",
              "    <tr>\n",
              "      <th>Missouri</th>\n",
              "      <td>2303</td>\n",
              "      <td>1773</td>\n",
              "    </tr>\n",
              "    <tr>\n",
              "      <th>Montana</th>\n",
              "      <td>173</td>\n",
              "      <td>287</td>\n",
              "    </tr>\n",
              "    <tr>\n",
              "      <th>Nebraska</th>\n",
              "      <td>394</td>\n",
              "      <td>374</td>\n",
              "    </tr>\n",
              "    <tr>\n",
              "      <th>Nevada</th>\n",
              "      <td>2388</td>\n",
              "      <td>2233</td>\n",
              "    </tr>\n",
              "    <tr>\n",
              "      <th>New Hampshire</th>\n",
              "      <td>272</td>\n",
              "      <td>381</td>\n",
              "    </tr>\n",
              "    <tr>\n",
              "      <th>New Jersey</th>\n",
              "      <td>5045</td>\n",
              "      <td>3961</td>\n",
              "    </tr>\n",
              "    <tr>\n",
              "      <th>New Mexico</th>\n",
              "      <td>502</td>\n",
              "      <td>446</td>\n",
              "    </tr>\n",
              "    <tr>\n",
              "      <th>New York</th>\n",
              "      <td>22881</td>\n",
              "      <td>21005</td>\n",
              "    </tr>\n",
              "    <tr>\n",
              "      <th>North Carolina</th>\n",
              "      <td>3415</td>\n",
              "      <td>3054</td>\n",
              "    </tr>\n",
              "    <tr>\n",
              "      <th>North Dakota</th>\n",
              "      <td>483</td>\n",
              "      <td>289</td>\n",
              "    </tr>\n",
              "    <tr>\n",
              "      <th>Ohio</th>\n",
              "      <td>3871</td>\n",
              "      <td>4413</td>\n",
              "    </tr>\n",
              "    <tr>\n",
              "      <th>Oklahoma</th>\n",
              "      <td>847</td>\n",
              "      <td>806</td>\n",
              "    </tr>\n",
              "    <tr>\n",
              "      <th>Oregon</th>\n",
              "      <td>3126</td>\n",
              "      <td>2250</td>\n",
              "    </tr>\n",
              "    <tr>\n",
              "      <th>Pennsylvania</th>\n",
              "      <td>7011</td>\n",
              "      <td>5403</td>\n",
              "    </tr>\n",
              "    <tr>\n",
              "      <th>Puerto Rico</th>\n",
              "      <td>512</td>\n",
              "      <td>484</td>\n",
              "    </tr>\n",
              "    <tr>\n",
              "      <th>Rhode Island</th>\n",
              "      <td>261</td>\n",
              "      <td>234</td>\n",
              "    </tr>\n",
              "    <tr>\n",
              "      <th>South Carolina</th>\n",
              "      <td>1090</td>\n",
              "      <td>1174</td>\n",
              "    </tr>\n",
              "    <tr>\n",
              "      <th>South Dakota</th>\n",
              "      <td>75</td>\n",
              "      <td>86</td>\n",
              "    </tr>\n",
              "    <tr>\n",
              "      <th>Tennessee</th>\n",
              "      <td>2253</td>\n",
              "      <td>1993</td>\n",
              "    </tr>\n",
              "    <tr>\n",
              "      <th>Texas</th>\n",
              "      <td>16491</td>\n",
              "      <td>14191</td>\n",
              "    </tr>\n",
              "    <tr>\n",
              "      <th>Utah</th>\n",
              "      <td>917</td>\n",
              "      <td>813</td>\n",
              "    </tr>\n",
              "    <tr>\n",
              "      <th>Vermont</th>\n",
              "      <td>909</td>\n",
              "      <td>228</td>\n",
              "    </tr>\n",
              "    <tr>\n",
              "      <th>Virginia</th>\n",
              "      <td>2489</td>\n",
              "      <td>2226</td>\n",
              "    </tr>\n",
              "    <tr>\n",
              "      <th>Washington</th>\n",
              "      <td>2759</td>\n",
              "      <td>2112</td>\n",
              "    </tr>\n",
              "    <tr>\n",
              "      <th>West Virginia</th>\n",
              "      <td>300</td>\n",
              "      <td>367</td>\n",
              "    </tr>\n",
              "    <tr>\n",
              "      <th>Wisconsin</th>\n",
              "      <td>1480</td>\n",
              "      <td>1657</td>\n",
              "    </tr>\n",
              "    <tr>\n",
              "      <th>Wyoming</th>\n",
              "      <td>269</td>\n",
              "      <td>238</td>\n",
              "    </tr>\n",
              "    <tr>\n",
              "      <th>Northern Mariana Islands</th>\n",
              "      <td>0</td>\n",
              "      <td>1</td>\n",
              "    </tr>\n",
              "  </tbody>\n",
              "</table>\n",
              "</div>"
            ],
            "text/plain": [
              "                          trump_tweets  biden_tweets\n",
              "state                                               \n",
              "Alabama                            849           864\n",
              "Alaska                             311           429\n",
              "Arizona                           2865          3248\n",
              "Arkansas                           613           469\n",
              "California                       31149         25817\n",
              "Colorado                          3618          2687\n",
              "Connecticut                       1141           878\n",
              "Delaware                           245           331\n",
              "District of Columbia              9684          7055\n",
              "Florida                          16559         13278\n",
              "Georgia                           2876          3186\n",
              "Guam                                 4             5\n",
              "Hawaii                             706           635\n",
              "Idaho                              608           404\n",
              "Illinois                          6777          5500\n",
              "Indiana                           1556          1552\n",
              "Iowa                               880           572\n",
              "Kansas                             900           888\n",
              "Kentucky                          1484          1196\n",
              "Louisiana                         1125          1022\n",
              "Maine                              398           317\n",
              "Maryland                          2189          2069\n",
              "Massachusetts                     4719          3738\n",
              "Michigan                          3053          3074\n",
              "Minnesota                         1821          1622\n",
              "Mississippi                        241           265\n",
              "Missouri                          2303          1773\n",
              "Montana                            173           287\n",
              "Nebraska                           394           374\n",
              "Nevada                            2388          2233\n",
              "New Hampshire                      272           381\n",
              "New Jersey                        5045          3961\n",
              "New Mexico                         502           446\n",
              "New York                         22881         21005\n",
              "North Carolina                    3415          3054\n",
              "North Dakota                       483           289\n",
              "Ohio                              3871          4413\n",
              "Oklahoma                           847           806\n",
              "Oregon                            3126          2250\n",
              "Pennsylvania                      7011          5403\n",
              "Puerto Rico                        512           484\n",
              "Rhode Island                       261           234\n",
              "South Carolina                    1090          1174\n",
              "South Dakota                        75            86\n",
              "Tennessee                         2253          1993\n",
              "Texas                            16491         14191\n",
              "Utah                               917           813\n",
              "Vermont                            909           228\n",
              "Virginia                          2489          2226\n",
              "Washington                        2759          2112\n",
              "West Virginia                      300           367\n",
              "Wisconsin                         1480          1657\n",
              "Wyoming                            269           238\n",
              "Northern Mariana Islands             0             1"
            ]
          },
          "execution_count": 102,
          "metadata": {},
          "output_type": "execute_result"
        }
      ],
      "source": [
        "usa_combined_df = pd.merge(usa_trump_grouped, usa_biden_grouped, on='state', how='outer')\n",
        "usa_combined_df = usa_combined_df.rename(columns={'tweet_x': 'trump_tweets', 'tweet_y': 'biden_tweets'})\n",
        "# NaN fill with  0\n",
        "usa_combined_df.fillna(0, inplace=True)\n",
        "\n",
        "usa_combined_df.astype(int)"
      ]
    },
    {
      "cell_type": "code",
      "execution_count": 116,
      "metadata": {},
      "outputs": [
        {
          "ename": "AttributeError",
          "evalue": "partially initialized module 'pyproj' has no attribute 'network' (most likely due to a circular import)",
          "output_type": "error",
          "traceback": [
            "\u001b[0;31m---------------------------------------------------------------------------\u001b[0m",
            "\u001b[0;31mAttributeError\u001b[0m                            Traceback (most recent call last)",
            "Cell \u001b[0;32mIn[116], line 2\u001b[0m\n\u001b[1;32m      1\u001b[0m \u001b[38;5;66;03m# Load the US states shapefile (replace with your actual path)\u001b[39;00m\n\u001b[0;32m----> 2\u001b[0m usa_map \u001b[38;5;241m=\u001b[39m \u001b[43mgpd\u001b[49m\u001b[38;5;241;43m.\u001b[39;49m\u001b[43mread_file\u001b[49m\u001b[43m(\u001b[49m\u001b[38;5;124;43m'\u001b[39;49m\u001b[38;5;124;43m/Users/gulsah/Desktop/REDI/redi_fall2024_data_circle_twitter_project/ne_110m_admin_1_states_provinces_lines/ne_110m_admin_1_states_provinces_lines.shp\u001b[39;49m\u001b[38;5;124;43m'\u001b[39;49m\u001b[43m)\u001b[49m\n\u001b[1;32m      4\u001b[0m \u001b[38;5;66;03m# Check the first few rows to confirm it loaded correctly\u001b[39;00m\n\u001b[1;32m      5\u001b[0m \u001b[38;5;28mprint\u001b[39m(usa_map\u001b[38;5;241m.\u001b[39mhead())\n",
            "File \u001b[0;32m/opt/homebrew/lib/python3.10/site-packages/geopandas/io/file.py:278\u001b[0m, in \u001b[0;36m_read_file\u001b[0;34m(filename, bbox, mask, columns, rows, engine, **kwargs)\u001b[0m\n\u001b[1;32m    190\u001b[0m \u001b[38;5;28;01mdef\u001b[39;00m \u001b[38;5;21m_read_file\u001b[39m(\n\u001b[1;32m    191\u001b[0m     filename, bbox\u001b[38;5;241m=\u001b[39m\u001b[38;5;28;01mNone\u001b[39;00m, mask\u001b[38;5;241m=\u001b[39m\u001b[38;5;28;01mNone\u001b[39;00m, columns\u001b[38;5;241m=\u001b[39m\u001b[38;5;28;01mNone\u001b[39;00m, rows\u001b[38;5;241m=\u001b[39m\u001b[38;5;28;01mNone\u001b[39;00m, engine\u001b[38;5;241m=\u001b[39m\u001b[38;5;28;01mNone\u001b[39;00m, \u001b[38;5;241m*\u001b[39m\u001b[38;5;241m*\u001b[39mkwargs\n\u001b[1;32m    192\u001b[0m ):\n\u001b[1;32m    193\u001b[0m \u001b[38;5;250m    \u001b[39m\u001b[38;5;124;03m\"\"\"\u001b[39;00m\n\u001b[1;32m    194\u001b[0m \u001b[38;5;124;03m    Returns a GeoDataFrame from a file or URL.\u001b[39;00m\n\u001b[1;32m    195\u001b[0m \n\u001b[0;32m   (...)\u001b[0m\n\u001b[1;32m    276\u001b[0m \n\u001b[1;32m    277\u001b[0m \u001b[38;5;124;03m    \"\"\"\u001b[39;00m\n\u001b[0;32m--> 278\u001b[0m     engine \u001b[38;5;241m=\u001b[39m \u001b[43m_check_engine\u001b[49m\u001b[43m(\u001b[49m\u001b[43mengine\u001b[49m\u001b[43m,\u001b[49m\u001b[43m \u001b[49m\u001b[38;5;124;43m\"\u001b[39;49m\u001b[38;5;124;43m'\u001b[39;49m\u001b[38;5;124;43mread_file\u001b[39;49m\u001b[38;5;124;43m'\u001b[39;49m\u001b[38;5;124;43m function\u001b[39;49m\u001b[38;5;124;43m\"\u001b[39;49m\u001b[43m)\u001b[49m\n\u001b[1;32m    280\u001b[0m     filename \u001b[38;5;241m=\u001b[39m _expand_user(filename)\n\u001b[1;32m    282\u001b[0m     from_bytes \u001b[38;5;241m=\u001b[39m \u001b[38;5;28;01mFalse\u001b[39;00m\n",
            "File \u001b[0;32m/opt/homebrew/lib/python3.10/site-packages/geopandas/io/file.py:124\u001b[0m, in \u001b[0;36m_check_engine\u001b[0;34m(engine, func)\u001b[0m\n\u001b[1;32m    121\u001b[0m     engine \u001b[38;5;241m=\u001b[39m geopandas\u001b[38;5;241m.\u001b[39moptions\u001b[38;5;241m.\u001b[39mio_engine\n\u001b[1;32m    123\u001b[0m \u001b[38;5;28;01mif\u001b[39;00m engine \u001b[38;5;129;01mis\u001b[39;00m \u001b[38;5;28;01mNone\u001b[39;00m:\n\u001b[0;32m--> 124\u001b[0m     \u001b[43m_import_pyogrio\u001b[49m\u001b[43m(\u001b[49m\u001b[43m)\u001b[49m\n\u001b[1;32m    125\u001b[0m     \u001b[38;5;28;01mif\u001b[39;00m pyogrio:\n\u001b[1;32m    126\u001b[0m         engine \u001b[38;5;241m=\u001b[39m \u001b[38;5;124m\"\u001b[39m\u001b[38;5;124mpyogrio\u001b[39m\u001b[38;5;124m\"\u001b[39m\n",
            "File \u001b[0;32m/opt/homebrew/lib/python3.10/site-packages/geopandas/io/file.py:77\u001b[0m, in \u001b[0;36m_import_pyogrio\u001b[0;34m()\u001b[0m\n\u001b[1;32m     75\u001b[0m \u001b[38;5;28;01mif\u001b[39;00m pyogrio \u001b[38;5;129;01mis\u001b[39;00m \u001b[38;5;28;01mNone\u001b[39;00m:\n\u001b[1;32m     76\u001b[0m     \u001b[38;5;28;01mtry\u001b[39;00m:\n\u001b[0;32m---> 77\u001b[0m         \u001b[38;5;28;01mimport\u001b[39;00m \u001b[38;5;21;01mpyogrio\u001b[39;00m\n\u001b[1;32m     79\u001b[0m     \u001b[38;5;28;01mexcept\u001b[39;00m \u001b[38;5;167;01mImportError\u001b[39;00m \u001b[38;5;28;01mas\u001b[39;00m err:\n\u001b[1;32m     80\u001b[0m         pyogrio \u001b[38;5;241m=\u001b[39m \u001b[38;5;28;01mFalse\u001b[39;00m\n",
            "File \u001b[0;32m/opt/homebrew/lib/python3.10/site-packages/pyogrio/__init__.py:28\u001b[0m\n\u001b[1;32m     11\u001b[0m \u001b[38;5;28;01mfrom\u001b[39;00m \u001b[38;5;21;01mpyogrio\u001b[39;00m\u001b[38;5;21;01m.\u001b[39;00m\u001b[38;5;21;01m_version\u001b[39;00m \u001b[38;5;28;01mimport\u001b[39;00m get_versions\n\u001b[1;32m     12\u001b[0m \u001b[38;5;28;01mfrom\u001b[39;00m \u001b[38;5;21;01mpyogrio\u001b[39;00m\u001b[38;5;21;01m.\u001b[39;00m\u001b[38;5;21;01mcore\u001b[39;00m \u001b[38;5;28;01mimport\u001b[39;00m (\n\u001b[1;32m     13\u001b[0m     __gdal_geos_version__,\n\u001b[1;32m     14\u001b[0m     __gdal_version__,\n\u001b[0;32m   (...)\u001b[0m\n\u001b[1;32m     26\u001b[0m     vsi_unlink,\n\u001b[1;32m     27\u001b[0m )\n\u001b[0;32m---> 28\u001b[0m \u001b[38;5;28;01mfrom\u001b[39;00m \u001b[38;5;21;01mpyogrio\u001b[39;00m\u001b[38;5;21;01m.\u001b[39;00m\u001b[38;5;21;01mgeopandas\u001b[39;00m \u001b[38;5;28;01mimport\u001b[39;00m read_dataframe, write_dataframe\n\u001b[1;32m     29\u001b[0m \u001b[38;5;28;01mfrom\u001b[39;00m \u001b[38;5;21;01mpyogrio\u001b[39;00m\u001b[38;5;21;01m.\u001b[39;00m\u001b[38;5;21;01mraw\u001b[39;00m \u001b[38;5;28;01mimport\u001b[39;00m open_arrow, read_arrow, write_arrow\n\u001b[1;32m     31\u001b[0m __version__ \u001b[38;5;241m=\u001b[39m get_versions()[\u001b[38;5;124m\"\u001b[39m\u001b[38;5;124mversion\u001b[39m\u001b[38;5;124m\"\u001b[39m]\n",
            "File \u001b[0;32m/opt/homebrew/lib/python3.10/site-packages/pyogrio/geopandas.py:8\u001b[0m\n\u001b[1;32m      4\u001b[0m \u001b[38;5;28;01mimport\u001b[39;00m \u001b[38;5;21;01mwarnings\u001b[39;00m\n\u001b[1;32m      6\u001b[0m \u001b[38;5;28;01mimport\u001b[39;00m \u001b[38;5;21;01mnumpy\u001b[39;00m \u001b[38;5;28;01mas\u001b[39;00m \u001b[38;5;21;01mnp\u001b[39;00m\n\u001b[0;32m----> 8\u001b[0m \u001b[38;5;28;01mfrom\u001b[39;00m \u001b[38;5;21;01mpyogrio\u001b[39;00m\u001b[38;5;21;01m.\u001b[39;00m\u001b[38;5;21;01m_compat\u001b[39;00m \u001b[38;5;28;01mimport\u001b[39;00m HAS_GEOPANDAS, PANDAS_GE_15, PANDAS_GE_20, PANDAS_GE_22\n\u001b[1;32m      9\u001b[0m \u001b[38;5;28;01mfrom\u001b[39;00m \u001b[38;5;21;01mpyogrio\u001b[39;00m\u001b[38;5;21;01m.\u001b[39;00m\u001b[38;5;21;01merrors\u001b[39;00m \u001b[38;5;28;01mimport\u001b[39;00m DataSourceError\n\u001b[1;32m     10\u001b[0m \u001b[38;5;28;01mfrom\u001b[39;00m \u001b[38;5;21;01mpyogrio\u001b[39;00m\u001b[38;5;21;01m.\u001b[39;00m\u001b[38;5;21;01mraw\u001b[39;00m \u001b[38;5;28;01mimport\u001b[39;00m (\n\u001b[1;32m     11\u001b[0m     DRIVERS_NO_MIXED_DIMENSIONS,\n\u001b[1;32m     12\u001b[0m     DRIVERS_NO_MIXED_SINGLE_MULTI,\n\u001b[0;32m   (...)\u001b[0m\n\u001b[1;32m     16\u001b[0m     write,\n\u001b[1;32m     17\u001b[0m )\n",
            "File \u001b[0;32m/opt/homebrew/lib/python3.10/site-packages/pyogrio/_compat.py:12\u001b[0m\n\u001b[1;32m      9\u001b[0m     pyarrow \u001b[38;5;241m=\u001b[39m \u001b[38;5;28;01mNone\u001b[39;00m\n\u001b[1;32m     11\u001b[0m \u001b[38;5;28;01mtry\u001b[39;00m:\n\u001b[0;32m---> 12\u001b[0m     \u001b[38;5;28;01mimport\u001b[39;00m \u001b[38;5;21;01mpyproj\u001b[39;00m\n\u001b[1;32m     13\u001b[0m \u001b[38;5;28;01mexcept\u001b[39;00m \u001b[38;5;167;01mImportError\u001b[39;00m:\n\u001b[1;32m     14\u001b[0m     pyproj \u001b[38;5;241m=\u001b[39m \u001b[38;5;28;01mNone\u001b[39;00m\n",
            "File \u001b[0;32m/opt/homebrew/lib/python3.10/site-packages/pyproj/__init__.py:94\u001b[0m\n\u001b[1;32m     92\u001b[0m __proj_compiled_version__ \u001b[38;5;241m=\u001b[39m PROJ_COMPILED_VERSION_STR\n\u001b[1;32m     93\u001b[0m \u001b[38;5;28;01mtry\u001b[39;00m:\n\u001b[0;32m---> 94\u001b[0m     \u001b[43mpyproj\u001b[49m\u001b[38;5;241;43m.\u001b[39;49m\u001b[43mnetwork\u001b[49m\u001b[38;5;241m.\u001b[39mset_ca_bundle_path()\n\u001b[1;32m     95\u001b[0m \u001b[38;5;28;01mexcept\u001b[39;00m DataDirError \u001b[38;5;28;01mas\u001b[39;00m err:\n\u001b[1;32m     96\u001b[0m     warnings\u001b[38;5;241m.\u001b[39mwarn(\u001b[38;5;28mstr\u001b[39m(err))\n",
            "\u001b[0;31mAttributeError\u001b[0m: partially initialized module 'pyproj' has no attribute 'network' (most likely due to a circular import)"
          ]
        }
      ],
      "source": [
        "# Load the US states shapefile (replace with your actual path)\n",
        "usa_map = gpd.read_file('/Users/gulsah/Desktop/REDI/redi_fall2024_data_circle_twitter_project/ne_110m_admin_1_states_provinces_lines/ne_110m_admin_1_states_provinces_lines.shp')\n",
        "\n",
        "# Check the first few rows to confirm it loaded correctly\n",
        "print(usa_map.head())\n",
        "\n",
        "# Filter to include only the USA\n",
        "usa_map = usa_map[usa_map['adm0_a3'] == 'USA']\n"
      ]
    },
    {
      "cell_type": "code",
      "execution_count": 27,
      "metadata": {},
      "outputs": [
        {
          "data": {
            "text/html": [
              "<div>\n",
              "<style scoped>\n",
              "    .dataframe tbody tr th:only-of-type {\n",
              "        vertical-align: middle;\n",
              "    }\n",
              "\n",
              "    .dataframe tbody tr th {\n",
              "        vertical-align: top;\n",
              "    }\n",
              "\n",
              "    .dataframe thead th {\n",
              "        text-align: right;\n",
              "    }\n",
              "</style>\n",
              "<table border=\"1\" class=\"dataframe\">\n",
              "  <thead>\n",
              "    <tr style=\"text-align: right;\">\n",
              "      <th></th>\n",
              "      <th>created_at</th>\n",
              "      <th>tweet</th>\n",
              "      <th>likes</th>\n",
              "      <th>retweet_count</th>\n",
              "      <th>source</th>\n",
              "      <th>user_id</th>\n",
              "      <th>user_name</th>\n",
              "      <th>user_screen_name</th>\n",
              "      <th>user_description</th>\n",
              "      <th>user_join_date</th>\n",
              "      <th>user_followers_count</th>\n",
              "      <th>user_location</th>\n",
              "      <th>city</th>\n",
              "      <th>country</th>\n",
              "      <th>state</th>\n",
              "      <th>collected_at</th>\n",
              "    </tr>\n",
              "  </thead>\n",
              "  <tbody>\n",
              "    <tr>\n",
              "      <th>786530</th>\n",
              "      <td>2020-11-06 16:31:06</td>\n",
              "      <td>America Assembled!🇺🇸🎉\\n\\n@JoeBiden @KamalaHarr...</td>\n",
              "      <td>74084.0</td>\n",
              "      <td>20491.0</td>\n",
              "      <td>Twitter for iPhone</td>\n",
              "      <td>38362690.0</td>\n",
              "      <td>John Handem Piette</td>\n",
              "      <td>JohnHPiette</td>\n",
              "      <td>Director, Editor, Actor living the dream in Lo...</td>\n",
              "      <td>2009-05-07 03:55:16</td>\n",
              "      <td>8033.0</td>\n",
              "      <td>Brooklyn, NY</td>\n",
              "      <td>New York</td>\n",
              "      <td>USA</td>\n",
              "      <td>New York</td>\n",
              "      <td>2020-11-07 11:20:11.759392</td>\n",
              "    </tr>\n",
              "    <tr>\n",
              "      <th>746692</th>\n",
              "      <td>2020-11-06 05:13:42</td>\n",
              "      <td>LOOKS LIKE VOTER FRAUD TO ME!\\n\\n#ElectionResu...</td>\n",
              "      <td>19862.0</td>\n",
              "      <td>9572.0</td>\n",
              "      <td>Twitter for iPhone</td>\n",
              "      <td>47293791.0</td>\n",
              "      <td>Terrence K. Williams</td>\n",
              "      <td>w_terrence</td>\n",
              "      <td>Actor• Comedian• My New Book “ From The Foster...</td>\n",
              "      <td>2009-06-15 08:46:13</td>\n",
              "      <td>1197194.0</td>\n",
              "      <td>United States</td>\n",
              "      <td>NaN</td>\n",
              "      <td>USA</td>\n",
              "      <td>NaN</td>\n",
              "      <td>2020-11-07 11:33:50.050458</td>\n",
              "    </tr>\n",
              "    <tr>\n",
              "      <th>548591</th>\n",
              "      <td>2020-11-04 04:12:07</td>\n",
              "      <td>How did they call California for Joe Biden 8 m...</td>\n",
              "      <td>35449.0</td>\n",
              "      <td>6629.0</td>\n",
              "      <td>Twitter for iPhone</td>\n",
              "      <td>47293791.0</td>\n",
              "      <td>Terrence K. Williams</td>\n",
              "      <td>w_terrence</td>\n",
              "      <td>Actor• Comedian• My New Book “ From The Foster...</td>\n",
              "      <td>2009-06-15 08:46:13</td>\n",
              "      <td>1190959.0</td>\n",
              "      <td>United States</td>\n",
              "      <td>NaN</td>\n",
              "      <td>USA</td>\n",
              "      <td>NaN</td>\n",
              "      <td>2020-11-05 12:16:23.532171</td>\n",
              "    </tr>\n",
              "    <tr>\n",
              "      <th>245075</th>\n",
              "      <td>2020-10-26 00:08:24</td>\n",
              "      <td>The White House still has not released a healt...</td>\n",
              "      <td>25987.0</td>\n",
              "      <td>5986.0</td>\n",
              "      <td>Twitter for iPhone</td>\n",
              "      <td>212674482.0</td>\n",
              "      <td>Paula Reid</td>\n",
              "      <td>PaulaReidCBS</td>\n",
              "      <td>@CBSNews White House Correspondent. Lawyer. re...</td>\n",
              "      <td>2010-11-06 18:45:01</td>\n",
              "      <td>318675.0</td>\n",
              "      <td>Washington DC</td>\n",
              "      <td>Washington</td>\n",
              "      <td>USA</td>\n",
              "      <td>District of Columbia</td>\n",
              "      <td>2020-10-27 17:38:26.623985</td>\n",
              "    </tr>\n",
              "    <tr>\n",
              "      <th>21248</th>\n",
              "      <td>2020-10-16 01:24:00</td>\n",
              "      <td>Why can’t @NBCNews choose a professional, seas...</td>\n",
              "      <td>14420.0</td>\n",
              "      <td>5324.0</td>\n",
              "      <td>Twitter for iPad</td>\n",
              "      <td>633966700.0</td>\n",
              "      <td>Alana Stewart</td>\n",
              "      <td>AlanaKStewart</td>\n",
              "      <td>Actress, Filmmaker, NY Times Best-Selling Auth...</td>\n",
              "      <td>2012-07-12 18:57:57</td>\n",
              "      <td>41105.0</td>\n",
              "      <td>Beverly Hills, California</td>\n",
              "      <td>NaN</td>\n",
              "      <td>USA</td>\n",
              "      <td>California</td>\n",
              "      <td>2020-10-21 02:14:32.673552166</td>\n",
              "    </tr>\n",
              "  </tbody>\n",
              "</table>\n",
              "</div>"
            ],
            "text/plain": [
              "                created_at                                              tweet  \\\n",
              "786530 2020-11-06 16:31:06  America Assembled!🇺🇸🎉\\n\\n@JoeBiden @KamalaHarr...   \n",
              "746692 2020-11-06 05:13:42  LOOKS LIKE VOTER FRAUD TO ME!\\n\\n#ElectionResu...   \n",
              "548591 2020-11-04 04:12:07  How did they call California for Joe Biden 8 m...   \n",
              "245075 2020-10-26 00:08:24  The White House still has not released a healt...   \n",
              "21248  2020-10-16 01:24:00  Why can’t @NBCNews choose a professional, seas...   \n",
              "\n",
              "          likes  retweet_count              source      user_id  \\\n",
              "786530  74084.0        20491.0  Twitter for iPhone   38362690.0   \n",
              "746692  19862.0         9572.0  Twitter for iPhone   47293791.0   \n",
              "548591  35449.0         6629.0  Twitter for iPhone   47293791.0   \n",
              "245075  25987.0         5986.0  Twitter for iPhone  212674482.0   \n",
              "21248   14420.0         5324.0    Twitter for iPad  633966700.0   \n",
              "\n",
              "                   user_name user_screen_name  \\\n",
              "786530    John Handem Piette      JohnHPiette   \n",
              "746692  Terrence K. Williams       w_terrence   \n",
              "548591  Terrence K. Williams       w_terrence   \n",
              "245075            Paula Reid     PaulaReidCBS   \n",
              "21248          Alana Stewart    AlanaKStewart   \n",
              "\n",
              "                                         user_description  \\\n",
              "786530  Director, Editor, Actor living the dream in Lo...   \n",
              "746692  Actor• Comedian• My New Book “ From The Foster...   \n",
              "548591  Actor• Comedian• My New Book “ From The Foster...   \n",
              "245075  @CBSNews White House Correspondent. Lawyer. re...   \n",
              "21248   Actress, Filmmaker, NY Times Best-Selling Auth...   \n",
              "\n",
              "             user_join_date  user_followers_count              user_location  \\\n",
              "786530  2009-05-07 03:55:16                8033.0               Brooklyn, NY   \n",
              "746692  2009-06-15 08:46:13             1197194.0              United States   \n",
              "548591  2009-06-15 08:46:13             1190959.0              United States   \n",
              "245075  2010-11-06 18:45:01              318675.0              Washington DC   \n",
              "21248   2012-07-12 18:57:57               41105.0  Beverly Hills, California   \n",
              "\n",
              "              city country                 state  \\\n",
              "786530    New York     USA              New York   \n",
              "746692         NaN     USA                   NaN   \n",
              "548591         NaN     USA                   NaN   \n",
              "245075  Washington     USA  District of Columbia   \n",
              "21248          NaN     USA            California   \n",
              "\n",
              "                         collected_at  \n",
              "786530     2020-11-07 11:20:11.759392  \n",
              "746692     2020-11-07 11:33:50.050458  \n",
              "548591     2020-11-05 12:16:23.532171  \n",
              "245075     2020-10-27 17:38:26.623985  \n",
              "21248   2020-10-21 02:14:32.673552166  "
            ]
          },
          "execution_count": 27,
          "metadata": {},
          "output_type": "execute_result"
        }
      ],
      "source": [
        "# Expl 4: Investigate The Most Retweeted Tweets - Trump\n",
        "usa_trump_df_retweet = usa_trump_df.sort_values(by='retweet_count', ascending=False)\n",
        "usa_trump_df_retweet.head(5)"
      ]
    },
    {
      "cell_type": "code",
      "execution_count": 63,
      "metadata": {},
      "outputs": [
        {
          "data": {
            "text/html": [
              "<div>\n",
              "<style scoped>\n",
              "    .dataframe tbody tr th:only-of-type {\n",
              "        vertical-align: middle;\n",
              "    }\n",
              "\n",
              "    .dataframe tbody tr th {\n",
              "        vertical-align: top;\n",
              "    }\n",
              "\n",
              "    .dataframe thead th {\n",
              "        text-align: right;\n",
              "    }\n",
              "</style>\n",
              "<table border=\"1\" class=\"dataframe\">\n",
              "  <thead>\n",
              "    <tr style=\"text-align: right;\">\n",
              "      <th></th>\n",
              "      <th>created_at</th>\n",
              "      <th>tweet</th>\n",
              "      <th>likes</th>\n",
              "      <th>retweet_count</th>\n",
              "      <th>source</th>\n",
              "      <th>user_id</th>\n",
              "      <th>user_name</th>\n",
              "      <th>user_screen_name</th>\n",
              "      <th>user_description</th>\n",
              "      <th>user_join_date</th>\n",
              "      <th>user_followers_count</th>\n",
              "      <th>user_location</th>\n",
              "      <th>city</th>\n",
              "      <th>country</th>\n",
              "      <th>state</th>\n",
              "      <th>collected_at</th>\n",
              "      <th>tweet_hour</th>\n",
              "    </tr>\n",
              "  </thead>\n",
              "  <tbody>\n",
              "    <tr>\n",
              "      <th>536374</th>\n",
              "      <td>2020-11-06 16:31:06</td>\n",
              "      <td>America Assembled!🇺🇸🎉\\n\\n@JoeBiden @KamalaHarr...</td>\n",
              "      <td>74528.0</td>\n",
              "      <td>20615.0</td>\n",
              "      <td>Twitter for iPhone</td>\n",
              "      <td>38362690.0</td>\n",
              "      <td>John Handem Piette</td>\n",
              "      <td>JohnHPiette</td>\n",
              "      <td>Director, Editor, Actor living the dream in Lo...</td>\n",
              "      <td>2009-05-07 03:55:16</td>\n",
              "      <td>8080.0</td>\n",
              "      <td>Brooklyn, NY</td>\n",
              "      <td>New York</td>\n",
              "      <td>USA</td>\n",
              "      <td>New York</td>\n",
              "      <td>2020-11-07 11:40:57.159884</td>\n",
              "      <td>16</td>\n",
              "    </tr>\n",
              "    <tr>\n",
              "      <th>20432</th>\n",
              "      <td>2020-10-16 03:17:29</td>\n",
              "      <td>Tonight a woman in the audience of Trump's tow...</td>\n",
              "      <td>165702.0</td>\n",
              "      <td>17652.0</td>\n",
              "      <td>Twitter Web App</td>\n",
              "      <td>139823781.0</td>\n",
              "      <td>bettemidler</td>\n",
              "      <td>BetteMidler</td>\n",
              "      <td>Kindness is the language which the deaf can he...</td>\n",
              "      <td>2010-05-03 20:00:36</td>\n",
              "      <td>2028360.0</td>\n",
              "      <td>New York, NY</td>\n",
              "      <td>New York</td>\n",
              "      <td>USA</td>\n",
              "      <td>New York</td>\n",
              "      <td>2020-10-21 02:59:56.181023787</td>\n",
              "      <td>3</td>\n",
              "    </tr>\n",
              "    <tr>\n",
              "      <th>196612</th>\n",
              "      <td>2020-10-27 03:16:27</td>\n",
              "      <td>Are you there, God? It's me, Bette. I'm so sca...</td>\n",
              "      <td>59403.0</td>\n",
              "      <td>7489.0</td>\n",
              "      <td>Twitter Web App</td>\n",
              "      <td>139823781.0</td>\n",
              "      <td>bettemidler</td>\n",
              "      <td>BetteMidler</td>\n",
              "      <td>“It is wrong for a man to say he is certain of...</td>\n",
              "      <td>2010-05-03 20:00:36</td>\n",
              "      <td>2030864.0</td>\n",
              "      <td>New York, NY</td>\n",
              "      <td>New York</td>\n",
              "      <td>USA</td>\n",
              "      <td>New York</td>\n",
              "      <td>2020-10-28 14:26:55.372958</td>\n",
              "      <td>3</td>\n",
              "    </tr>\n",
              "    <tr>\n",
              "      <th>281536</th>\n",
              "      <td>2020-11-01 20:41:36</td>\n",
              "      <td>Are you there, God? It's me again, Bette. We'r...</td>\n",
              "      <td>45540.0</td>\n",
              "      <td>6133.0</td>\n",
              "      <td>Twitter Web App</td>\n",
              "      <td>139823781.0</td>\n",
              "      <td>bettemidler</td>\n",
              "      <td>BetteMidler</td>\n",
              "      <td>“The great tragedy of science - the slaying of...</td>\n",
              "      <td>2010-05-03 20:00:36</td>\n",
              "      <td>2033999.0</td>\n",
              "      <td>New York, NY</td>\n",
              "      <td>New York</td>\n",
              "      <td>USA</td>\n",
              "      <td>New York</td>\n",
              "      <td>2020-11-02 16:55:48.022888</td>\n",
              "      <td>20</td>\n",
              "    </tr>\n",
              "    <tr>\n",
              "      <th>16735</th>\n",
              "      <td>2020-10-16 01:04:10</td>\n",
              "      <td>OMG!  #JoeBiden speaks like a human being!  An...</td>\n",
              "      <td>43399.0</td>\n",
              "      <td>6038.0</td>\n",
              "      <td>Twitter for iPhone</td>\n",
              "      <td>139823781.0</td>\n",
              "      <td>bettemidler</td>\n",
              "      <td>BetteMidler</td>\n",
              "      <td>Kindness is the language which the deaf can he...</td>\n",
              "      <td>2010-05-03 20:00:36</td>\n",
              "      <td>2028360.0</td>\n",
              "      <td>New York, NY</td>\n",
              "      <td>New York</td>\n",
              "      <td>USA</td>\n",
              "      <td>New York</td>\n",
              "      <td>2020-10-21 02:27:33.810885161</td>\n",
              "      <td>1</td>\n",
              "    </tr>\n",
              "  </tbody>\n",
              "</table>\n",
              "</div>"
            ],
            "text/plain": [
              "                created_at                                              tweet  \\\n",
              "536374 2020-11-06 16:31:06  America Assembled!🇺🇸🎉\\n\\n@JoeBiden @KamalaHarr...   \n",
              "20432  2020-10-16 03:17:29  Tonight a woman in the audience of Trump's tow...   \n",
              "196612 2020-10-27 03:16:27  Are you there, God? It's me, Bette. I'm so sca...   \n",
              "281536 2020-11-01 20:41:36  Are you there, God? It's me again, Bette. We'r...   \n",
              "16735  2020-10-16 01:04:10  OMG!  #JoeBiden speaks like a human being!  An...   \n",
              "\n",
              "           likes  retweet_count              source      user_id  \\\n",
              "536374   74528.0        20615.0  Twitter for iPhone   38362690.0   \n",
              "20432   165702.0        17652.0     Twitter Web App  139823781.0   \n",
              "196612   59403.0         7489.0     Twitter Web App  139823781.0   \n",
              "281536   45540.0         6133.0     Twitter Web App  139823781.0   \n",
              "16735    43399.0         6038.0  Twitter for iPhone  139823781.0   \n",
              "\n",
              "                 user_name user_screen_name  \\\n",
              "536374  John Handem Piette      JohnHPiette   \n",
              "20432          bettemidler      BetteMidler   \n",
              "196612         bettemidler      BetteMidler   \n",
              "281536         bettemidler      BetteMidler   \n",
              "16735          bettemidler      BetteMidler   \n",
              "\n",
              "                                         user_description  \\\n",
              "536374  Director, Editor, Actor living the dream in Lo...   \n",
              "20432   Kindness is the language which the deaf can he...   \n",
              "196612  “It is wrong for a man to say he is certain of...   \n",
              "281536  “The great tragedy of science - the slaying of...   \n",
              "16735   Kindness is the language which the deaf can he...   \n",
              "\n",
              "             user_join_date  user_followers_count user_location      city  \\\n",
              "536374  2009-05-07 03:55:16                8080.0  Brooklyn, NY  New York   \n",
              "20432   2010-05-03 20:00:36             2028360.0  New York, NY  New York   \n",
              "196612  2010-05-03 20:00:36             2030864.0  New York, NY  New York   \n",
              "281536  2010-05-03 20:00:36             2033999.0  New York, NY  New York   \n",
              "16735   2010-05-03 20:00:36             2028360.0  New York, NY  New York   \n",
              "\n",
              "       country     state                   collected_at  tweet_hour  \n",
              "536374     USA  New York     2020-11-07 11:40:57.159884          16  \n",
              "20432      USA  New York  2020-10-21 02:59:56.181023787           3  \n",
              "196612     USA  New York     2020-10-28 14:26:55.372958           3  \n",
              "281536     USA  New York     2020-11-02 16:55:48.022888          20  \n",
              "16735      USA  New York  2020-10-21 02:27:33.810885161           1  "
            ]
          },
          "execution_count": 63,
          "metadata": {},
          "output_type": "execute_result"
        }
      ],
      "source": [
        "# Expl 4: Investigate The Most Retweeted Tweets - Biden\n",
        "usa_biden_df_retweet = usa_biden_df.sort_values(by='retweet_count', ascending=False)\n",
        "usa_biden_df_retweet.head(5)"
      ]
    },
    {
      "cell_type": "code",
      "execution_count": 64,
      "metadata": {},
      "outputs": [
        {
          "data": {
            "text/html": [
              "<div>\n",
              "<style scoped>\n",
              "    .dataframe tbody tr th:only-of-type {\n",
              "        vertical-align: middle;\n",
              "    }\n",
              "\n",
              "    .dataframe tbody tr th {\n",
              "        vertical-align: top;\n",
              "    }\n",
              "\n",
              "    .dataframe thead th {\n",
              "        text-align: right;\n",
              "    }\n",
              "</style>\n",
              "<table border=\"1\" class=\"dataframe\">\n",
              "  <thead>\n",
              "    <tr style=\"text-align: right;\">\n",
              "      <th></th>\n",
              "      <th>created_at</th>\n",
              "      <th>tweet</th>\n",
              "      <th>likes</th>\n",
              "      <th>retweet_count</th>\n",
              "      <th>source</th>\n",
              "      <th>user_id</th>\n",
              "      <th>user_name</th>\n",
              "      <th>user_screen_name</th>\n",
              "      <th>user_description</th>\n",
              "      <th>user_join_date</th>\n",
              "      <th>user_followers_count</th>\n",
              "      <th>user_location</th>\n",
              "      <th>city</th>\n",
              "      <th>country</th>\n",
              "      <th>state</th>\n",
              "      <th>collected_at</th>\n",
              "      <th>tweet_hour</th>\n",
              "    </tr>\n",
              "  </thead>\n",
              "  <tbody>\n",
              "    <tr>\n",
              "      <th>786530</th>\n",
              "      <td>2020-11-06 16:31:06</td>\n",
              "      <td>America Assembled!🇺🇸🎉\\n\\n@JoeBiden @KamalaHarr...</td>\n",
              "      <td>74084.0</td>\n",
              "      <td>20491.0</td>\n",
              "      <td>Twitter for iPhone</td>\n",
              "      <td>38362690.0</td>\n",
              "      <td>John Handem Piette</td>\n",
              "      <td>JohnHPiette</td>\n",
              "      <td>Director, Editor, Actor living the dream in Lo...</td>\n",
              "      <td>2009-05-07 03:55:16</td>\n",
              "      <td>8033.0</td>\n",
              "      <td>Brooklyn, NY</td>\n",
              "      <td>New York</td>\n",
              "      <td>USA</td>\n",
              "      <td>New York</td>\n",
              "      <td>2020-11-07 11:20:11.759392</td>\n",
              "      <td>16</td>\n",
              "    </tr>\n",
              "    <tr>\n",
              "      <th>548591</th>\n",
              "      <td>2020-11-04 04:12:07</td>\n",
              "      <td>How did they call California for Joe Biden 8 m...</td>\n",
              "      <td>35449.0</td>\n",
              "      <td>6629.0</td>\n",
              "      <td>Twitter for iPhone</td>\n",
              "      <td>47293791.0</td>\n",
              "      <td>Terrence K. Williams</td>\n",
              "      <td>w_terrence</td>\n",
              "      <td>Actor• Comedian• My New Book “ From The Foster...</td>\n",
              "      <td>2009-06-15 08:46:13</td>\n",
              "      <td>1190959.0</td>\n",
              "      <td>United States</td>\n",
              "      <td>NaN</td>\n",
              "      <td>USA</td>\n",
              "      <td>NaN</td>\n",
              "      <td>2020-11-05 12:16:23.532171</td>\n",
              "      <td>4</td>\n",
              "    </tr>\n",
              "    <tr>\n",
              "      <th>245075</th>\n",
              "      <td>2020-10-26 00:08:24</td>\n",
              "      <td>The White House still has not released a healt...</td>\n",
              "      <td>25987.0</td>\n",
              "      <td>5986.0</td>\n",
              "      <td>Twitter for iPhone</td>\n",
              "      <td>212674482.0</td>\n",
              "      <td>Paula Reid</td>\n",
              "      <td>PaulaReidCBS</td>\n",
              "      <td>@CBSNews White House Correspondent. Lawyer. re...</td>\n",
              "      <td>2010-11-06 18:45:01</td>\n",
              "      <td>318675.0</td>\n",
              "      <td>Washington DC</td>\n",
              "      <td>Washington</td>\n",
              "      <td>USA</td>\n",
              "      <td>District of Columbia</td>\n",
              "      <td>2020-10-27 17:38:26.623985</td>\n",
              "      <td>0</td>\n",
              "    </tr>\n",
              "    <tr>\n",
              "      <th>818751</th>\n",
              "      <td>2020-11-07 04:36:44</td>\n",
              "      <td>#trump wants to throw out military ballots?  W...</td>\n",
              "      <td>23225.0</td>\n",
              "      <td>1851.0</td>\n",
              "      <td>Twitter for iPhone</td>\n",
              "      <td>139823781.0</td>\n",
              "      <td>bettemidler</td>\n",
              "      <td>BetteMidler</td>\n",
              "      <td>It’s today!</td>\n",
              "      <td>2010-05-03 20:00:36</td>\n",
              "      <td>2042681.0</td>\n",
              "      <td>New York, NY</td>\n",
              "      <td>New York</td>\n",
              "      <td>USA</td>\n",
              "      <td>New York</td>\n",
              "      <td>2020-11-08 10:59:25.539439</td>\n",
              "      <td>4</td>\n",
              "    </tr>\n",
              "    <tr>\n",
              "      <th>544652</th>\n",
              "      <td>2020-11-04 03:33:23</td>\n",
              "      <td>Blacks for Trump 2020 \\n\\nWe showed up for him...</td>\n",
              "      <td>23037.0</td>\n",
              "      <td>2652.0</td>\n",
              "      <td>Twitter for iPhone</td>\n",
              "      <td>47293791.0</td>\n",
              "      <td>Terrence K. Williams</td>\n",
              "      <td>w_terrence</td>\n",
              "      <td>Actor• Comedian• My New Book “ From The Foster...</td>\n",
              "      <td>2009-06-15 08:46:13</td>\n",
              "      <td>1190960.0</td>\n",
              "      <td>United States</td>\n",
              "      <td>NaN</td>\n",
              "      <td>USA</td>\n",
              "      <td>NaN</td>\n",
              "      <td>2020-11-05 12:17:12.559484</td>\n",
              "      <td>3</td>\n",
              "    </tr>\n",
              "  </tbody>\n",
              "</table>\n",
              "</div>"
            ],
            "text/plain": [
              "                created_at                                              tweet  \\\n",
              "786530 2020-11-06 16:31:06  America Assembled!🇺🇸🎉\\n\\n@JoeBiden @KamalaHarr...   \n",
              "548591 2020-11-04 04:12:07  How did they call California for Joe Biden 8 m...   \n",
              "245075 2020-10-26 00:08:24  The White House still has not released a healt...   \n",
              "818751 2020-11-07 04:36:44  #trump wants to throw out military ballots?  W...   \n",
              "544652 2020-11-04 03:33:23  Blacks for Trump 2020 \\n\\nWe showed up for him...   \n",
              "\n",
              "          likes  retweet_count              source      user_id  \\\n",
              "786530  74084.0        20491.0  Twitter for iPhone   38362690.0   \n",
              "548591  35449.0         6629.0  Twitter for iPhone   47293791.0   \n",
              "245075  25987.0         5986.0  Twitter for iPhone  212674482.0   \n",
              "818751  23225.0         1851.0  Twitter for iPhone  139823781.0   \n",
              "544652  23037.0         2652.0  Twitter for iPhone   47293791.0   \n",
              "\n",
              "                   user_name user_screen_name  \\\n",
              "786530    John Handem Piette      JohnHPiette   \n",
              "548591  Terrence K. Williams       w_terrence   \n",
              "245075            Paula Reid     PaulaReidCBS   \n",
              "818751           bettemidler      BetteMidler   \n",
              "544652  Terrence K. Williams       w_terrence   \n",
              "\n",
              "                                         user_description  \\\n",
              "786530  Director, Editor, Actor living the dream in Lo...   \n",
              "548591  Actor• Comedian• My New Book “ From The Foster...   \n",
              "245075  @CBSNews White House Correspondent. Lawyer. re...   \n",
              "818751                                        It’s today!   \n",
              "544652  Actor• Comedian• My New Book “ From The Foster...   \n",
              "\n",
              "             user_join_date  user_followers_count  user_location        city  \\\n",
              "786530  2009-05-07 03:55:16                8033.0   Brooklyn, NY    New York   \n",
              "548591  2009-06-15 08:46:13             1190959.0  United States         NaN   \n",
              "245075  2010-11-06 18:45:01              318675.0  Washington DC  Washington   \n",
              "818751  2010-05-03 20:00:36             2042681.0   New York, NY    New York   \n",
              "544652  2009-06-15 08:46:13             1190960.0  United States         NaN   \n",
              "\n",
              "       country                 state                collected_at  tweet_hour  \n",
              "786530     USA              New York  2020-11-07 11:20:11.759392          16  \n",
              "548591     USA                   NaN  2020-11-05 12:16:23.532171           4  \n",
              "245075     USA  District of Columbia  2020-10-27 17:38:26.623985           0  \n",
              "818751     USA              New York  2020-11-08 10:59:25.539439           4  \n",
              "544652     USA                   NaN  2020-11-05 12:17:12.559484           3  "
            ]
          },
          "execution_count": 64,
          "metadata": {},
          "output_type": "execute_result"
        }
      ],
      "source": [
        "# Expl 6: Investigate The Most Liked Tweets - Trump\n",
        "usa_trump_df_like = usa_trump_df.sort_values(by='likes', ascending=False)\n",
        "usa_trump_df_like.head(5)"
      ]
    },
    {
      "cell_type": "code",
      "execution_count": 65,
      "metadata": {},
      "outputs": [
        {
          "data": {
            "text/html": [
              "<div>\n",
              "<style scoped>\n",
              "    .dataframe tbody tr th:only-of-type {\n",
              "        vertical-align: middle;\n",
              "    }\n",
              "\n",
              "    .dataframe tbody tr th {\n",
              "        vertical-align: top;\n",
              "    }\n",
              "\n",
              "    .dataframe thead th {\n",
              "        text-align: right;\n",
              "    }\n",
              "</style>\n",
              "<table border=\"1\" class=\"dataframe\">\n",
              "  <thead>\n",
              "    <tr style=\"text-align: right;\">\n",
              "      <th></th>\n",
              "      <th>created_at</th>\n",
              "      <th>tweet</th>\n",
              "      <th>likes</th>\n",
              "      <th>retweet_count</th>\n",
              "      <th>source</th>\n",
              "      <th>user_id</th>\n",
              "      <th>user_name</th>\n",
              "      <th>user_screen_name</th>\n",
              "      <th>user_description</th>\n",
              "      <th>user_join_date</th>\n",
              "      <th>user_followers_count</th>\n",
              "      <th>user_location</th>\n",
              "      <th>city</th>\n",
              "      <th>country</th>\n",
              "      <th>state</th>\n",
              "      <th>collected_at</th>\n",
              "      <th>tweet_hour</th>\n",
              "    </tr>\n",
              "  </thead>\n",
              "  <tbody>\n",
              "    <tr>\n",
              "      <th>20432</th>\n",
              "      <td>2020-10-16 03:17:29</td>\n",
              "      <td>Tonight a woman in the audience of Trump's tow...</td>\n",
              "      <td>165702.0</td>\n",
              "      <td>17652.0</td>\n",
              "      <td>Twitter Web App</td>\n",
              "      <td>139823781.0</td>\n",
              "      <td>bettemidler</td>\n",
              "      <td>BetteMidler</td>\n",
              "      <td>Kindness is the language which the deaf can he...</td>\n",
              "      <td>2010-05-03 20:00:36</td>\n",
              "      <td>2028360.0</td>\n",
              "      <td>New York, NY</td>\n",
              "      <td>New York</td>\n",
              "      <td>USA</td>\n",
              "      <td>New York</td>\n",
              "      <td>2020-10-21 02:59:56.181023787</td>\n",
              "      <td>3</td>\n",
              "    </tr>\n",
              "    <tr>\n",
              "      <th>536374</th>\n",
              "      <td>2020-11-06 16:31:06</td>\n",
              "      <td>America Assembled!🇺🇸🎉\\n\\n@JoeBiden @KamalaHarr...</td>\n",
              "      <td>74528.0</td>\n",
              "      <td>20615.0</td>\n",
              "      <td>Twitter for iPhone</td>\n",
              "      <td>38362690.0</td>\n",
              "      <td>John Handem Piette</td>\n",
              "      <td>JohnHPiette</td>\n",
              "      <td>Director, Editor, Actor living the dream in Lo...</td>\n",
              "      <td>2009-05-07 03:55:16</td>\n",
              "      <td>8080.0</td>\n",
              "      <td>Brooklyn, NY</td>\n",
              "      <td>New York</td>\n",
              "      <td>USA</td>\n",
              "      <td>New York</td>\n",
              "      <td>2020-11-07 11:40:57.159884</td>\n",
              "      <td>16</td>\n",
              "    </tr>\n",
              "    <tr>\n",
              "      <th>196612</th>\n",
              "      <td>2020-10-27 03:16:27</td>\n",
              "      <td>Are you there, God? It's me, Bette. I'm so sca...</td>\n",
              "      <td>59403.0</td>\n",
              "      <td>7489.0</td>\n",
              "      <td>Twitter Web App</td>\n",
              "      <td>139823781.0</td>\n",
              "      <td>bettemidler</td>\n",
              "      <td>BetteMidler</td>\n",
              "      <td>“It is wrong for a man to say he is certain of...</td>\n",
              "      <td>2010-05-03 20:00:36</td>\n",
              "      <td>2030864.0</td>\n",
              "      <td>New York, NY</td>\n",
              "      <td>New York</td>\n",
              "      <td>USA</td>\n",
              "      <td>New York</td>\n",
              "      <td>2020-10-28 14:26:55.372958</td>\n",
              "      <td>3</td>\n",
              "    </tr>\n",
              "    <tr>\n",
              "      <th>713542</th>\n",
              "      <td>2020-11-08 03:25:28</td>\n",
              "      <td>Wonderful speeches tonight by President and Vi...</td>\n",
              "      <td>59345.0</td>\n",
              "      <td>2838.0</td>\n",
              "      <td>Twitter for iPhone</td>\n",
              "      <td>139823781.0</td>\n",
              "      <td>bettemidler</td>\n",
              "      <td>BetteMidler</td>\n",
              "      <td>\"It is curious that physical courage should be...</td>\n",
              "      <td>2010-05-03 20:00:36</td>\n",
              "      <td>2043747.0</td>\n",
              "      <td>New York, NY</td>\n",
              "      <td>New York</td>\n",
              "      <td>USA</td>\n",
              "      <td>New York</td>\n",
              "      <td>2020-11-09 18:30:31.505110</td>\n",
              "      <td>3</td>\n",
              "    </tr>\n",
              "    <tr>\n",
              "      <th>281536</th>\n",
              "      <td>2020-11-01 20:41:36</td>\n",
              "      <td>Are you there, God? It's me again, Bette. We'r...</td>\n",
              "      <td>45540.0</td>\n",
              "      <td>6133.0</td>\n",
              "      <td>Twitter Web App</td>\n",
              "      <td>139823781.0</td>\n",
              "      <td>bettemidler</td>\n",
              "      <td>BetteMidler</td>\n",
              "      <td>“The great tragedy of science - the slaying of...</td>\n",
              "      <td>2010-05-03 20:00:36</td>\n",
              "      <td>2033999.0</td>\n",
              "      <td>New York, NY</td>\n",
              "      <td>New York</td>\n",
              "      <td>USA</td>\n",
              "      <td>New York</td>\n",
              "      <td>2020-11-02 16:55:48.022888</td>\n",
              "      <td>20</td>\n",
              "    </tr>\n",
              "  </tbody>\n",
              "</table>\n",
              "</div>"
            ],
            "text/plain": [
              "                created_at                                              tweet  \\\n",
              "20432  2020-10-16 03:17:29  Tonight a woman in the audience of Trump's tow...   \n",
              "536374 2020-11-06 16:31:06  America Assembled!🇺🇸🎉\\n\\n@JoeBiden @KamalaHarr...   \n",
              "196612 2020-10-27 03:16:27  Are you there, God? It's me, Bette. I'm so sca...   \n",
              "713542 2020-11-08 03:25:28  Wonderful speeches tonight by President and Vi...   \n",
              "281536 2020-11-01 20:41:36  Are you there, God? It's me again, Bette. We'r...   \n",
              "\n",
              "           likes  retweet_count              source      user_id  \\\n",
              "20432   165702.0        17652.0     Twitter Web App  139823781.0   \n",
              "536374   74528.0        20615.0  Twitter for iPhone   38362690.0   \n",
              "196612   59403.0         7489.0     Twitter Web App  139823781.0   \n",
              "713542   59345.0         2838.0  Twitter for iPhone  139823781.0   \n",
              "281536   45540.0         6133.0     Twitter Web App  139823781.0   \n",
              "\n",
              "                 user_name user_screen_name  \\\n",
              "20432          bettemidler      BetteMidler   \n",
              "536374  John Handem Piette      JohnHPiette   \n",
              "196612         bettemidler      BetteMidler   \n",
              "713542         bettemidler      BetteMidler   \n",
              "281536         bettemidler      BetteMidler   \n",
              "\n",
              "                                         user_description  \\\n",
              "20432   Kindness is the language which the deaf can he...   \n",
              "536374  Director, Editor, Actor living the dream in Lo...   \n",
              "196612  “It is wrong for a man to say he is certain of...   \n",
              "713542  \"It is curious that physical courage should be...   \n",
              "281536  “The great tragedy of science - the slaying of...   \n",
              "\n",
              "             user_join_date  user_followers_count user_location      city  \\\n",
              "20432   2010-05-03 20:00:36             2028360.0  New York, NY  New York   \n",
              "536374  2009-05-07 03:55:16                8080.0  Brooklyn, NY  New York   \n",
              "196612  2010-05-03 20:00:36             2030864.0  New York, NY  New York   \n",
              "713542  2010-05-03 20:00:36             2043747.0  New York, NY  New York   \n",
              "281536  2010-05-03 20:00:36             2033999.0  New York, NY  New York   \n",
              "\n",
              "       country     state                   collected_at  tweet_hour  \n",
              "20432      USA  New York  2020-10-21 02:59:56.181023787           3  \n",
              "536374     USA  New York     2020-11-07 11:40:57.159884          16  \n",
              "196612     USA  New York     2020-10-28 14:26:55.372958           3  \n",
              "713542     USA  New York     2020-11-09 18:30:31.505110           3  \n",
              "281536     USA  New York     2020-11-02 16:55:48.022888          20  "
            ]
          },
          "execution_count": 65,
          "metadata": {},
          "output_type": "execute_result"
        }
      ],
      "source": [
        "# Expl 6: Investigate The Most Liked Tweets - Biden\n",
        "usa_biden_df_like = usa_biden_df.sort_values(by='likes', ascending=False)\n",
        "usa_biden_df_like.head(5)"
      ]
    },
    {
      "cell_type": "code",
      "execution_count": null,
      "metadata": {},
      "outputs": [],
      "source": []
    }
  ],
  "metadata": {
    "colab": {
      "authorship_tag": "ABX9TyPC9MG318lQz8MwwU0KdXup",
      "include_colab_link": true,
      "provenance": []
    },
    "kernelspec": {
      "display_name": "Python 3",
      "name": "python3"
    },
    "language_info": {
      "codemirror_mode": {
        "name": "ipython",
        "version": 3
      },
      "file_extension": ".py",
      "mimetype": "text/x-python",
      "name": "python",
      "nbconvert_exporter": "python",
      "pygments_lexer": "ipython3",
      "version": "3.10.8"
    }
  },
  "nbformat": 4,
  "nbformat_minor": 0
}
