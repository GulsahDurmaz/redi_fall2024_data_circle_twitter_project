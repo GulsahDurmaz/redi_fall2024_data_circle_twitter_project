{
  "nbformat": 4,
  "nbformat_minor": 0,
  "metadata": {
    "colab": {
      "provenance": [],
      "authorship_tag": "ABX9TyOCrpWg7UJGdbJ+Q4pS0ypP",
      "include_colab_link": true
    },
    "kernelspec": {
      "name": "python3",
      "display_name": "Python 3"
    },
    "language_info": {
      "name": "python"
    }
  },
  "cells": [
    {
      "cell_type": "markdown",
      "metadata": {
        "id": "view-in-github",
        "colab_type": "text"
      },
      "source": [
        "<a href=\"https://colab.research.google.com/github/GulsahDurmaz/redi_fall2024_data_circle_twitter_project/blob/main/Data_Circle_US_Election_2020_Tweets.ipynb\" target=\"_parent\"><img src=\"https://colab.research.google.com/assets/colab-badge.svg\" alt=\"Open In Colab\"/></a>"
      ]
    },
    {
      "cell_type": "markdown",
      "source": [
        "## Data Set"
      ],
      "metadata": {
        "id": "lzzxDOjCgvWE"
      }
    },
    {
      "cell_type": "markdown",
      "source": [
        "### Context\n",
        "\n",
        "The 2020 US election is set for **November 3, 2020**, and its global impact will be significant, regardless of the winner. After reading two relevant papers ([linked here](#) and [here](#)), I was inspired to conduct my own sentiment analysis.\n",
        "\n",
        "### Content\n",
        "\n",
        "Tweets were collected using the Twitter API `statuses_lookup` and `snsscrape` for specific keywords. The original goal was to update the dataset daily to cover the period from **October 15 to November 4, 2020**.\n",
        "\n",
        "- **Added on November 6, 2020**: As the election events continue, I decided to keep updating the dataset until at least the end of November 6.\n",
        "- **Added on November 8, 2020**: One final version will include tweets up until the end of November 8.\n",
        "\n",
        "### Data Source and Acknowledgment\n",
        "\n",
        "The data and content described here are originally from **MANCH HUI**'s Kaggle profile. This information was adapted from their dataset, and can be found at their [Kaggle profile](https://www.kaggle.com/manchunhui). All credit for the dataset collection and updates goes to them.\n",
        "\n",
        "\n",
        "\n",
        "You can download the dataset from [this](https://www.kaggle.com/datasets/manchunhui/us-election-2020-tweets/data) link.\n",
        "\n",
        "The dataset contains 21 features :\n",
        "\n",
        "| No  | Column Name          | Description                                              |\n",
        "|-----|----------------------|----------------------------------------------------------|\n",
        "| 1   | created_at           | Date and time of tweet creation                          |\n",
        "| 2   | tweet_id             | Unique ID of the tweet                                   |\n",
        "| 3   | tweet                | Full tweet text                                          |\n",
        "| 4   | likes                | Number of likes                                          |\n",
        "| 5   | retweet_count        | Number of retweets                                       |\n",
        "| 6   | source               | Utility used to post the tweet                           |\n",
        "| 7   | user_id              | User ID of tweet creator                                 |\n",
        "| 8   | user_name            | Username of tweet creator                                |\n",
        "| 9   | user_screen_name     | Screen name of tweet creator                             |\n",
        "| 10  | user_description     | Description of self by tweet creator                     |\n",
        "| 11  | user_join_date       | Join date of tweet creator                               |\n",
        "| 12  | user_followers_count | Followers count of tweet creator                         |\n",
        "| 13  | user_location        | Location given on tweet creator's profile                |\n",
        "| 14  | lat                  | Latitude parsed from user_location                       |\n",
        "| 15  | long                 | Longitude parsed from user_location                      |\n",
        "| 16  | city                 | City parsed from user_location                           |\n",
        "| 17  | country              | Country parsed from user_location                        |\n",
        "| 18  | state                | State parsed from user_location                          |\n",
        "| 19  | state_code           | State code parsed from user_location                     |\n",
        "| 20  | collected_at         | Date and time tweet data was mined from Twitter          |\n"
      ],
      "metadata": {
        "id": "E8FGYTxxeBDY"
      }
    },
    {
      "cell_type": "markdown",
      "source": [
        "# Importing Libraries and Dataset\n",
        "\n",
        "Here we are using:\n",
        "\n",
        "- **Pandas** – To load the Dataframe\n",
        "- **Matplotlib** – To visualize the data features i.e. barplot\n",
        "- **Seaborn** – To see the correlation between features using heatmap\n",
        "- **NumPy** – To perform numerical operations and efficiently handle arrays."
      ],
      "metadata": {
        "id": "lsxMe6WhgoCG"
      }
    },
    {
      "cell_type": "code",
      "execution_count": 24,
      "metadata": {
        "id": "61MLzXI0LB6g"
      },
      "outputs": [],
      "source": [
        "import pandas as pd\n",
        "import numpy as np\n",
        "import matplotlib.pyplot as plt\n",
        "import seaborn as sns"
      ]
    },
    {
      "cell_type": "code",
      "source": [
        "trump_df = pd.read_csv(r\"/content/sample_data/hashtag_donaldtrump.csv\",lineterminator='\\n')\n",
        "biden_df = pd.read_csv(r\"/content/sample_data/hashtag_joebiden.csv\",lineterminator='\\n')"
      ],
      "metadata": {
        "id": "moJgyLjVL06l"
      },
      "execution_count": 4,
      "outputs": []
    },
    {
      "cell_type": "code",
      "source": [
        "trump_df.info()"
      ],
      "metadata": {
        "colab": {
          "base_uri": "https://localhost:8080/"
        },
        "id": "gJOxguQ5hfXf",
        "outputId": "e61982c0-ef7d-476d-c8f1-13001ba1321d"
      },
      "execution_count": 5,
      "outputs": [
        {
          "output_type": "stream",
          "name": "stdout",
          "text": [
            "<class 'pandas.core.frame.DataFrame'>\n",
            "RangeIndex: 970919 entries, 0 to 970918\n",
            "Data columns (total 21 columns):\n",
            " #   Column                Non-Null Count   Dtype  \n",
            "---  ------                --------------   -----  \n",
            " 0   created_at            970919 non-null  object \n",
            " 1   tweet_id              970919 non-null  float64\n",
            " 2   tweet                 970919 non-null  object \n",
            " 3   likes                 970919 non-null  float64\n",
            " 4   retweet_count         970919 non-null  float64\n",
            " 5   source                970043 non-null  object \n",
            " 6   user_id               970919 non-null  float64\n",
            " 7   user_name             970897 non-null  object \n",
            " 8   user_screen_name      970919 non-null  object \n",
            " 9   user_description      869651 non-null  object \n",
            " 10  user_join_date        970919 non-null  object \n",
            " 11  user_followers_count  970919 non-null  float64\n",
            " 12  user_location         675957 non-null  object \n",
            " 13  lat                   445719 non-null  float64\n",
            " 14  long                  445719 non-null  float64\n",
            " 15  city                  227187 non-null  object \n",
            " 16  country               442748 non-null  object \n",
            " 17  continent             442765 non-null  object \n",
            " 18  state                 320620 non-null  object \n",
            " 19  state_code            300425 non-null  object \n",
            " 20  collected_at          970919 non-null  object \n",
            "dtypes: float64(7), object(14)\n",
            "memory usage: 155.6+ MB\n"
          ]
        }
      ]
    },
    {
      "cell_type": "code",
      "source": [
        "biden_df.info()"
      ],
      "metadata": {
        "colab": {
          "base_uri": "https://localhost:8080/"
        },
        "id": "Oj957EqphizS",
        "outputId": "4f6ffbdb-d9a3-45ab-887c-1f8fcdf7fd7e"
      },
      "execution_count": 6,
      "outputs": [
        {
          "output_type": "stream",
          "name": "stdout",
          "text": [
            "<class 'pandas.core.frame.DataFrame'>\n",
            "RangeIndex: 776886 entries, 0 to 776885\n",
            "Data columns (total 21 columns):\n",
            " #   Column                Non-Null Count   Dtype  \n",
            "---  ------                --------------   -----  \n",
            " 0   created_at            776886 non-null  object \n",
            " 1   tweet_id              776886 non-null  float64\n",
            " 2   tweet                 776886 non-null  object \n",
            " 3   likes                 776886 non-null  float64\n",
            " 4   retweet_count         776886 non-null  float64\n",
            " 5   source                776173 non-null  object \n",
            " 6   user_id               776886 non-null  float64\n",
            " 7   user_name             776861 non-null  object \n",
            " 8   user_screen_name      776886 non-null  object \n",
            " 9   user_description      694877 non-null  object \n",
            " 10  user_join_date        776886 non-null  object \n",
            " 11  user_followers_count  776886 non-null  float64\n",
            " 12  user_location         543092 non-null  object \n",
            " 13  lat                   355293 non-null  float64\n",
            " 14  long                  355293 non-null  float64\n",
            " 15  city                  186872 non-null  object \n",
            " 16  country               353779 non-null  object \n",
            " 17  continent             353797 non-null  object \n",
            " 18  state                 260195 non-null  object \n",
            " 19  state_code            244609 non-null  object \n",
            " 20  collected_at          776886 non-null  object \n",
            "dtypes: float64(7), object(14)\n",
            "memory usage: 124.5+ MB\n"
          ]
        }
      ]
    },
    {
      "cell_type": "markdown",
      "source": [
        "# Data Preprocessing\n",
        "\n",
        "We categorize the features based on their data type (int, float, object) and calculate the count for each. Finally, we convert the object data type into the appropriate types as needed."
      ],
      "metadata": {
        "id": "PJ0sttrRhDsq"
      }
    },
    {
      "cell_type": "code",
      "source": [
        "obj_ = (trump_df.dtypes == 'object')\n",
        "\n",
        "object_cols = list(obj_[obj_].index)\n",
        "\n",
        "print(\"Categorical variables:\",len(object_cols))\n",
        "\n",
        "int_ = (trump_df.dtypes == 'int')\n",
        "num_cols = list(int_[int_].index)\n",
        "print(\"Integer variables:\",len(num_cols))\n",
        "\n",
        "fl_ = (trump_df.dtypes == 'float')\n",
        "fl_cols = list(fl_[fl_].index)\n",
        "print(\"Float variables:\",len(fl_cols))"
      ],
      "metadata": {
        "colab": {
          "base_uri": "https://localhost:8080/"
        },
        "id": "7TJDh0CmdScW",
        "outputId": "c2223461-db15-4da4-a94c-c00099921f29"
      },
      "execution_count": 7,
      "outputs": [
        {
          "output_type": "stream",
          "name": "stdout",
          "text": [
            "Categorical variables: 14\n",
            "Integer variables: 0\n",
            "Float variables: 7\n"
          ]
        }
      ]
    },
    {
      "cell_type": "code",
      "source": [
        "obj_ = (biden_df.dtypes == 'object')\n",
        "\n",
        "object_cols = list(obj_[obj_].index)\n",
        "\n",
        "print(\"Categorical variables:\",len(object_cols))\n",
        "\n",
        "int_ = (biden_df.dtypes == 'int')\n",
        "num_cols = list(int_[int_].index)\n",
        "print(\"Integer variables:\",len(num_cols))\n",
        "\n",
        "fl_ = (biden_df.dtypes == 'float')\n",
        "fl_cols = list(fl_[fl_].index)\n",
        "print(\"Float variables:\",len(fl_cols))"
      ],
      "metadata": {
        "colab": {
          "base_uri": "https://localhost:8080/"
        },
        "id": "4SGFW8LzdkFi",
        "outputId": "e5dd8d49-3044-474f-b6de-d9ac69cde460"
      },
      "execution_count": 8,
      "outputs": [
        {
          "output_type": "stream",
          "name": "stdout",
          "text": [
            "Categorical variables: 14\n",
            "Integer variables: 0\n",
            "Float variables: 7\n"
          ]
        }
      ]
    },
    {
      "cell_type": "code",
      "source": [
        "# Converting date values (data type: object) to datetime format\n",
        "trump_df['created_at'] = pd.to_datetime(trump_df['created_at'])\n",
        "biden_df['created_at'] = pd.to_datetime(biden_df['created_at'])"
      ],
      "metadata": {
        "id": "LhRHQ7EEjjuJ"
      },
      "execution_count": 9,
      "outputs": []
    },
    {
      "cell_type": "code",
      "source": [
        "# drop non necesssary columns\n",
        "new_trump_df = trump_df.drop(columns= ['tweet_id', 'lat', 'long', 'continent', 'state_code'])\n",
        "new_trump_df.shape"
      ],
      "metadata": {
        "colab": {
          "base_uri": "https://localhost:8080/"
        },
        "id": "2OLV4t1CYzRC",
        "outputId": "086ea860-358c-46f4-bd65-cd4015d61a18"
      },
      "execution_count": 53,
      "outputs": [
        {
          "output_type": "execute_result",
          "data": {
            "text/plain": [
              "(970919, 16)"
            ]
          },
          "metadata": {},
          "execution_count": 53
        }
      ]
    },
    {
      "cell_type": "code",
      "source": [
        "# drop non necesssary columns\n",
        "new_biden_df = biden_df.drop(columns= ['tweet_id', 'lat', 'long', 'continent', 'state_code'])\n",
        "new_biden_df.shape"
      ],
      "metadata": {
        "colab": {
          "base_uri": "https://localhost:8080/"
        },
        "id": "UGvMmxOwZvuB",
        "outputId": "5344eb83-0ab4-43d3-9e7a-27cfd8da549c"
      },
      "execution_count": 19,
      "outputs": [
        {
          "output_type": "execute_result",
          "data": {
            "text/plain": [
              "(776886, 16)"
            ]
          },
          "metadata": {},
          "execution_count": 19
        }
      ]
    },
    {
      "cell_type": "markdown",
      "source": [
        "# Exploratory Data Analysis\n",
        "\n",
        "EDA refers to the deep analysis of data so as to discover different patterns and spot anomalies. Before making inferences from data it is essential to examine all variables.\n"
      ],
      "metadata": {
        "id": "KrE9vmowh64u"
      }
    },
    {
      "cell_type": "code",
      "source": [
        "# Percentage of Total Tweets - Trump vs Biden\n",
        "trump_tweet_count = new_trump_df.shape[0]\n",
        "biden_tweet_count = new_biden_df.shape[0]\n",
        "\n",
        "total_tweet_count = trump_tweet_count + biden_tweet_count\n",
        "trump_tweet_percentage = (trump_tweet_count / total_tweet_count) * 100\n",
        "biden_tweet_percentage = (biden_tweet_count / total_tweet_count) * 100\n",
        "\n",
        "tweet_percentage = {'Trump': trump_tweet_percentage, 'Biden': biden_tweet_percentage}\n",
        "\n",
        "labels = list(tweet_percentage.keys())\n",
        "values = list(tweet_percentage.values())\n",
        "\n",
        "plt.bar(labels, values, color=['red', 'blue'])\n",
        "plt.ylabel('Tweet %')\n",
        "plt.title('Percentage of Total Tweets - Trump vs Biden')\n",
        "\n",
        "for i, v in enumerate(values):\n",
        "    plt.text(i, v + 1, f'{v:.2f}%', ha='center', fontweight='bold')\n",
        "\n",
        "plt.show"
      ],
      "metadata": {
        "colab": {
          "base_uri": "https://localhost:8080/",
          "height": 621
        },
        "id": "6o0pFt51Z4Lh",
        "outputId": "aa419645-1326-4b1f-ba01-6b1539a6a446"
      },
      "execution_count": 20,
      "outputs": [
        {
          "output_type": "execute_result",
          "data": {
            "text/plain": [
              "<function matplotlib.pyplot.show(close=None, block=None)>"
            ],
            "text/html": [
              "<div style=\"max-width:800px; border: 1px solid var(--colab-border-color);\"><style>\n",
              "      pre.function-repr-contents {\n",
              "        overflow-x: auto;\n",
              "        padding: 8px 12px;\n",
              "        max-height: 500px;\n",
              "      }\n",
              "\n",
              "      pre.function-repr-contents.function-repr-contents-collapsed {\n",
              "        cursor: pointer;\n",
              "        max-height: 100px;\n",
              "      }\n",
              "    </style>\n",
              "    <pre style=\"white-space: initial; background:\n",
              "         var(--colab-secondary-surface-color); padding: 8px 12px;\n",
              "         border-bottom: 1px solid var(--colab-border-color);\"><b>matplotlib.pyplot.show</b><br/>def show(*args, **kwargs)</pre><pre class=\"function-repr-contents function-repr-contents-collapsed\" style=\"\"><a class=\"filepath\" style=\"display:none\" href=\"#\">/usr/local/lib/python3.10/dist-packages/matplotlib/pyplot.py</a>Display all open figures.\n",
              "\n",
              "Parameters\n",
              "----------\n",
              "block : bool, optional\n",
              "    Whether to wait for all figures to be closed before returning.\n",
              "\n",
              "    If `True` block and run the GUI main loop until all figure windows\n",
              "    are closed.\n",
              "\n",
              "    If `False` ensure that all figure windows are displayed and return\n",
              "    immediately.  In this case, you are responsible for ensuring\n",
              "    that the event loop is running to have responsive figures.\n",
              "\n",
              "    Defaults to True in non-interactive mode and to False in interactive\n",
              "    mode (see `.pyplot.isinteractive`).\n",
              "\n",
              "See Also\n",
              "--------\n",
              "ion : Enable interactive mode, which shows / updates the figure after\n",
              "      every plotting command, so that calling ``show()`` is not necessary.\n",
              "ioff : Disable interactive mode.\n",
              "savefig : Save the figure to an image file instead of showing it on screen.\n",
              "\n",
              "Notes\n",
              "-----\n",
              "**Saving figures to file and showing a window at the same time**\n",
              "\n",
              "If you want an image file as well as a user interface window, use\n",
              "`.pyplot.savefig` before `.pyplot.show`. At the end of (a blocking)\n",
              "``show()`` the figure is closed and thus unregistered from pyplot. Calling\n",
              "`.pyplot.savefig` afterwards would save a new and thus empty figure. This\n",
              "limitation of command order does not apply if the show is non-blocking or\n",
              "if you keep a reference to the figure and use `.Figure.savefig`.\n",
              "\n",
              "**Auto-show in jupyter notebooks**\n",
              "\n",
              "The jupyter backends (activated via ``%matplotlib inline``,\n",
              "``%matplotlib notebook``, or ``%matplotlib widget``), call ``show()`` at\n",
              "the end of every cell by default. Thus, you usually don&#x27;t have to call it\n",
              "explicitly there.</pre>\n",
              "      <script>\n",
              "      if (google.colab.kernel.accessAllowed && google.colab.files && google.colab.files.view) {\n",
              "        for (const element of document.querySelectorAll('.filepath')) {\n",
              "          element.style.display = 'block'\n",
              "          element.onclick = (event) => {\n",
              "            event.preventDefault();\n",
              "            event.stopPropagation();\n",
              "            google.colab.files.view(element.textContent, 401);\n",
              "          };\n",
              "        }\n",
              "      }\n",
              "      for (const element of document.querySelectorAll('.function-repr-contents')) {\n",
              "        element.onclick = (event) => {\n",
              "          event.preventDefault();\n",
              "          event.stopPropagation();\n",
              "          element.classList.toggle('function-repr-contents-collapsed');\n",
              "        };\n",
              "      }\n",
              "      </script>\n",
              "      </div>"
            ]
          },
          "metadata": {},
          "execution_count": 20
        },
        {
          "output_type": "display_data",
          "data": {
            "text/plain": [
              "<Figure size 640x480 with 1 Axes>"
            ],
            "image/png": "[encoded data removed]"
          },
          "metadata": {}
        }
      ]
    },
    {
      "cell_type": "code",
      "source": [
        "# Daily Tweet Counts About Trump and Biden\n",
        "t_tweets_per_day = new_trump_df.groupby(trump_df['created_at'].dt.date).size()\n",
        "b_tweets_per_day = new_biden_df.groupby(biden_df['created_at'].dt.date).size()\n",
        "\n",
        "plt.plot(t_tweets_per_day.index, t_tweets_per_day.values, label='Trump', color='Red')\n",
        "plt.plot(b_tweets_per_day.index, b_tweets_per_day.values, label='Biden', color='Blue')\n",
        "plt.xlabel('Date')\n",
        "plt.ylabel('Tweet Counts')\n",
        "plt.title('Daily Tweet Counts About Trump and Biden')\n",
        "plt.legend()\n",
        "plt.gca().set_xticks(t_tweets_per_day.index)\n",
        "plt.gca().set_xticklabels(t_tweets_per_day.index, rotation=90)\n",
        "plt.figure(figsize=(14,7))\n",
        "plt.show()"
      ],
      "metadata": {
        "colab": {
          "base_uri": "https://localhost:8080/",
          "height": 554
        },
        "id": "i5TYk-BggZrw",
        "outputId": "fb2718eb-c5f2-40bc-fe13-e8206c640473"
      },
      "execution_count": 22,
      "outputs": [
        {
          "output_type": "display_data",
          "data": {
            "text/plain": [
              "<Figure size 640x480 with 1 Axes>"
            ],
            "image/png": "[encoded data removed]"
          },
          "metadata": {}
        },
        {
          "output_type": "display_data",
          "data": {
            "text/plain": [
              "<Figure size 1400x700 with 0 Axes>"
            ]
          },
          "metadata": {}
        }
      ]
    },
    {
      "cell_type": "markdown",
      "source": [
        "# Data Cleaning\n",
        "\n",
        "Data Cleaning is the way to improvise the data or remove incorrect, corrupted or irrelevant data.\n",
        "\n",
        "As in our dataset, there are some columns that are not important and irrelevant for the analysis. So, we can drop them. There are 2 approaches to dealing with empty/null values\n",
        "\n",
        "- We can easily delete the column/row (if the feature or record is not much important).\n",
        "- Filling the empty slots with mean/mode/0/NA/etc. (depending on the dataset requirement).\n",
        "- As Id Column will not be participating in any prediction. So we can Drop it."
      ],
      "metadata": {
        "id": "79X_RlzXlUo-"
      }
    },
    {
      "cell_type": "code",
      "source": [
        "# Missing values\n",
        "percentage_empty_cell_trump = ((new_trump_df.isnull().sum() / trump_tweet_count)*100).round(2)\n",
        "print(\"Trump\\n\", percentage_empty_cell_trump)\n",
        "\n",
        "percentage_empty_cell_biden = ((new_biden_df.isnull().sum() / biden_tweet_count)*100).round(2)\n",
        "print(\"Biden\\n\", percentage_empty_cell_biden)\n",
        "\n",
        "# Outliers\n",
        "\n",
        "# Duplicates\n",
        "\n",
        "# Erroneous data\n",
        "\n",
        "# Inconsistencies"
      ],
      "metadata": {
        "id": "CGhNVNiTlppG",
        "colab": {
          "base_uri": "https://localhost:8080/"
        },
        "outputId": "92af1017-a0d0-4846-9588-597b1330d166"
      },
      "execution_count": 71,
      "outputs": [
        {
          "output_type": "stream",
          "name": "stdout",
          "text": [
            "Trump\n",
            " created_at               0.00\n",
            "tweet                    0.00\n",
            "likes                    0.00\n",
            "retweet_count            0.00\n",
            "source                   0.09\n",
            "user_id                  0.00\n",
            "user_name                0.00\n",
            "user_screen_name         0.00\n",
            "user_description        10.43\n",
            "user_join_date           0.00\n",
            "user_followers_count     0.00\n",
            "user_location           30.38\n",
            "city                    76.60\n",
            "country                 54.40\n",
            "state                   66.98\n",
            "collected_at             0.00\n",
            "dtype: float64\n",
            "Biden\n",
            " created_at               0.00\n",
            "tweet                    0.00\n",
            "likes                    0.00\n",
            "retweet_count            0.00\n",
            "source                   0.09\n",
            "user_id                  0.00\n",
            "user_name                0.00\n",
            "user_screen_name         0.00\n",
            "user_description        10.56\n",
            "user_join_date           0.00\n",
            "user_followers_count     0.00\n",
            "user_location           30.09\n",
            "city                    75.95\n",
            "country                 54.46\n",
            "state                   66.51\n",
            "collected_at             0.00\n",
            "dtype: float64\n"
          ]
        }
      ]
    },
    {
      "cell_type": "code",
      "source": [
        "# check duplicates\n",
        "\n",
        "new_trump_df['country'].unique()"
      ],
      "metadata": {
        "colab": {
          "base_uri": "https://localhost:8080/"
        },
        "id": "vaSuXDYIjI7V",
        "outputId": "1b963c67-6090-45aa-da83-ac858f51d301"
      },
      "execution_count": 72,
      "outputs": [
        {
          "output_type": "execute_result",
          "data": {
            "text/plain": [
              "array(['USA', nan, 'United Kingdom', 'Germany', 'Australia', 'Costa Rica',\n",
              "       'Barbados', 'Cameroon', 'The Netherlands', 'Mexico', 'Canada',\n",
              "       'France', 'Peru', 'Argentina', 'South Korea', 'Finland',\n",
              "       'Mongolia', 'India', 'Japan', 'Turkey', 'Switzerland', 'Iran',\n",
              "       'Portugal', 'Ireland', 'Russia', 'Greece', 'Egypt', 'Ecuador',\n",
              "       'Colombia', 'Sri Lanka', 'Italy', 'China', 'Malaysia', 'Indonesia',\n",
              "       'Venezuela', 'Thailand', 'Sweden', 'Nepal', 'Bangladesh',\n",
              "       'Philippines', 'Dominican Republic', 'New Zealand', 'Chile',\n",
              "       'Honduras', 'Azerbaijan', 'Georgia', 'Spain', 'Cyprus', 'Morocco',\n",
              "       'Netherlands', 'Saudi Arabia', 'Norway', 'Singapore', 'Cuba',\n",
              "       'Niger', 'Hungary', 'Greenland', 'United Arab Emirates', 'Brazil',\n",
              "       'Uganda', 'Guatemala', 'Pakistan', 'Taiwan', 'Qatar',\n",
              "       'Afghanistan', 'South Africa', 'Nigeria', 'Slovakia', 'Guyana',\n",
              "       'Kenya', 'Iraq', 'Denmark', 'Uruguay', 'Belgium', 'Lebanon',\n",
              "       'Austria', 'Liechtenstein', 'Tunisia', 'Bosnia and Herzegovina',\n",
              "       'Iceland', 'Sudan', 'Czech Republic', 'Malta', 'Poland', 'Israel',\n",
              "       'Serbia', 'Luxembourg', 'Trinidad and Tobago', 'Ethiopia',\n",
              "       'Rwanda', 'Somalia', 'Panama', 'Ukraine', 'Kuwait', 'El Salvador',\n",
              "       'Palestinian Territory', 'Papua New Guinea', 'Nicaragua', 'Jersey',\n",
              "       'Bolivia', 'Bahrain', 'Cambodia', 'British Virgin Islands',\n",
              "       'Algeria', 'Uzbekistan', 'Kosovo', 'Albania', 'Myanmar', 'Monaco',\n",
              "       'Jamaika', 'Paraguay', 'Tanzania', 'Liberia', 'Cayman Islands',\n",
              "       'Gabon', 'Seychelles', 'Fiji', 'Laos', 'Maldives', 'Ghana',\n",
              "       'Mauritius', 'Gibraltar', 'Zimbabwe', 'Armenia', 'Latvia',\n",
              "       'Kiribati', 'Lithuania', 'Madagascar', 'The Gambia', 'Syria',\n",
              "       'Romania', 'Sierra Leone', 'Burkina Faso', 'Estonia', 'Jordan',\n",
              "       'Vietnam', 'Slovenia', 'Tajikistan', \"Côte d'Ivoire\", 'Grenada',\n",
              "       'Republic of the Congo', 'Democratic Republic of the Congo',\n",
              "       'Senegal', 'Yemen', 'Croatia', 'Congo-Brazzaville', 'Libya',\n",
              "       'North Korea', 'Tonga', 'Oman', 'Moldova', 'Haiti', 'Angola',\n",
              "       'Djibouti', 'Falkland Islands', 'The Bahamas', 'Vatican City',\n",
              "       'Montenegro', 'Bulgaria', 'Zambia', 'Suriname', 'North Macedonia',\n",
              "       'Hong Kong', 'Guinea', 'Saint Kitts and Nevis', 'Bahamas',\n",
              "       'Puerto Rico', 'Dominica', 'Vanuatu', 'Namibia', 'Kazakhstan',\n",
              "       'Belize', 'Cape Verde', 'Benin', 'Northern Mariana Islands',\n",
              "       'Congo', 'Isle of Man', 'Turks and Caicos Islands', 'Anguilla',\n",
              "       'Belarus', 'South Sudan', 'Federated States of Micronesia',\n",
              "       'Faroe Islands', 'Antigua and Barbuda', 'Samoa'], dtype=object)"
            ]
          },
          "metadata": {},
          "execution_count": 72
        }
      ]
    },
    {
      "cell_type": "code",
      "source": [
        "# 'United States of America', 'United States', 'nan'\n",
        "# combine 'United States of America' and 'United States'\n",
        "\n",
        "country_mapping = {\n",
        "    'United States of America': 'USA',\n",
        "    'United States': 'USA'\n",
        "}\n",
        "new_trump_df['country'] = new_trump_df['country'].replace(country_mapping)\n",
        "new_trump_df['country'].unique()"
      ],
      "metadata": {
        "colab": {
          "base_uri": "https://localhost:8080/"
        },
        "id": "oERPR5syks8a",
        "outputId": "4480b1cf-9d09-4a95-c26c-351644212f3c"
      },
      "execution_count": 73,
      "outputs": [
        {
          "output_type": "execute_result",
          "data": {
            "text/plain": [
              "array(['USA', nan, 'United Kingdom', 'Germany', 'Australia', 'Costa Rica',\n",
              "       'Barbados', 'Cameroon', 'The Netherlands', 'Mexico', 'Canada',\n",
              "       'France', 'Peru', 'Argentina', 'South Korea', 'Finland',\n",
              "       'Mongolia', 'India', 'Japan', 'Turkey', 'Switzerland', 'Iran',\n",
              "       'Portugal', 'Ireland', 'Russia', 'Greece', 'Egypt', 'Ecuador',\n",
              "       'Colombia', 'Sri Lanka', 'Italy', 'China', 'Malaysia', 'Indonesia',\n",
              "       'Venezuela', 'Thailand', 'Sweden', 'Nepal', 'Bangladesh',\n",
              "       'Philippines', 'Dominican Republic', 'New Zealand', 'Chile',\n",
              "       'Honduras', 'Azerbaijan', 'Georgia', 'Spain', 'Cyprus', 'Morocco',\n",
              "       'Netherlands', 'Saudi Arabia', 'Norway', 'Singapore', 'Cuba',\n",
              "       'Niger', 'Hungary', 'Greenland', 'United Arab Emirates', 'Brazil',\n",
              "       'Uganda', 'Guatemala', 'Pakistan', 'Taiwan', 'Qatar',\n",
              "       'Afghanistan', 'South Africa', 'Nigeria', 'Slovakia', 'Guyana',\n",
              "       'Kenya', 'Iraq', 'Denmark', 'Uruguay', 'Belgium', 'Lebanon',\n",
              "       'Austria', 'Liechtenstein', 'Tunisia', 'Bosnia and Herzegovina',\n",
              "       'Iceland', 'Sudan', 'Czech Republic', 'Malta', 'Poland', 'Israel',\n",
              "       'Serbia', 'Luxembourg', 'Trinidad and Tobago', 'Ethiopia',\n",
              "       'Rwanda', 'Somalia', 'Panama', 'Ukraine', 'Kuwait', 'El Salvador',\n",
              "       'Palestinian Territory', 'Papua New Guinea', 'Nicaragua', 'Jersey',\n",
              "       'Bolivia', 'Bahrain', 'Cambodia', 'British Virgin Islands',\n",
              "       'Algeria', 'Uzbekistan', 'Kosovo', 'Albania', 'Myanmar', 'Monaco',\n",
              "       'Jamaika', 'Paraguay', 'Tanzania', 'Liberia', 'Cayman Islands',\n",
              "       'Gabon', 'Seychelles', 'Fiji', 'Laos', 'Maldives', 'Ghana',\n",
              "       'Mauritius', 'Gibraltar', 'Zimbabwe', 'Armenia', 'Latvia',\n",
              "       'Kiribati', 'Lithuania', 'Madagascar', 'The Gambia', 'Syria',\n",
              "       'Romania', 'Sierra Leone', 'Burkina Faso', 'Estonia', 'Jordan',\n",
              "       'Vietnam', 'Slovenia', 'Tajikistan', \"Côte d'Ivoire\", 'Grenada',\n",
              "       'Republic of the Congo', 'Democratic Republic of the Congo',\n",
              "       'Senegal', 'Yemen', 'Croatia', 'Congo-Brazzaville', 'Libya',\n",
              "       'North Korea', 'Tonga', 'Oman', 'Moldova', 'Haiti', 'Angola',\n",
              "       'Djibouti', 'Falkland Islands', 'The Bahamas', 'Vatican City',\n",
              "       'Montenegro', 'Bulgaria', 'Zambia', 'Suriname', 'North Macedonia',\n",
              "       'Hong Kong', 'Guinea', 'Saint Kitts and Nevis', 'Bahamas',\n",
              "       'Puerto Rico', 'Dominica', 'Vanuatu', 'Namibia', 'Kazakhstan',\n",
              "       'Belize', 'Cape Verde', 'Benin', 'Northern Mariana Islands',\n",
              "       'Congo', 'Isle of Man', 'Turks and Caicos Islands', 'Anguilla',\n",
              "       'Belarus', 'South Sudan', 'Federated States of Micronesia',\n",
              "       'Faroe Islands', 'Antigua and Barbuda', 'Samoa'], dtype=object)"
            ]
          },
          "metadata": {},
          "execution_count": 73
        }
      ]
    },
    {
      "cell_type": "code",
      "source": [
        "usa_count = new_trump_df[new_trump_df['country'] == 'USA'].shape[0]\n",
        "print(f\"Number of tweets from USA: {usa_count}\")\n",
        "\n",
        "usa_percentage = (usa_count / total_tweet_count) * 100\n",
        "usa_percentage = np.round(usa_percentage, 2)\n",
        "print(f\"Percentage of tweets USA/total: {usa_percentage}\")"
      ],
      "metadata": {
        "colab": {
          "base_uri": "https://localhost:8080/"
        },
        "id": "2CpFEUW4pVnA",
        "outputId": "2aff5a35-1d00-48ae-f95d-0116a5e0840b"
      },
      "execution_count": 81,
      "outputs": [
        {
          "output_type": "stream",
          "name": "stdout",
          "text": [
            "Number of tweets from USA: 213263\n",
            "Percentage of tweets USA/total: 12.2\n"
          ]
        }
      ]
    }
  ]
}