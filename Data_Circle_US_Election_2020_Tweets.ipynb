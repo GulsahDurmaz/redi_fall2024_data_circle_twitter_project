{
  "nbformat": 4,
  "nbformat_minor": 0,
  "metadata": {
    "colab": {
      "provenance": [],
      "authorship_tag": "ABX9TyMYfBMHxS8W1OFG76UL4tp/",
      "include_colab_link": true
    },
    "kernelspec": {
      "name": "python3",
      "display_name": "Python 3"
    },
    "language_info": {
      "name": "python"
    }
  },
  "cells": [
    {
      "cell_type": "markdown",
      "metadata": {
        "id": "view-in-github",
        "colab_type": "text"
      },
      "source": [
        "<a href=\"https://colab.research.google.com/github/GulsahDurmaz/redi_fall2024_data_circle_twitter_project/blob/main/Data_Circle_US_Election_2020_Tweets.ipynb\" target=\"_parent\"><img src=\"https://colab.research.google.com/assets/colab-badge.svg\" alt=\"Open In Colab\"/></a>"
      ]
    },
    {
      "cell_type": "code",
      "execution_count": 3,
      "metadata": {
        "id": "61MLzXI0LB6g"
      },
      "outputs": [],
      "source": [
        "import pandas as pd"
      ]
    },
    {
      "cell_type": "code",
      "source": [
        "trump_df = pd.read_csv(r\"/content/sample_data/hashtag_donaldtrump.csv\",lineterminator='\\n')\n",
        "trump_df.info()"
      ],
      "metadata": {
        "colab": {
          "base_uri": "https://localhost:8080/"
        },
        "id": "moJgyLjVL06l",
        "outputId": "5c6368f1-9900-4790-c6ed-52363ba1af5a"
      },
      "execution_count": 5,
      "outputs": [
        {
          "output_type": "stream",
          "name": "stdout",
          "text": [
            "<class 'pandas.core.frame.DataFrame'>\n",
            "RangeIndex: 584581 entries, 0 to 584580\n",
            "Data columns (total 21 columns):\n",
            " #   Column                Non-Null Count   Dtype  \n",
            "---  ------                --------------   -----  \n",
            " 0   created_at            584581 non-null  object \n",
            " 1   tweet_id              584581 non-null  float64\n",
            " 2   tweet                 584581 non-null  object \n",
            " 3   likes                 584581 non-null  float64\n",
            " 4   retweet_count         584581 non-null  float64\n",
            " 5   source                583904 non-null  object \n",
            " 6   user_id               584581 non-null  float64\n",
            " 7   user_name             584562 non-null  object \n",
            " 8   user_screen_name      584581 non-null  object \n",
            " 9   user_description      524830 non-null  object \n",
            " 10  user_join_date        584580 non-null  object \n",
            " 11  user_followers_count  584580 non-null  float64\n",
            " 12  user_location         406070 non-null  object \n",
            " 13  lat                   282128 non-null  float64\n",
            " 14  long                  282128 non-null  float64\n",
            " 15  city                  140655 non-null  object \n",
            " 16  country               280438 non-null  object \n",
            " 17  continent             280450 non-null  object \n",
            " 18  state                 207474 non-null  object \n",
            " 19  state_code            196456 non-null  object \n",
            " 20  collected_at          584580 non-null  object \n",
            "dtypes: float64(7), object(14)\n",
            "memory usage: 93.7+ MB\n"
          ]
        }
      ]
    },
    {
      "cell_type": "code",
      "source": [
        "trump_df = pd.read_csv(r\"/content/sample_data/hashtag_joebiden.csv\",lineterminator='\\n')\n",
        "trump_df.info()"
      ],
      "metadata": {
        "colab": {
          "base_uri": "https://localhost:8080/"
        },
        "id": "V-g_rPhCQZ_g",
        "outputId": "d15b6960-bfb4-4a43-d34b-ac54e90f3037"
      },
      "execution_count": 6,
      "outputs": [
        {
          "output_type": "stream",
          "name": "stdout",
          "text": [
            "<class 'pandas.core.frame.DataFrame'>\n",
            "RangeIndex: 776886 entries, 0 to 776885\n",
            "Data columns (total 21 columns):\n",
            " #   Column                Non-Null Count   Dtype  \n",
            "---  ------                --------------   -----  \n",
            " 0   created_at            776886 non-null  object \n",
            " 1   tweet_id              776886 non-null  float64\n",
            " 2   tweet                 776886 non-null  object \n",
            " 3   likes                 776886 non-null  float64\n",
            " 4   retweet_count         776886 non-null  float64\n",
            " 5   source                776173 non-null  object \n",
            " 6   user_id               776886 non-null  float64\n",
            " 7   user_name             776861 non-null  object \n",
            " 8   user_screen_name      776886 non-null  object \n",
            " 9   user_description      694877 non-null  object \n",
            " 10  user_join_date        776886 non-null  object \n",
            " 11  user_followers_count  776886 non-null  float64\n",
            " 12  user_location         543092 non-null  object \n",
            " 13  lat                   355293 non-null  float64\n",
            " 14  long                  355293 non-null  float64\n",
            " 15  city                  186872 non-null  object \n",
            " 16  country               353779 non-null  object \n",
            " 17  continent             353797 non-null  object \n",
            " 18  state                 260195 non-null  object \n",
            " 19  state_code            244609 non-null  object \n",
            " 20  collected_at          776886 non-null  object \n",
            "dtypes: float64(7), object(14)\n",
            "memory usage: 124.5+ MB\n"
          ]
        }
      ]
    }
  ]
}