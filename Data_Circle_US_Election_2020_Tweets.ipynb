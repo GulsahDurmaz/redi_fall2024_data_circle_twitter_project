{
  "cells": [
    {
      "cell_type": "markdown",
      "metadata": {
        "colab_type": "text",
        "id": "view-in-github"
      },
      "source": [
        "<a href=\"https://colab.research.google.com/github/GulsahDurmaz/redi_fall2024_data_circle_twitter_project/blob/main/Data_Circle_US_Election_2020_Tweets.ipynb\" target=\"_parent\"><img src=\"https://colab.research.google.com/assets/colab-badge.svg\" alt=\"Open In Colab\"/></a>"
      ]
    },
    {
      "cell_type": "markdown",
      "metadata": {
        "id": "lzzxDOjCgvWE"
      },
      "source": [
        "## Data Set"
      ]
    },
    {
      "cell_type": "markdown",
      "metadata": {
        "id": "E8FGYTxxeBDY"
      },
      "source": [
        "### Context\n",
        "\n",
        "The 2020 US election is set for **November 3, 2020**, and its global impact will be significant, regardless of the winner. After reading two relevant papers ([linked here](#) and [here](#)), I was inspired to conduct my own sentiment analysis.\n",
        "\n",
        "### Why Twitter?\n",
        "\n",
        "Social media platforms like Facebook and Twitter have transformed how we interact and share news. As of June 2019, Twitter had over 348M users posting 500M tweets daily, enabling users to influence trends and shape news coverage.\n",
        "\n",
        "Twitter has become increasingly important in electoral campaigning, with politicians and parties actively using the platform. This rise in political activity on Twitter has attracted researchers' interest, making election prediction based on Twitter data a popular field. Researchers now analyze citizen sentiment to estimate candidate performance in elections.\n",
        "\n",
        "### Content\n",
        "\n",
        "Tweets were collected using the Twitter API `statuses_lookup` and `snsscrape` for specific keywords. The original goal was to update the dataset daily to cover the period from **October 15 to November 4, 2020**.\n",
        "\n",
        "- **Added on November 6, 2020**: As the election events continue, I decided to keep updating the dataset until at least the end of November 6.\n",
        "- **Added on November 8, 2020**: One final version will include tweets up until the end of November 8.\n",
        "\n",
        "### Data Source and Acknowledgment\n",
        "\n",
        "The data and content described here are originally from **MANCH HUI**'s Kaggle profile. This information was adapted from their dataset, and can be found at their [Kaggle profile](https://www.kaggle.com/manchunhui). All credit for the dataset collection and updates goes to them.\n",
        "\n",
        "\n",
        "\n",
        "You can download the dataset from [this](https://www.kaggle.com/datasets/manchunhui/us-election-2020-tweets/data) link.\n",
        "\n",
        "The dataset contains 21 features :\n",
        "\n",
        "| No  | Column Name          | Description                                              |\n",
        "|-----|----------------------|----------------------------------------------------------|\n",
        "| 1   | created_at           | Date and time of tweet creation                          |\n",
        "| 2   | tweet_id             | Unique ID of the tweet                                   |\n",
        "| 3   | tweet                | Full tweet text                                          |\n",
        "| 4   | likes                | Number of likes                                          |\n",
        "| 5   | retweet_count        | Number of retweets                                       |\n",
        "| 6   | source               | Utility used to post the tweet                           |\n",
        "| 7   | user_id              | User ID of tweet creator                                 |\n",
        "| 8   | user_name            | Username of tweet creator                                |\n",
        "| 9   | user_screen_name     | Screen name of tweet creator                             |\n",
        "| 10  | user_description     | Description of self by tweet creator                     |\n",
        "| 11  | user_join_date       | Join date of tweet creator                               |\n",
        "| 12  | user_followers_count | Followers count of tweet creator                         |\n",
        "| 13  | user_location        | Location given on tweet creator's profile                |\n",
        "| 14  | lat                  | Latitude parsed from user_location                       |\n",
        "| 15  | long                 | Longitude parsed from user_location                      |\n",
        "| 16  | city                 | City parsed from user_location                           |\n",
        "| 17  | country              | Country parsed from user_location                        |\n",
        "| 18  | state                | State parsed from user_location                          |\n",
        "| 19  | state_code           | State code parsed from user_location                     |\n",
        "| 20  | collected_at         | Date and time tweet data was mined from Twitter          |\n"
      ]
    },
    {
      "cell_type": "markdown",
      "metadata": {
        "id": "lsxMe6WhgoCG"
      },
      "source": [
        "# Importing Libraries and Dataset\n",
        "\n",
        "Here we are using the following libraries:\n",
        "\n",
        "- **Pandas**: To load and manipulate the dataset efficiently as a DataFrame.\n",
        "- **NumPy**: For numerical operations and handling arrays.\n",
        "- **Matplotlib**: To create static, animated, and interactive visualizations, such as bar plots.\n",
        "- **Seaborn**: To create more sophisticated and aesthetically pleasing visualizations, such as correlation heatmaps, and to visualize relationships between features.\n",
        "- **Streamlit**: For building interactive web applications to showcase data analysis and visualizations.\n",
        "- **Plotly Express**: To create interactive visualizations like scatter plots and bar charts.\n",
        "- **NLTK (Natural Language Toolkit)**: Specifically, the `sent_tokenize` function is used to tokenize sentences, splitting the text into individual sentences.\n"
      ]
    },
    {
      "cell_type": "code",
      "execution_count": 1,
      "metadata": {
        "id": "61MLzXI0LB6g"
      },
      "outputs": [],
      "source": [
        "import pandas as pd\n",
        "import numpy as np\n",
        "import matplotlib.pyplot as plt\n",
        "import seaborn as sns\n",
        "import streamlit as st\n",
        "import plotly.express as px\n",
        "import pycountry\n",
        "from nltk.tokenize import sent_tokenize"
      ]
    },
    {
      "cell_type": "code",
      "execution_count": 2,
      "metadata": {
        "id": "moJgyLjVL06l"
      },
      "outputs": [],
      "source": [
        "# trump_df = pd.read_csv(r\"/content/sample_data/hashtag_donaldtrump.csv\",lineterminator='\\n')\n",
        "# biden_df = pd.read_csv(r\"/content/sample_data/hashtag_joebiden.csv\",lineterminator='\\n')\n",
        "trump_df = pd.read_csv(r\"/Users/gulsah/Desktop/REDI/redi_fall2024_data_circle_twitter_project/csv/hashtag_donaldtrump.csv\",lineterminator='\\n')\n",
        "biden_df = pd.read_csv(r\"/Users/gulsah/Desktop/REDI/redi_fall2024_data_circle_twitter_project/csv/hashtag_joebiden.csv\",lineterminator='\\n')"
      ]
    },
    {
      "cell_type": "code",
      "execution_count": 3,
      "metadata": {
        "colab": {
          "base_uri": "https://localhost:8080/"
        },
        "id": "gJOxguQ5hfXf",
        "outputId": "e61982c0-ef7d-476d-c8f1-13001ba1321d"
      },
      "outputs": [
        {
          "name": "stdout",
          "output_type": "stream",
          "text": [
            "<class 'pandas.core.frame.DataFrame'>\n",
            "RangeIndex: 970919 entries, 0 to 970918\n",
            "Data columns (total 21 columns):\n",
            " #   Column                Non-Null Count   Dtype  \n",
            "---  ------                --------------   -----  \n",
            " 0   created_at            970919 non-null  object \n",
            " 1   tweet_id              970919 non-null  float64\n",
            " 2   tweet                 970919 non-null  object \n",
            " 3   likes                 970919 non-null  float64\n",
            " 4   retweet_count         970919 non-null  float64\n",
            " 5   source                970043 non-null  object \n",
            " 6   user_id               970919 non-null  float64\n",
            " 7   user_name             970897 non-null  object \n",
            " 8   user_screen_name      970919 non-null  object \n",
            " 9   user_description      869651 non-null  object \n",
            " 10  user_join_date        970919 non-null  object \n",
            " 11  user_followers_count  970919 non-null  float64\n",
            " 12  user_location         675957 non-null  object \n",
            " 13  lat                   445719 non-null  float64\n",
            " 14  long                  445719 non-null  float64\n",
            " 15  city                  227187 non-null  object \n",
            " 16  country               442748 non-null  object \n",
            " 17  continent             442765 non-null  object \n",
            " 18  state                 320620 non-null  object \n",
            " 19  state_code            300425 non-null  object \n",
            " 20  collected_at          970919 non-null  object \n",
            "dtypes: float64(7), object(14)\n",
            "memory usage: 155.6+ MB\n"
          ]
        }
      ],
      "source": [
        "trump_df.info()"
      ]
    },
    {
      "cell_type": "code",
      "execution_count": 4,
      "metadata": {},
      "outputs": [
        {
          "data": {
            "text/html": [
              "<div>\n",
              "<style scoped>\n",
              "    .dataframe tbody tr th:only-of-type {\n",
              "        vertical-align: middle;\n",
              "    }\n",
              "\n",
              "    .dataframe tbody tr th {\n",
              "        vertical-align: top;\n",
              "    }\n",
              "\n",
              "    .dataframe thead th {\n",
              "        text-align: right;\n",
              "    }\n",
              "</style>\n",
              "<table border=\"1\" class=\"dataframe\">\n",
              "  <thead>\n",
              "    <tr style=\"text-align: right;\">\n",
              "      <th></th>\n",
              "      <th>created_at</th>\n",
              "      <th>tweet_id</th>\n",
              "      <th>tweet</th>\n",
              "      <th>likes</th>\n",
              "      <th>retweet_count</th>\n",
              "      <th>source</th>\n",
              "      <th>user_id</th>\n",
              "      <th>user_name</th>\n",
              "      <th>user_screen_name</th>\n",
              "      <th>user_description</th>\n",
              "      <th>...</th>\n",
              "      <th>user_followers_count</th>\n",
              "      <th>user_location</th>\n",
              "      <th>lat</th>\n",
              "      <th>long</th>\n",
              "      <th>city</th>\n",
              "      <th>country</th>\n",
              "      <th>continent</th>\n",
              "      <th>state</th>\n",
              "      <th>state_code</th>\n",
              "      <th>collected_at</th>\n",
              "    </tr>\n",
              "  </thead>\n",
              "  <tbody>\n",
              "    <tr>\n",
              "      <th>0</th>\n",
              "      <td>2020-10-15 00:00:01</td>\n",
              "      <td>1.316529e+18</td>\n",
              "      <td>#Elecciones2020 | En #Florida: #JoeBiden dice ...</td>\n",
              "      <td>0.0</td>\n",
              "      <td>0.0</td>\n",
              "      <td>TweetDeck</td>\n",
              "      <td>3.606665e+08</td>\n",
              "      <td>El Sol Latino News</td>\n",
              "      <td>elsollatinonews</td>\n",
              "      <td>🌐 Noticias de interés para latinos de la costa...</td>\n",
              "      <td>...</td>\n",
              "      <td>1860.0</td>\n",
              "      <td>Philadelphia, PA / Miami, FL</td>\n",
              "      <td>25.774270</td>\n",
              "      <td>-80.193660</td>\n",
              "      <td>NaN</td>\n",
              "      <td>United States of America</td>\n",
              "      <td>North America</td>\n",
              "      <td>Florida</td>\n",
              "      <td>FL</td>\n",
              "      <td>2020-10-21 00:00:00</td>\n",
              "    </tr>\n",
              "    <tr>\n",
              "      <th>1</th>\n",
              "      <td>2020-10-15 00:00:18</td>\n",
              "      <td>1.316529e+18</td>\n",
              "      <td>#HunterBiden #HunterBidenEmails #JoeBiden #Joe...</td>\n",
              "      <td>0.0</td>\n",
              "      <td>0.0</td>\n",
              "      <td>Twitter for iPad</td>\n",
              "      <td>8.099044e+08</td>\n",
              "      <td>Cheri A. 🇺🇸</td>\n",
              "      <td>Biloximeemaw</td>\n",
              "      <td>Locked and loaded Meemaw. Love God, my family ...</td>\n",
              "      <td>...</td>\n",
              "      <td>6628.0</td>\n",
              "      <td>NaN</td>\n",
              "      <td>NaN</td>\n",
              "      <td>NaN</td>\n",
              "      <td>NaN</td>\n",
              "      <td>NaN</td>\n",
              "      <td>NaN</td>\n",
              "      <td>NaN</td>\n",
              "      <td>NaN</td>\n",
              "      <td>2020-10-21 00:00:00.517827283</td>\n",
              "    </tr>\n",
              "    <tr>\n",
              "      <th>2</th>\n",
              "      <td>2020-10-15 00:00:20</td>\n",
              "      <td>1.316529e+18</td>\n",
              "      <td>@IslandGirlPRV @BradBeauregardJ @MeidasTouch T...</td>\n",
              "      <td>0.0</td>\n",
              "      <td>0.0</td>\n",
              "      <td>Twitter Web App</td>\n",
              "      <td>3.494182e+09</td>\n",
              "      <td>Flag Waver</td>\n",
              "      <td>Flag_Wavers</td>\n",
              "      <td>NaN</td>\n",
              "      <td>...</td>\n",
              "      <td>1536.0</td>\n",
              "      <td>Golden Valley Arizona</td>\n",
              "      <td>46.304036</td>\n",
              "      <td>-109.171431</td>\n",
              "      <td>NaN</td>\n",
              "      <td>United States of America</td>\n",
              "      <td>North America</td>\n",
              "      <td>Montana</td>\n",
              "      <td>MT</td>\n",
              "      <td>2020-10-21 00:00:01.035654566</td>\n",
              "    </tr>\n",
              "    <tr>\n",
              "      <th>3</th>\n",
              "      <td>2020-10-15 00:00:21</td>\n",
              "      <td>1.316529e+18</td>\n",
              "      <td>@chrislongview Watching and setting dvr. Let’s...</td>\n",
              "      <td>0.0</td>\n",
              "      <td>0.0</td>\n",
              "      <td>Twitter for iPhone</td>\n",
              "      <td>8.242596e+17</td>\n",
              "      <td>Michelle Ferg</td>\n",
              "      <td>MichelleFerg4</td>\n",
              "      <td>NaN</td>\n",
              "      <td>...</td>\n",
              "      <td>27.0</td>\n",
              "      <td>NaN</td>\n",
              "      <td>NaN</td>\n",
              "      <td>NaN</td>\n",
              "      <td>NaN</td>\n",
              "      <td>NaN</td>\n",
              "      <td>NaN</td>\n",
              "      <td>NaN</td>\n",
              "      <td>NaN</td>\n",
              "      <td>2020-10-21 00:00:01.553481849</td>\n",
              "    </tr>\n",
              "    <tr>\n",
              "      <th>4</th>\n",
              "      <td>2020-10-15 00:00:22</td>\n",
              "      <td>1.316529e+18</td>\n",
              "      <td>#censorship #HunterBiden #Biden #BidenEmails #...</td>\n",
              "      <td>1.0</td>\n",
              "      <td>0.0</td>\n",
              "      <td>Twitter Web App</td>\n",
              "      <td>1.032807e+18</td>\n",
              "      <td>the Gold State</td>\n",
              "      <td>theegoldstate</td>\n",
              "      <td>A Silicon Valley #independent #News #Media #St...</td>\n",
              "      <td>...</td>\n",
              "      <td>390.0</td>\n",
              "      <td>California, USA</td>\n",
              "      <td>36.701463</td>\n",
              "      <td>-118.755997</td>\n",
              "      <td>NaN</td>\n",
              "      <td>United States of America</td>\n",
              "      <td>North America</td>\n",
              "      <td>California</td>\n",
              "      <td>CA</td>\n",
              "      <td>2020-10-21 00:00:02.071309132</td>\n",
              "    </tr>\n",
              "    <tr>\n",
              "      <th>...</th>\n",
              "      <td>...</td>\n",
              "      <td>...</td>\n",
              "      <td>...</td>\n",
              "      <td>...</td>\n",
              "      <td>...</td>\n",
              "      <td>...</td>\n",
              "      <td>...</td>\n",
              "      <td>...</td>\n",
              "      <td>...</td>\n",
              "      <td>...</td>\n",
              "      <td>...</td>\n",
              "      <td>...</td>\n",
              "      <td>...</td>\n",
              "      <td>...</td>\n",
              "      <td>...</td>\n",
              "      <td>...</td>\n",
              "      <td>...</td>\n",
              "      <td>...</td>\n",
              "      <td>...</td>\n",
              "      <td>...</td>\n",
              "      <td>...</td>\n",
              "    </tr>\n",
              "    <tr>\n",
              "      <th>95</th>\n",
              "      <td>2020-10-15 00:06:17</td>\n",
              "      <td>1.316531e+18</td>\n",
              "      <td>@JoeBiden Where’s #JoeBiden hiding out? https:...</td>\n",
              "      <td>0.0</td>\n",
              "      <td>0.0</td>\n",
              "      <td>Twitter for iPad</td>\n",
              "      <td>1.190418e+18</td>\n",
              "      <td>Buck Fullerton</td>\n",
              "      <td>BuckFullerton</td>\n",
              "      <td>Proud conservative husband, father, and CEO - ...</td>\n",
              "      <td>...</td>\n",
              "      <td>868.0</td>\n",
              "      <td>Ohio, USA</td>\n",
              "      <td>40.225357</td>\n",
              "      <td>-82.688140</td>\n",
              "      <td>NaN</td>\n",
              "      <td>United States of America</td>\n",
              "      <td>North America</td>\n",
              "      <td>Ohio</td>\n",
              "      <td>OH</td>\n",
              "      <td>2020-10-21 00:00:50.747073736</td>\n",
              "    </tr>\n",
              "    <tr>\n",
              "      <th>96</th>\n",
              "      <td>2020-10-15 00:06:17</td>\n",
              "      <td>1.316531e+18</td>\n",
              "      <td>I still can't retweet this @nypost report on #...</td>\n",
              "      <td>2.0</td>\n",
              "      <td>2.0</td>\n",
              "      <td>Twitter Web App</td>\n",
              "      <td>7.697845e+07</td>\n",
              "      <td>Tim Sumner an America 🇺🇸</td>\n",
              "      <td>SgtTim911</td>\n",
              "      <td>Co-founded 9/11 Families for a Safe &amp; Strong A...</td>\n",
              "      <td>...</td>\n",
              "      <td>2058.0</td>\n",
              "      <td>U.S.A</td>\n",
              "      <td>31.193277</td>\n",
              "      <td>30.054019</td>\n",
              "      <td>NaN</td>\n",
              "      <td>Egypt</td>\n",
              "      <td>Africa</td>\n",
              "      <td>Alexandria Governorate</td>\n",
              "      <td>NaN</td>\n",
              "      <td>2020-10-21 00:00:51.264901019</td>\n",
              "    </tr>\n",
              "    <tr>\n",
              "      <th>97</th>\n",
              "      <td>2020-10-15 00:06:23</td>\n",
              "      <td>1.316531e+18</td>\n",
              "      <td>@JohnBro85286904 @jane3wallace @Anderology @Jo...</td>\n",
              "      <td>1.0</td>\n",
              "      <td>0.0</td>\n",
              "      <td>Twitter for Android</td>\n",
              "      <td>2.265869e+09</td>\n",
              "      <td>Debbie</td>\n",
              "      <td>debc819</td>\n",
              "      <td>Mother of 2..looking to help keep our country ...</td>\n",
              "      <td>...</td>\n",
              "      <td>439.0</td>\n",
              "      <td>Down South</td>\n",
              "      <td>NaN</td>\n",
              "      <td>NaN</td>\n",
              "      <td>NaN</td>\n",
              "      <td>NaN</td>\n",
              "      <td>NaN</td>\n",
              "      <td>NaN</td>\n",
              "      <td>NaN</td>\n",
              "      <td>2020-10-21 00:00:51.782728302</td>\n",
              "    </tr>\n",
              "    <tr>\n",
              "      <th>98</th>\n",
              "      <td>2020-10-15 00:06:30</td>\n",
              "      <td>1.316531e+18</td>\n",
              "      <td>@MeidasTouch VOTE wisely.\\nand by wisely I mea...</td>\n",
              "      <td>202.0</td>\n",
              "      <td>51.0</td>\n",
              "      <td>Twitter Web App</td>\n",
              "      <td>5.436168e+07</td>\n",
              "      <td>Ginger Kitty</td>\n",
              "      <td>icecreamonacone</td>\n",
              "      <td>I'm just a ginger kitty. I'm chill for the mos...</td>\n",
              "      <td>...</td>\n",
              "      <td>1701.0</td>\n",
              "      <td>NaN</td>\n",
              "      <td>NaN</td>\n",
              "      <td>NaN</td>\n",
              "      <td>NaN</td>\n",
              "      <td>NaN</td>\n",
              "      <td>NaN</td>\n",
              "      <td>NaN</td>\n",
              "      <td>NaN</td>\n",
              "      <td>2020-10-21 00:00:52.300555585</td>\n",
              "    </tr>\n",
              "    <tr>\n",
              "      <th>99</th>\n",
              "      <td>2020-10-15 00:06:40</td>\n",
              "      <td>1.316531e+18</td>\n",
              "      <td>#HunterBiden #Cocaine #JoeBiden #KamalaHarris ...</td>\n",
              "      <td>1.0</td>\n",
              "      <td>2.0</td>\n",
              "      <td>Twitter for Android</td>\n",
              "      <td>1.213965e+18</td>\n",
              "      <td>WTH...</td>\n",
              "      <td>WTH_inthe</td>\n",
              "      <td>NaN</td>\n",
              "      <td>...</td>\n",
              "      <td>44.0</td>\n",
              "      <td>NaN</td>\n",
              "      <td>NaN</td>\n",
              "      <td>NaN</td>\n",
              "      <td>NaN</td>\n",
              "      <td>NaN</td>\n",
              "      <td>NaN</td>\n",
              "      <td>NaN</td>\n",
              "      <td>NaN</td>\n",
              "      <td>2020-10-21 00:00:52.818382868</td>\n",
              "    </tr>\n",
              "  </tbody>\n",
              "</table>\n",
              "<p>100 rows × 21 columns</p>\n",
              "</div>"
            ],
            "text/plain": [
              "             created_at      tweet_id  \\\n",
              "0   2020-10-15 00:00:01  1.316529e+18   \n",
              "1   2020-10-15 00:00:18  1.316529e+18   \n",
              "2   2020-10-15 00:00:20  1.316529e+18   \n",
              "3   2020-10-15 00:00:21  1.316529e+18   \n",
              "4   2020-10-15 00:00:22  1.316529e+18   \n",
              "..                  ...           ...   \n",
              "95  2020-10-15 00:06:17  1.316531e+18   \n",
              "96  2020-10-15 00:06:17  1.316531e+18   \n",
              "97  2020-10-15 00:06:23  1.316531e+18   \n",
              "98  2020-10-15 00:06:30  1.316531e+18   \n",
              "99  2020-10-15 00:06:40  1.316531e+18   \n",
              "\n",
              "                                                tweet  likes  retweet_count  \\\n",
              "0   #Elecciones2020 | En #Florida: #JoeBiden dice ...    0.0            0.0   \n",
              "1   #HunterBiden #HunterBidenEmails #JoeBiden #Joe...    0.0            0.0   \n",
              "2   @IslandGirlPRV @BradBeauregardJ @MeidasTouch T...    0.0            0.0   \n",
              "3   @chrislongview Watching and setting dvr. Let’s...    0.0            0.0   \n",
              "4   #censorship #HunterBiden #Biden #BidenEmails #...    1.0            0.0   \n",
              "..                                                ...    ...            ...   \n",
              "95  @JoeBiden Where’s #JoeBiden hiding out? https:...    0.0            0.0   \n",
              "96  I still can't retweet this @nypost report on #...    2.0            2.0   \n",
              "97  @JohnBro85286904 @jane3wallace @Anderology @Jo...    1.0            0.0   \n",
              "98  @MeidasTouch VOTE wisely.\\nand by wisely I mea...  202.0           51.0   \n",
              "99  #HunterBiden #Cocaine #JoeBiden #KamalaHarris ...    1.0            2.0   \n",
              "\n",
              "                 source       user_id                 user_name  \\\n",
              "0             TweetDeck  3.606665e+08        El Sol Latino News   \n",
              "1      Twitter for iPad  8.099044e+08               Cheri A. 🇺🇸   \n",
              "2       Twitter Web App  3.494182e+09                Flag Waver   \n",
              "3    Twitter for iPhone  8.242596e+17             Michelle Ferg   \n",
              "4       Twitter Web App  1.032807e+18            the Gold State   \n",
              "..                  ...           ...                       ...   \n",
              "95     Twitter for iPad  1.190418e+18            Buck Fullerton   \n",
              "96      Twitter Web App  7.697845e+07  Tim Sumner an America 🇺🇸   \n",
              "97  Twitter for Android  2.265869e+09                    Debbie   \n",
              "98      Twitter Web App  5.436168e+07              Ginger Kitty   \n",
              "99  Twitter for Android  1.213965e+18                    WTH...   \n",
              "\n",
              "   user_screen_name                                   user_description  ...  \\\n",
              "0   elsollatinonews  🌐 Noticias de interés para latinos de la costa...  ...   \n",
              "1      Biloximeemaw  Locked and loaded Meemaw. Love God, my family ...  ...   \n",
              "2       Flag_Wavers                                                NaN  ...   \n",
              "3     MichelleFerg4                                                NaN  ...   \n",
              "4     theegoldstate  A Silicon Valley #independent #News #Media #St...  ...   \n",
              "..              ...                                                ...  ...   \n",
              "95    BuckFullerton  Proud conservative husband, father, and CEO - ...  ...   \n",
              "96        SgtTim911  Co-founded 9/11 Families for a Safe & Strong A...  ...   \n",
              "97          debc819  Mother of 2..looking to help keep our country ...  ...   \n",
              "98  icecreamonacone  I'm just a ginger kitty. I'm chill for the mos...  ...   \n",
              "99        WTH_inthe                                                NaN  ...   \n",
              "\n",
              "   user_followers_count                 user_location        lat        long  \\\n",
              "0                1860.0  Philadelphia, PA / Miami, FL  25.774270  -80.193660   \n",
              "1                6628.0                           NaN        NaN         NaN   \n",
              "2                1536.0         Golden Valley Arizona  46.304036 -109.171431   \n",
              "3                  27.0                           NaN        NaN         NaN   \n",
              "4                 390.0               California, USA  36.701463 -118.755997   \n",
              "..                  ...                           ...        ...         ...   \n",
              "95                868.0                     Ohio, USA  40.225357  -82.688140   \n",
              "96               2058.0                         U.S.A  31.193277   30.054019   \n",
              "97                439.0                   Down South         NaN         NaN   \n",
              "98               1701.0                           NaN        NaN         NaN   \n",
              "99                 44.0                           NaN        NaN         NaN   \n",
              "\n",
              "    city                   country      continent                   state  \\\n",
              "0    NaN  United States of America  North America                 Florida   \n",
              "1    NaN                       NaN            NaN                     NaN   \n",
              "2    NaN  United States of America  North America                 Montana   \n",
              "3    NaN                       NaN            NaN                     NaN   \n",
              "4    NaN  United States of America  North America              California   \n",
              "..   ...                       ...            ...                     ...   \n",
              "95   NaN  United States of America  North America                    Ohio   \n",
              "96   NaN                     Egypt         Africa  Alexandria Governorate   \n",
              "97   NaN                       NaN            NaN                     NaN   \n",
              "98   NaN                       NaN            NaN                     NaN   \n",
              "99   NaN                       NaN            NaN                     NaN   \n",
              "\n",
              "   state_code                   collected_at  \n",
              "0          FL            2020-10-21 00:00:00  \n",
              "1         NaN  2020-10-21 00:00:00.517827283  \n",
              "2          MT  2020-10-21 00:00:01.035654566  \n",
              "3         NaN  2020-10-21 00:00:01.553481849  \n",
              "4          CA  2020-10-21 00:00:02.071309132  \n",
              "..        ...                            ...  \n",
              "95         OH  2020-10-21 00:00:50.747073736  \n",
              "96        NaN  2020-10-21 00:00:51.264901019  \n",
              "97        NaN  2020-10-21 00:00:51.782728302  \n",
              "98        NaN  2020-10-21 00:00:52.300555585  \n",
              "99        NaN  2020-10-21 00:00:52.818382868  \n",
              "\n",
              "[100 rows x 21 columns]"
            ]
          },
          "execution_count": 4,
          "metadata": {},
          "output_type": "execute_result"
        }
      ],
      "source": [
        "biden_df.head(100)"
      ]
    },
    {
      "cell_type": "code",
      "execution_count": 5,
      "metadata": {
        "colab": {
          "base_uri": "https://localhost:8080/"
        },
        "id": "Oj957EqphizS",
        "outputId": "ccfb84d2-2b9a-40c8-8888-77231a9eafaf"
      },
      "outputs": [
        {
          "name": "stdout",
          "output_type": "stream",
          "text": [
            "<class 'pandas.core.frame.DataFrame'>\n",
            "RangeIndex: 776886 entries, 0 to 776885\n",
            "Data columns (total 21 columns):\n",
            " #   Column                Non-Null Count   Dtype  \n",
            "---  ------                --------------   -----  \n",
            " 0   created_at            776886 non-null  object \n",
            " 1   tweet_id              776886 non-null  float64\n",
            " 2   tweet                 776886 non-null  object \n",
            " 3   likes                 776886 non-null  float64\n",
            " 4   retweet_count         776886 non-null  float64\n",
            " 5   source                776173 non-null  object \n",
            " 6   user_id               776886 non-null  float64\n",
            " 7   user_name             776861 non-null  object \n",
            " 8   user_screen_name      776886 non-null  object \n",
            " 9   user_description      694877 non-null  object \n",
            " 10  user_join_date        776886 non-null  object \n",
            " 11  user_followers_count  776886 non-null  float64\n",
            " 12  user_location         543092 non-null  object \n",
            " 13  lat                   355293 non-null  float64\n",
            " 14  long                  355293 non-null  float64\n",
            " 15  city                  186872 non-null  object \n",
            " 16  country               353779 non-null  object \n",
            " 17  continent             353797 non-null  object \n",
            " 18  state                 260195 non-null  object \n",
            " 19  state_code            244609 non-null  object \n",
            " 20  collected_at          776886 non-null  object \n",
            "dtypes: float64(7), object(14)\n",
            "memory usage: 124.5+ MB\n"
          ]
        }
      ],
      "source": [
        "biden_df.info()"
      ]
    },
    {
      "cell_type": "markdown",
      "metadata": {
        "id": "PJ0sttrRhDsq"
      },
      "source": [
        "# Data Preprocessing\n",
        "\n",
        "We categorize the features based on their data type (int, float, object) and calculate the count for each. Finally, we convert the object data type into the appropriate types as needed."
      ]
    },
    {
      "cell_type": "code",
      "execution_count": 6,
      "metadata": {
        "colab": {
          "base_uri": "https://localhost:8080/"
        },
        "id": "7TJDh0CmdScW",
        "outputId": "6289a278-a25f-42de-b9d1-98ba3c62b76e"
      },
      "outputs": [
        {
          "name": "stdout",
          "output_type": "stream",
          "text": [
            "Categorical variables: 14\n",
            "Integer variables: 0\n",
            "Float variables: 7\n"
          ]
        }
      ],
      "source": [
        "obj_ = (trump_df.dtypes == 'object')\n",
        "\n",
        "object_cols = list(obj_[obj_].index)\n",
        "\n",
        "print(\"Categorical variables:\",len(object_cols))\n",
        "\n",
        "int_ = (trump_df.dtypes == 'int')\n",
        "num_cols = list(int_[int_].index)\n",
        "print(\"Integer variables:\",len(num_cols))\n",
        "\n",
        "fl_ = (trump_df.dtypes == 'float')\n",
        "fl_cols = list(fl_[fl_].index)\n",
        "print(\"Float variables:\",len(fl_cols))"
      ]
    },
    {
      "cell_type": "code",
      "execution_count": 7,
      "metadata": {
        "colab": {
          "base_uri": "https://localhost:8080/"
        },
        "id": "4SGFW8LzdkFi",
        "outputId": "f81da0f2-c26b-4632-c25e-2bce0092fd73"
      },
      "outputs": [
        {
          "name": "stdout",
          "output_type": "stream",
          "text": [
            "Categorical variables: 14\n",
            "Integer variables: 0\n",
            "Float variables: 7\n"
          ]
        }
      ],
      "source": [
        "obj_ = (biden_df.dtypes == 'object')\n",
        "\n",
        "object_cols = list(obj_[obj_].index)\n",
        "\n",
        "print(\"Categorical variables:\",len(object_cols))\n",
        "\n",
        "int_ = (biden_df.dtypes == 'int')\n",
        "num_cols = list(int_[int_].index)\n",
        "print(\"Integer variables:\",len(num_cols))\n",
        "\n",
        "fl_ = (biden_df.dtypes == 'float')\n",
        "fl_cols = list(fl_[fl_].index)\n",
        "print(\"Float variables:\",len(fl_cols))"
      ]
    },
    {
      "cell_type": "code",
      "execution_count": 8,
      "metadata": {
        "id": "LhRHQ7EEjjuJ"
      },
      "outputs": [],
      "source": [
        "# Converting date values (data type: object) to datetime format\n",
        "trump_df['created_at'] = pd.to_datetime(trump_df['created_at'])\n",
        "biden_df['created_at'] = pd.to_datetime(biden_df['created_at'])"
      ]
    },
    {
      "cell_type": "code",
      "execution_count": 9,
      "metadata": {
        "colab": {
          "base_uri": "https://localhost:8080/"
        },
        "id": "2OLV4t1CYzRC",
        "outputId": "22865668-9906-4d34-a638-057b342c7076"
      },
      "outputs": [
        {
          "data": {
            "text/plain": [
              "(970919, 17)"
            ]
          },
          "execution_count": 9,
          "metadata": {},
          "output_type": "execute_result"
        }
      ],
      "source": [
        "# drop non necesssary columns\n",
        "trump_df = trump_df.drop(columns= ['tweet_id', 'lat', 'long', 'continent'])\n",
        "trump_df.shape"
      ]
    },
    {
      "cell_type": "code",
      "execution_count": 10,
      "metadata": {
        "colab": {
          "base_uri": "https://localhost:8080/"
        },
        "id": "UGvMmxOwZvuB",
        "outputId": "4aad4efc-509d-4dcd-c939-442bd1fb9b5a"
      },
      "outputs": [
        {
          "data": {
            "text/plain": [
              "(776886, 17)"
            ]
          },
          "execution_count": 10,
          "metadata": {},
          "output_type": "execute_result"
        }
      ],
      "source": [
        "# drop non necesssary columns\n",
        "biden_df = biden_df.drop(columns= ['tweet_id', 'lat', 'long', 'continent'])\n",
        "biden_df.shape"
      ]
    },
    {
      "cell_type": "markdown",
      "metadata": {
        "id": "KrE9vmowh64u"
      },
      "source": [
        "# Exploratory Data Analysis - Global\n",
        "\n",
        "EDA refers to the deep analysis of data so as to discover different patterns and spot anomalies. Before making inferences from data it is essential to examine all variables.\n"
      ]
    },
    {
      "cell_type": "code",
      "execution_count": 11,
      "metadata": {
        "colab": {
          "base_uri": "https://localhost:8080/",
          "height": 621
        },
        "id": "6o0pFt51Z4Lh",
        "outputId": "ff62bc40-05ed-4002-9bec-a76d0b556c3e"
      },
      "outputs": [
        {
          "data": {
            "text/plain": [
              "<function matplotlib.pyplot.show(close=None, block=None)>"
            ]
          },
          "execution_count": 11,
          "metadata": {},
          "output_type": "execute_result"
        },
        {
          "data": {
            "image/png": "[encoded data removed]",
            "text/plain": [
              "<Figure size 640x480 with 1 Axes>"
            ]
          },
          "metadata": {},
          "output_type": "display_data"
        }
      ],
      "source": [
        "# Percentage of Total Tweets - Trump vs Biden\n",
        "trump_tweet_count = trump_df.shape[0]\n",
        "biden_tweet_count = biden_df.shape[0]\n",
        "\n",
        "total_tweet_count = trump_tweet_count + biden_tweet_count\n",
        "trump_tweet_percentage = (trump_tweet_count / total_tweet_count) * 100\n",
        "biden_tweet_percentage = (biden_tweet_count / total_tweet_count) * 100\n",
        "\n",
        "tweet_percentage = {'Trump': trump_tweet_percentage, 'Biden': biden_tweet_percentage}\n",
        "\n",
        "labels = list(tweet_percentage.keys())\n",
        "values = list(tweet_percentage.values())\n",
        "\n",
        "plt.bar(labels, values, color=['red', 'blue'])\n",
        "plt.ylabel('Tweet %')\n",
        "plt.title('Percentage of Total Tweets (Global) - Trump vs Biden')\n",
        "\n",
        "for i, v in enumerate(values):\n",
        "    plt.text(i, v + 1, f'{v:.2f}%', ha='center', fontweight='bold')\n",
        "\n",
        "plt.show"
      ]
    },
    {
      "cell_type": "code",
      "execution_count": 12,
      "metadata": {
        "colab": {
          "base_uri": "https://localhost:8080/",
          "height": 554
        },
        "id": "i5TYk-BggZrw",
        "outputId": "7ba019d9-dc77-4ba0-87bb-2b8fed2995bc"
      },
      "outputs": [
        {
          "data": {
            "image/png": "[encoded data removed]",
            "text/plain": [
              "<Figure size 640x480 with 1 Axes>"
            ]
          },
          "metadata": {},
          "output_type": "display_data"
        },
        {
          "data": {
            "text/plain": [
              "<Figure size 1400x700 with 0 Axes>"
            ]
          },
          "metadata": {},
          "output_type": "display_data"
        }
      ],
      "source": [
        "# Daily Tweet Counts About Trump and Biden\n",
        "t_tweets_per_day = trump_df.groupby(trump_df['created_at'].dt.date).size()\n",
        "b_tweets_per_day = biden_df.groupby(biden_df['created_at'].dt.date).size()\n",
        "\n",
        "plt.plot(t_tweets_per_day.index, t_tweets_per_day.values, label='Trump', color='Red')\n",
        "plt.plot(b_tweets_per_day.index, b_tweets_per_day.values, label='Biden', color='Blue')\n",
        "plt.xlabel('Date')\n",
        "plt.ylabel('Tweet Counts')\n",
        "plt.title('Daily Tweet Counts About Trump and Biden (Global)')\n",
        "plt.legend()\n",
        "plt.gca().set_xticks(t_tweets_per_day.index)\n",
        "plt.gca().set_xticklabels(t_tweets_per_day.index, rotation=90)\n",
        "plt.figure(figsize=(14,7))\n",
        "plt.show()"
      ]
    },
    {
      "cell_type": "code",
      "execution_count": 13,
      "metadata": {},
      "outputs": [
        {
          "data": {
            "image/png": "[encoded data removed]",
            "text/plain": [
              "<Figure size 1200x600 with 1 Axes>"
            ]
          },
          "metadata": {},
          "output_type": "display_data"
        }
      ],
      "source": [
        "# Expl 2: Investigate Distribution of Hour of Tweets\n",
        "trump_df.loc[:, 'tweet_hour'] = trump_df['created_at'].dt.hour\n",
        "biden_df.loc[:, 'tweet_hour'] = biden_df['created_at'].dt.hour\n",
        "\n",
        "plt.figure(figsize=(12,6))\n",
        "\n",
        "sns.histplot(trump_df['tweet_hour'], bins=24, kde=False, color='red', label='Trump', alpha=0.8)\n",
        "sns.histplot(biden_df['tweet_hour'], bins=24, kde=False, color='blue', label='Biden', alpha=0.8)\n",
        "\n",
        "plt.title('Distribution of Tweets by Hour(Global): Trump vs Biden')\n",
        "plt.xlabel('Hour of Day (0-23)')\n",
        "plt.ylabel('Tweet Count')\n",
        "plt.xticks(range(0, 24))  # Show all hours on the x-axis\n",
        "plt.legend()  # Show the legend to distinguish Trump and Biden\n",
        "plt.grid(False)\n",
        "\n",
        "plt.show()"
      ]
    },
    {
      "cell_type": "markdown",
      "metadata": {
        "id": "79X_RlzXlUo-"
      },
      "source": [
        "# Data Cleaning\n",
        "\n",
        "Data Cleaning is the way to improvise the data or remove incorrect, corrupted or irrelevant data.\n",
        "\n",
        "As in our dataset, there are some columns that are not important and irrelevant for the analysis. So, we can drop them. There are 2 approaches to dealing with empty/null values\n",
        "\n",
        "- We can easily delete the column/row (if the feature or record is not much important).\n",
        "- Filling the empty slots with mean/mode/0/NA/etc. (depending on the dataset requirement).\n",
        "- As Id Column will not be participating in any prediction. So we can Drop it."
      ]
    },
    {
      "cell_type": "code",
      "execution_count": 14,
      "metadata": {
        "colab": {
          "base_uri": "https://localhost:8080/"
        },
        "id": "CGhNVNiTlppG",
        "outputId": "2c6be1a9-8f21-4b9d-b14d-098b736c191d"
      },
      "outputs": [
        {
          "name": "stdout",
          "output_type": "stream",
          "text": [
            "Trump\n",
            " created_at               0.00\n",
            "tweet                    0.00\n",
            "likes                    0.00\n",
            "retweet_count            0.00\n",
            "source                   0.09\n",
            "user_id                  0.00\n",
            "user_name                0.00\n",
            "user_screen_name         0.00\n",
            "user_description        10.43\n",
            "user_join_date           0.00\n",
            "user_followers_count     0.00\n",
            "user_location           30.38\n",
            "city                    76.60\n",
            "country                 54.40\n",
            "state                   66.98\n",
            "state_code              69.06\n",
            "collected_at             0.00\n",
            "tweet_hour               0.00\n",
            "dtype: float64\n",
            "Biden\n",
            " created_at               0.00\n",
            "tweet                    0.00\n",
            "likes                    0.00\n",
            "retweet_count            0.00\n",
            "source                   0.09\n",
            "user_id                  0.00\n",
            "user_name                0.00\n",
            "user_screen_name         0.00\n",
            "user_description        10.56\n",
            "user_join_date           0.00\n",
            "user_followers_count     0.00\n",
            "user_location           30.09\n",
            "city                    75.95\n",
            "country                 54.46\n",
            "state                   66.51\n",
            "state_code              68.51\n",
            "collected_at             0.00\n",
            "tweet_hour               0.00\n",
            "dtype: float64\n"
          ]
        }
      ],
      "source": [
        "# Missing values\n",
        "percentage_empty_cell_trump = ((trump_df.isnull().sum() / trump_tweet_count)*100).round(2)\n",
        "print(\"Trump\\n\", percentage_empty_cell_trump)\n",
        "\n",
        "percentage_empty_cell_biden = ((biden_df.isnull().sum() / biden_tweet_count)*100).round(2)\n",
        "print(\"Biden\\n\", percentage_empty_cell_biden)\n",
        "\n",
        "# Outliers\n",
        "\n",
        "# Duplicates\n",
        "\n",
        "# Erroneous data\n",
        "\n",
        "# Inconsistencies"
      ]
    },
    {
      "cell_type": "code",
      "execution_count": 15,
      "metadata": {
        "colab": {
          "base_uri": "https://localhost:8080/"
        },
        "id": "vaSuXDYIjI7V",
        "outputId": "482e8a9a-7004-4c17-fcdc-0341e175a80d"
      },
      "outputs": [
        {
          "data": {
            "text/plain": [
              "array(['United States of America', nan, 'United Kingdom', 'Germany',\n",
              "       'United States', 'Australia', 'Costa Rica', 'Barbados', 'Cameroon',\n",
              "       'The Netherlands', 'Mexico', 'Canada', 'France', 'Peru',\n",
              "       'Argentina', 'South Korea', 'Finland', 'Mongolia', 'India',\n",
              "       'Japan', 'Turkey', 'Switzerland', 'Iran', 'Portugal', 'Ireland',\n",
              "       'Russia', 'Greece', 'Egypt', 'Ecuador', 'Colombia', 'Sri Lanka',\n",
              "       'Italy', 'China', 'Malaysia', 'Indonesia', 'Venezuela', 'Thailand',\n",
              "       'Sweden', 'Nepal', 'Bangladesh', 'Philippines',\n",
              "       'Dominican Republic', 'New Zealand', 'Chile', 'Honduras',\n",
              "       'Azerbaijan', 'Georgia', 'Spain', 'Cyprus', 'Morocco',\n",
              "       'Netherlands', 'Saudi Arabia', 'Norway', 'Singapore', 'Cuba',\n",
              "       'Niger', 'Hungary', 'Greenland', 'United Arab Emirates', 'Brazil',\n",
              "       'Uganda', 'Guatemala', 'Pakistan', 'Taiwan', 'Qatar',\n",
              "       'Afghanistan', 'South Africa', 'Nigeria', 'Slovakia', 'Guyana',\n",
              "       'Kenya', 'Iraq', 'Denmark', 'Uruguay', 'Belgium', 'Lebanon',\n",
              "       'Austria', 'Liechtenstein', 'Tunisia', 'Bosnia and Herzegovina',\n",
              "       'Iceland', 'Sudan', 'Czech Republic', 'Malta', 'Poland', 'Israel',\n",
              "       'Serbia', 'Luxembourg', 'Trinidad and Tobago', 'Ethiopia',\n",
              "       'Rwanda', 'Somalia', 'Panama', 'Ukraine', 'Kuwait', 'El Salvador',\n",
              "       'Palestinian Territory', 'Papua New Guinea', 'Nicaragua', 'Jersey',\n",
              "       'Bolivia', 'Bahrain', 'Cambodia', 'British Virgin Islands',\n",
              "       'Algeria', 'Uzbekistan', 'Kosovo', 'Albania', 'Myanmar', 'Monaco',\n",
              "       'Jamaika', 'Paraguay', 'Tanzania', 'Liberia', 'Cayman Islands',\n",
              "       'Gabon', 'Seychelles', 'Fiji', 'Laos', 'Maldives', 'Ghana',\n",
              "       'Mauritius', 'Gibraltar', 'Zimbabwe', 'Armenia', 'Latvia',\n",
              "       'Kiribati', 'Lithuania', 'Madagascar', 'The Gambia', 'Syria',\n",
              "       'Romania', 'Sierra Leone', 'Burkina Faso', 'Estonia', 'Jordan',\n",
              "       'Vietnam', 'Slovenia', 'Tajikistan', \"Côte d'Ivoire\", 'Grenada',\n",
              "       'Republic of the Congo', 'Democratic Republic of the Congo',\n",
              "       'Senegal', 'Yemen', 'Croatia', 'Congo-Brazzaville', 'Libya',\n",
              "       'North Korea', 'Tonga', 'Oman', 'Moldova', 'Haiti', 'Angola',\n",
              "       'Djibouti', 'Falkland Islands', 'The Bahamas', 'Vatican City',\n",
              "       'Montenegro', 'Bulgaria', 'Zambia', 'Suriname', 'North Macedonia',\n",
              "       'Hong Kong', 'Guinea', 'Saint Kitts and Nevis', 'Bahamas',\n",
              "       'Puerto Rico', 'Dominica', 'Vanuatu', 'Namibia', 'Kazakhstan',\n",
              "       'Belize', 'Cape Verde', 'Benin', 'Northern Mariana Islands',\n",
              "       'Congo', 'Isle of Man', 'Turks and Caicos Islands', 'Anguilla',\n",
              "       'Belarus', 'South Sudan', 'Federated States of Micronesia',\n",
              "       'Faroe Islands', 'Antigua and Barbuda', 'Samoa'], dtype=object)"
            ]
          },
          "execution_count": 15,
          "metadata": {},
          "output_type": "execute_result"
        }
      ],
      "source": [
        "# check duplicates\n",
        "\n",
        "trump_df['country'].unique()"
      ]
    },
    {
      "cell_type": "code",
      "execution_count": 16,
      "metadata": {
        "colab": {
          "base_uri": "https://localhost:8080/"
        },
        "id": "oERPR5syks8a",
        "outputId": "e3ca679c-cee7-4b29-c717-267c6ca07b87"
      },
      "outputs": [
        {
          "data": {
            "text/plain": [
              "array(['United States', nan, 'United Kingdom', 'Germany', 'Australia',\n",
              "       'Costa Rica', 'Barbados', 'Cameroon', 'The Netherlands', 'Mexico',\n",
              "       'Canada', 'France', 'Peru', 'Argentina', 'South Korea', 'Finland',\n",
              "       'Mongolia', 'India', 'Japan', 'Turkey', 'Switzerland', 'Iran',\n",
              "       'Portugal', 'Ireland', 'Russia', 'Greece', 'Egypt', 'Ecuador',\n",
              "       'Colombia', 'Sri Lanka', 'Italy', 'China', 'Malaysia', 'Indonesia',\n",
              "       'Venezuela', 'Thailand', 'Sweden', 'Nepal', 'Bangladesh',\n",
              "       'Philippines', 'Dominican Republic', 'New Zealand', 'Chile',\n",
              "       'Honduras', 'Azerbaijan', 'Georgia', 'Spain', 'Cyprus', 'Morocco',\n",
              "       'Netherlands', 'Saudi Arabia', 'Norway', 'Singapore', 'Cuba',\n",
              "       'Niger', 'Hungary', 'Greenland', 'United Arab Emirates', 'Brazil',\n",
              "       'Uganda', 'Guatemala', 'Pakistan', 'Taiwan', 'Qatar',\n",
              "       'Afghanistan', 'South Africa', 'Nigeria', 'Slovakia', 'Guyana',\n",
              "       'Kenya', 'Iraq', 'Denmark', 'Uruguay', 'Belgium', 'Lebanon',\n",
              "       'Austria', 'Liechtenstein', 'Tunisia', 'Bosnia and Herzegovina',\n",
              "       'Iceland', 'Sudan', 'Czech Republic', 'Malta', 'Poland', 'Israel',\n",
              "       'Serbia', 'Luxembourg', 'Trinidad and Tobago', 'Ethiopia',\n",
              "       'Rwanda', 'Somalia', 'Panama', 'Ukraine', 'Kuwait', 'El Salvador',\n",
              "       'Palestinian Territory', 'Papua New Guinea', 'Nicaragua', 'Jersey',\n",
              "       'Bolivia', 'Bahrain', 'Cambodia', 'British Virgin Islands',\n",
              "       'Algeria', 'Uzbekistan', 'Kosovo', 'Albania', 'Myanmar', 'Monaco',\n",
              "       'Jamaika', 'Paraguay', 'Tanzania', 'Liberia', 'Cayman Islands',\n",
              "       'Gabon', 'Seychelles', 'Fiji', 'Laos', 'Maldives', 'Ghana',\n",
              "       'Mauritius', 'Gibraltar', 'Zimbabwe', 'Armenia', 'Latvia',\n",
              "       'Kiribati', 'Lithuania', 'Madagascar', 'The Gambia', 'Syria',\n",
              "       'Romania', 'Sierra Leone', 'Burkina Faso', 'Estonia', 'Jordan',\n",
              "       'Vietnam', 'Slovenia', 'Tajikistan', \"Côte d'Ivoire\", 'Grenada',\n",
              "       'Republic of the Congo', 'Democratic Republic of the Congo',\n",
              "       'Senegal', 'Yemen', 'Croatia', 'Congo-Brazzaville', 'Libya',\n",
              "       'North Korea', 'Tonga', 'Oman', 'Moldova', 'Haiti', 'Angola',\n",
              "       'Djibouti', 'Falkland Islands', 'The Bahamas', 'Vatican City',\n",
              "       'Montenegro', 'Bulgaria', 'Zambia', 'Suriname', 'North Macedonia',\n",
              "       'Hong Kong', 'Guinea', 'Saint Kitts and Nevis', 'Bahamas',\n",
              "       'Puerto Rico', 'Dominica', 'Vanuatu', 'Namibia', 'Kazakhstan',\n",
              "       'Belize', 'Cape Verde', 'Benin', 'Northern Mariana Islands',\n",
              "       'Congo', 'Isle of Man', 'Turks and Caicos Islands', 'Anguilla',\n",
              "       'Belarus', 'South Sudan', 'Federated States of Micronesia',\n",
              "       'Faroe Islands', 'Antigua and Barbuda', 'Samoa'], dtype=object)"
            ]
          },
          "execution_count": 16,
          "metadata": {},
          "output_type": "execute_result"
        }
      ],
      "source": [
        "# combine 'United States of America' and 'United States'\n",
        "\n",
        "country_mapping = {\n",
        "    'United States of America': 'United States',\n",
        "    'USA': 'United States'\n",
        "}\n",
        "trump_df['country'] = trump_df['country'].replace(country_mapping)\n",
        "biden_df['country'] = biden_df['country'].replace(country_mapping)\n",
        "trump_df['country'].unique()"
      ]
    },
    {
      "cell_type": "code",
      "execution_count": 17,
      "metadata": {},
      "outputs": [
        {
          "data": {
            "text/plain": [
              "array(['United States', nan, 'United Kingdom', 'Germany', 'Australia',\n",
              "       'Costa Rica', 'Barbados', 'Cameroon', 'Netherlands', 'Mexico',\n",
              "       'Canada', 'France', 'Peru', 'Argentina', 'South Korea', 'Finland',\n",
              "       'Mongolia', 'India', 'Japan', 'Turkey', 'Switzerland', 'Iran',\n",
              "       'Portugal', 'Ireland', 'Russia', 'Greece', 'Egypt', 'Ecuador',\n",
              "       'Colombia', 'Sri Lanka', 'Italy', 'China', 'Malaysia', 'Indonesia',\n",
              "       'Venezuela', 'Thailand', 'Sweden', 'Nepal', 'Bangladesh',\n",
              "       'Philippines', 'Dominican Republic', 'New Zealand', 'Chile',\n",
              "       'Honduras', 'Azerbaijan', 'Georgia', 'Spain', 'Cyprus', 'Morocco',\n",
              "       'Saudi Arabia', 'Norway', 'Singapore', 'Cuba', 'Niger', 'Hungary',\n",
              "       'Greenland', 'United Arab Emirates', 'Brazil', 'Uganda',\n",
              "       'Guatemala', 'Pakistan', 'Taiwan', 'Qatar', 'Afghanistan',\n",
              "       'South Africa', 'Nigeria', 'Slovakia', 'Guyana', 'Kenya', 'Iraq',\n",
              "       'Denmark', 'Uruguay', 'Belgium', 'Lebanon', 'Austria',\n",
              "       'Liechtenstein', 'Tunisia', 'Bosnia and Herzegovina', 'Iceland',\n",
              "       'Sudan', 'Czech Republic', 'Malta', 'Poland', 'Israel', 'Serbia',\n",
              "       'Luxembourg', 'Trinidad and Tobago', 'Ethiopia', 'Rwanda',\n",
              "       'Somalia', 'Panama', 'Ukraine', 'Kuwait', 'El Salvador',\n",
              "       'Palestinian Territory', 'Papua New Guinea', 'Nicaragua', 'Jersey',\n",
              "       'Bolivia', 'Bahrain', 'Cambodia', 'British Virgin Islands',\n",
              "       'Algeria', 'Uzbekistan', 'Kosovo', 'Albania', 'Myanmar', 'Monaco',\n",
              "       'Jamaika', 'Paraguay', 'Tanzania', 'Liberia', 'Cayman Islands',\n",
              "       'Gabon', 'Seychelles', 'Fiji', 'Laos', 'Maldives', 'Ghana',\n",
              "       'Mauritius', 'Gibraltar', 'Zimbabwe', 'Armenia', 'Latvia',\n",
              "       'Kiribati', 'Lithuania', 'Madagascar', 'The Gambia', 'Syria',\n",
              "       'Romania', 'Sierra Leone', 'Burkina Faso', 'Estonia', 'Jordan',\n",
              "       'Vietnam', 'Slovenia', 'Tajikistan', \"Côte d'Ivoire\", 'Grenada',\n",
              "       'Republic of the Congo', 'Democratic Republic of the Congo',\n",
              "       'Senegal', 'Yemen', 'Croatia', 'Congo-Brazzaville', 'Libya',\n",
              "       'North Korea', 'Tonga', 'Oman', 'Moldova', 'Haiti', 'Angola',\n",
              "       'Djibouti', 'Falkland Islands', 'The Bahamas', 'Vatican City',\n",
              "       'Montenegro', 'Bulgaria', 'Zambia', 'Suriname', 'North Macedonia',\n",
              "       'Hong Kong', 'Guinea', 'Saint Kitts and Nevis', 'Bahamas',\n",
              "       'Puerto Rico', 'Dominica', 'Vanuatu', 'Namibia', 'Kazakhstan',\n",
              "       'Belize', 'Cape Verde', 'Benin', 'Northern Mariana Islands',\n",
              "       'Congo', 'Isle of Man', 'Turks and Caicos Islands', 'Anguilla',\n",
              "       'Belarus', 'South Sudan', 'Federated States of Micronesia',\n",
              "       'Faroe Islands', 'Antigua and Barbuda', 'Samoa'], dtype=object)"
            ]
          },
          "execution_count": 17,
          "metadata": {},
          "output_type": "execute_result"
        }
      ],
      "source": [
        "# combine 'The Netherlands', 'Netherlands'\n",
        "\n",
        "country_mapping2 = {\n",
        "    'The Netherlands': 'Netherlands',\n",
        "}\n",
        "trump_df['country'] = trump_df['country'].replace(country_mapping2)\n",
        "biden_df['country'] = biden_df['country'].replace(country_mapping2)\n",
        "trump_df['country'].unique()"
      ]
    },
    {
      "cell_type": "code",
      "execution_count": 18,
      "metadata": {
        "colab": {
          "base_uri": "https://localhost:8080/"
        },
        "id": "2CpFEUW4pVnA",
        "outputId": "1b36d2e3-b6f1-4750-de9e-c5f73a9637d2"
      },
      "outputs": [
        {
          "name": "stdout",
          "output_type": "stream",
          "text": [
            "Number of tweets from USA: 213263\n",
            "Percentage of tweets USA/total: 12.2\n"
          ]
        }
      ],
      "source": [
        "trump_usa_count = trump_df[trump_df['country'] == 'United States'].shape[0]\n",
        "print(f\"Number of tweets from USA: {trump_usa_count}\")\n",
        "\n",
        "trump_usa_percentage = (trump_usa_count / total_tweet_count) * 100\n",
        "trump_usa_percentage = np.round(trump_usa_percentage, 2)\n",
        "print(f\"Percentage of tweets USA/total: {trump_usa_percentage}\")"
      ]
    },
    {
      "cell_type": "code",
      "execution_count": 19,
      "metadata": {
        "colab": {
          "base_uri": "https://localhost:8080/"
        },
        "id": "STE3SoSW1AO5",
        "outputId": "866fa6b7-0759-447e-f0f5-ebf60f501e02"
      },
      "outputs": [
        {
          "name": "stdout",
          "output_type": "stream",
          "text": [
            "Number of tweets from USA: 181137\n",
            "Percentage of tweets USA/total: 10.36\n"
          ]
        }
      ],
      "source": [
        "biden_usa_count = biden_df[biden_df['country'] == 'United States'].shape[0]\n",
        "print(f\"Number of tweets from USA: {biden_usa_count}\")\n",
        "\n",
        "biden_usa_percentage = (biden_usa_count / total_tweet_count) * 100\n",
        "biden_usa_percentage = np.round(biden_usa_percentage, 2)\n",
        "print(f\"Percentage of tweets USA/total: {biden_usa_percentage}\")"
      ]
    },
    {
      "cell_type": "code",
      "execution_count": 20,
      "metadata": {},
      "outputs": [
        {
          "data": {
            "text/html": [
              "<div>\n",
              "<style scoped>\n",
              "    .dataframe tbody tr th:only-of-type {\n",
              "        vertical-align: middle;\n",
              "    }\n",
              "\n",
              "    .dataframe tbody tr th {\n",
              "        vertical-align: top;\n",
              "    }\n",
              "\n",
              "    .dataframe thead th {\n",
              "        text-align: right;\n",
              "    }\n",
              "</style>\n",
              "<table border=\"1\" class=\"dataframe\">\n",
              "  <thead>\n",
              "    <tr style=\"text-align: right;\">\n",
              "      <th></th>\n",
              "      <th>country</th>\n",
              "      <th>trump_grouped</th>\n",
              "      <th>biden_grouped</th>\n",
              "      <th>total_tweet_count</th>\n",
              "      <th>trump_percentage</th>\n",
              "      <th>biden_percentage</th>\n",
              "    </tr>\n",
              "  </thead>\n",
              "  <tbody>\n",
              "    <tr>\n",
              "      <th>177</th>\n",
              "      <td>United States</td>\n",
              "      <td>213263</td>\n",
              "      <td>181137</td>\n",
              "      <td>394400</td>\n",
              "      <td>54.07</td>\n",
              "      <td>45.93</td>\n",
              "    </tr>\n",
              "    <tr>\n",
              "      <th>176</th>\n",
              "      <td>United Kingdom</td>\n",
              "      <td>34743</td>\n",
              "      <td>23308</td>\n",
              "      <td>58051</td>\n",
              "      <td>59.85</td>\n",
              "      <td>40.15</td>\n",
              "    </tr>\n",
              "    <tr>\n",
              "      <th>74</th>\n",
              "      <td>India</td>\n",
              "      <td>18559</td>\n",
              "      <td>21532</td>\n",
              "      <td>40091</td>\n",
              "      <td>46.29</td>\n",
              "      <td>53.71</td>\n",
              "    </tr>\n",
              "    <tr>\n",
              "      <th>60</th>\n",
              "      <td>Germany</td>\n",
              "      <td>22618</td>\n",
              "      <td>12761</td>\n",
              "      <td>35379</td>\n",
              "      <td>63.93</td>\n",
              "      <td>36.07</td>\n",
              "    </tr>\n",
              "    <tr>\n",
              "      <th>57</th>\n",
              "      <td>France</td>\n",
              "      <td>20689</td>\n",
              "      <td>14610</td>\n",
              "      <td>35299</td>\n",
              "      <td>58.61</td>\n",
              "      <td>41.39</td>\n",
              "    </tr>\n",
              "    <tr>\n",
              "      <th>27</th>\n",
              "      <td>Canada</td>\n",
              "      <td>16996</td>\n",
              "      <td>10809</td>\n",
              "      <td>27805</td>\n",
              "      <td>61.13</td>\n",
              "      <td>38.87</td>\n",
              "    </tr>\n",
              "    <tr>\n",
              "      <th>81</th>\n",
              "      <td>Italy</td>\n",
              "      <td>11206</td>\n",
              "      <td>8870</td>\n",
              "      <td>20076</td>\n",
              "      <td>55.82</td>\n",
              "      <td>44.18</td>\n",
              "    </tr>\n",
              "    <tr>\n",
              "      <th>8</th>\n",
              "      <td>Australia</td>\n",
              "      <td>9365</td>\n",
              "      <td>5534</td>\n",
              "      <td>14899</td>\n",
              "      <td>62.86</td>\n",
              "      <td>37.14</td>\n",
              "    </tr>\n",
              "    <tr>\n",
              "      <th>115</th>\n",
              "      <td>Netherlands</td>\n",
              "      <td>8605</td>\n",
              "      <td>6261</td>\n",
              "      <td>14866</td>\n",
              "      <td>57.88</td>\n",
              "      <td>42.12</td>\n",
              "    </tr>\n",
              "    <tr>\n",
              "      <th>106</th>\n",
              "      <td>Mexico</td>\n",
              "      <td>5811</td>\n",
              "      <td>5092</td>\n",
              "      <td>10903</td>\n",
              "      <td>53.30</td>\n",
              "      <td>46.70</td>\n",
              "    </tr>\n",
              "  </tbody>\n",
              "</table>\n",
              "</div>"
            ],
            "text/plain": [
              "            country  trump_grouped  biden_grouped  total_tweet_count  \\\n",
              "177   United States         213263         181137             394400   \n",
              "176  United Kingdom          34743          23308              58051   \n",
              "74            India          18559          21532              40091   \n",
              "60          Germany          22618          12761              35379   \n",
              "57           France          20689          14610              35299   \n",
              "27           Canada          16996          10809              27805   \n",
              "81            Italy          11206           8870              20076   \n",
              "8         Australia           9365           5534              14899   \n",
              "115     Netherlands           8605           6261              14866   \n",
              "106          Mexico           5811           5092              10903   \n",
              "\n",
              "     trump_percentage  biden_percentage  \n",
              "177             54.07             45.93  \n",
              "176             59.85             40.15  \n",
              "74              46.29             53.71  \n",
              "60              63.93             36.07  \n",
              "57              58.61             41.39  \n",
              "27              61.13             38.87  \n",
              "81              55.82             44.18  \n",
              "8               62.86             37.14  \n",
              "115             57.88             42.12  \n",
              "106             53.30             46.70  "
            ]
          },
          "execution_count": 20,
          "metadata": {},
          "output_type": "execute_result"
        }
      ],
      "source": [
        "# Group by country and count tweets\n",
        "trump_grouped = trump_df.groupby('country')['tweet'].count().reset_index(name='trump_grouped')\n",
        "biden_grouped = biden_df.groupby('country')['tweet'].count().reset_index(name='biden_grouped')\n",
        "\n",
        "# Merge the grouped DataFrames on 'country'\n",
        "combined_df = pd.merge(trump_grouped, biden_grouped, on='country', how='outer')\n",
        "\n",
        "# Fill NaN values with 0\n",
        "combined_df.fillna(0, inplace=True)\n",
        "\n",
        "# Convert tweet counts to integers\n",
        "combined_df['trump_grouped'] = combined_df['trump_grouped'].astype(int)\n",
        "combined_df['biden_grouped'] = combined_df['biden_grouped'].astype(int)\n",
        "\n",
        "# Total counts\n",
        "combined_df['total_tweet_count'] = combined_df['trump_grouped'] + combined_df['biden_grouped']\n",
        "\n",
        "combined_df['trump_percentage'] = (combined_df['trump_grouped'] / combined_df['total_tweet_count'] * 100).round(2)\n",
        "combined_df['biden_percentage'] = (combined_df['biden_grouped'] / combined_df['total_tweet_count'] * 100).round(2)\n",
        "\n",
        "#combined_df['usa_percentage_total'] = (combined_df['total_tweet_count'] / combined_df['total_tweets_overall'] * 100).round(2)\n",
        "\n",
        "# Sort and show the first 10 countries\n",
        "combined_df = combined_df.sort_values(by='total_tweet_count', ascending=False)\n",
        "\n",
        "# Display the combined DataFrame\n",
        "combined_df.head(10)"
      ]
    },
    {
      "cell_type": "code",
      "execution_count": 21,
      "metadata": {},
      "outputs": [
        {
          "data": {
            "text/html": [
              "<div>\n",
              "<style scoped>\n",
              "    .dataframe tbody tr th:only-of-type {\n",
              "        vertical-align: middle;\n",
              "    }\n",
              "\n",
              "    .dataframe tbody tr th {\n",
              "        vertical-align: top;\n",
              "    }\n",
              "\n",
              "    .dataframe thead th {\n",
              "        text-align: right;\n",
              "    }\n",
              "</style>\n",
              "<table border=\"1\" class=\"dataframe\">\n",
              "  <thead>\n",
              "    <tr style=\"text-align: right;\">\n",
              "      <th></th>\n",
              "      <th>country</th>\n",
              "      <th>trump_grouped</th>\n",
              "      <th>biden_grouped</th>\n",
              "      <th>total_tweet_count</th>\n",
              "      <th>trump_percentage</th>\n",
              "      <th>biden_percentage</th>\n",
              "      <th>country_code</th>\n",
              "    </tr>\n",
              "  </thead>\n",
              "  <tbody>\n",
              "    <tr>\n",
              "      <th>177</th>\n",
              "      <td>United States</td>\n",
              "      <td>213263</td>\n",
              "      <td>181137</td>\n",
              "      <td>394400</td>\n",
              "      <td>54.07</td>\n",
              "      <td>45.93</td>\n",
              "      <td>USA</td>\n",
              "    </tr>\n",
              "    <tr>\n",
              "      <th>176</th>\n",
              "      <td>United Kingdom</td>\n",
              "      <td>34743</td>\n",
              "      <td>23308</td>\n",
              "      <td>58051</td>\n",
              "      <td>59.85</td>\n",
              "      <td>40.15</td>\n",
              "      <td>GBR</td>\n",
              "    </tr>\n",
              "    <tr>\n",
              "      <th>74</th>\n",
              "      <td>India</td>\n",
              "      <td>18559</td>\n",
              "      <td>21532</td>\n",
              "      <td>40091</td>\n",
              "      <td>46.29</td>\n",
              "      <td>53.71</td>\n",
              "      <td>IND</td>\n",
              "    </tr>\n",
              "    <tr>\n",
              "      <th>60</th>\n",
              "      <td>Germany</td>\n",
              "      <td>22618</td>\n",
              "      <td>12761</td>\n",
              "      <td>35379</td>\n",
              "      <td>63.93</td>\n",
              "      <td>36.07</td>\n",
              "      <td>DEU</td>\n",
              "    </tr>\n",
              "    <tr>\n",
              "      <th>57</th>\n",
              "      <td>France</td>\n",
              "      <td>20689</td>\n",
              "      <td>14610</td>\n",
              "      <td>35299</td>\n",
              "      <td>58.61</td>\n",
              "      <td>41.39</td>\n",
              "      <td>FRA</td>\n",
              "    </tr>\n",
              "    <tr>\n",
              "      <th>27</th>\n",
              "      <td>Canada</td>\n",
              "      <td>16996</td>\n",
              "      <td>10809</td>\n",
              "      <td>27805</td>\n",
              "      <td>61.13</td>\n",
              "      <td>38.87</td>\n",
              "      <td>CAN</td>\n",
              "    </tr>\n",
              "    <tr>\n",
              "      <th>81</th>\n",
              "      <td>Italy</td>\n",
              "      <td>11206</td>\n",
              "      <td>8870</td>\n",
              "      <td>20076</td>\n",
              "      <td>55.82</td>\n",
              "      <td>44.18</td>\n",
              "      <td>ITA</td>\n",
              "    </tr>\n",
              "    <tr>\n",
              "      <th>8</th>\n",
              "      <td>Australia</td>\n",
              "      <td>9365</td>\n",
              "      <td>5534</td>\n",
              "      <td>14899</td>\n",
              "      <td>62.86</td>\n",
              "      <td>37.14</td>\n",
              "      <td>AUS</td>\n",
              "    </tr>\n",
              "    <tr>\n",
              "      <th>115</th>\n",
              "      <td>Netherlands</td>\n",
              "      <td>8605</td>\n",
              "      <td>6261</td>\n",
              "      <td>14866</td>\n",
              "      <td>57.88</td>\n",
              "      <td>42.12</td>\n",
              "      <td>NLD</td>\n",
              "    </tr>\n",
              "    <tr>\n",
              "      <th>106</th>\n",
              "      <td>Mexico</td>\n",
              "      <td>5811</td>\n",
              "      <td>5092</td>\n",
              "      <td>10903</td>\n",
              "      <td>53.30</td>\n",
              "      <td>46.70</td>\n",
              "      <td>MEX</td>\n",
              "    </tr>\n",
              "  </tbody>\n",
              "</table>\n",
              "</div>"
            ],
            "text/plain": [
              "            country  trump_grouped  biden_grouped  total_tweet_count  \\\n",
              "177   United States         213263         181137             394400   \n",
              "176  United Kingdom          34743          23308              58051   \n",
              "74            India          18559          21532              40091   \n",
              "60          Germany          22618          12761              35379   \n",
              "57           France          20689          14610              35299   \n",
              "27           Canada          16996          10809              27805   \n",
              "81            Italy          11206           8870              20076   \n",
              "8         Australia           9365           5534              14899   \n",
              "115     Netherlands           8605           6261              14866   \n",
              "106          Mexico           5811           5092              10903   \n",
              "\n",
              "     trump_percentage  biden_percentage country_code  \n",
              "177             54.07             45.93          USA  \n",
              "176             59.85             40.15          GBR  \n",
              "74              46.29             53.71          IND  \n",
              "60              63.93             36.07          DEU  \n",
              "57              58.61             41.39          FRA  \n",
              "27              61.13             38.87          CAN  \n",
              "81              55.82             44.18          ITA  \n",
              "8               62.86             37.14          AUS  \n",
              "115             57.88             42.12          NLD  \n",
              "106             53.30             46.70          MEX  "
            ]
          },
          "execution_count": 21,
          "metadata": {},
          "output_type": "execute_result"
        }
      ],
      "source": [
        "# Function to get ISO Alpha-3 country code\n",
        "def get_country_code(country_name):\n",
        "    try:\n",
        "        # Use pycountry to get the country object\n",
        "        return pycountry.countries.lookup(country_name).alpha_3\n",
        "    except LookupError:\n",
        "        return None  # If the country name is not found, return None\n",
        "\n",
        "# Apply the function to the 'country' column to create a new 'country_code' column\n",
        "combined_df['country_code'] = combined_df['country'].apply(get_country_code)\n",
        "\n",
        "combined_df.head(10)"
      ]
    },
    {
      "cell_type": "code",
      "execution_count": 22,
      "metadata": {},
      "outputs": [
        {
          "data": {
            "text/html": [
              "<div>\n",
              "<style scoped>\n",
              "    .dataframe tbody tr th:only-of-type {\n",
              "        vertical-align: middle;\n",
              "    }\n",
              "\n",
              "    .dataframe tbody tr th {\n",
              "        vertical-align: top;\n",
              "    }\n",
              "\n",
              "    .dataframe thead th {\n",
              "        text-align: right;\n",
              "    }\n",
              "</style>\n",
              "<table border=\"1\" class=\"dataframe\">\n",
              "  <thead>\n",
              "    <tr style=\"text-align: right;\">\n",
              "      <th></th>\n",
              "      <th>country</th>\n",
              "      <th>trump_grouped</th>\n",
              "      <th>biden_grouped</th>\n",
              "      <th>total_tweet_count</th>\n",
              "      <th>trump_percentage</th>\n",
              "      <th>biden_percentage</th>\n",
              "      <th>country_code</th>\n",
              "    </tr>\n",
              "  </thead>\n",
              "  <tbody>\n",
              "    <tr>\n",
              "      <th>171</th>\n",
              "      <td>Turkey</td>\n",
              "      <td>5594</td>\n",
              "      <td>4774</td>\n",
              "      <td>10368</td>\n",
              "      <td>53.95</td>\n",
              "      <td>46.05</td>\n",
              "      <td>None</td>\n",
              "    </tr>\n",
              "    <tr>\n",
              "      <th>138</th>\n",
              "      <td>Russia</td>\n",
              "      <td>434</td>\n",
              "      <td>442</td>\n",
              "      <td>876</td>\n",
              "      <td>49.54</td>\n",
              "      <td>50.46</td>\n",
              "      <td>None</td>\n",
              "    </tr>\n",
              "    <tr>\n",
              "      <th>82</th>\n",
              "      <td>Jamaika</td>\n",
              "      <td>190</td>\n",
              "      <td>158</td>\n",
              "      <td>348</td>\n",
              "      <td>54.60</td>\n",
              "      <td>45.40</td>\n",
              "      <td>None</td>\n",
              "    </tr>\n",
              "    <tr>\n",
              "      <th>126</th>\n",
              "      <td>Palestinian Territory</td>\n",
              "      <td>69</td>\n",
              "      <td>45</td>\n",
              "      <td>114</td>\n",
              "      <td>60.53</td>\n",
              "      <td>39.47</td>\n",
              "      <td>None</td>\n",
              "    </tr>\n",
              "    <tr>\n",
              "      <th>89</th>\n",
              "      <td>Kosovo</td>\n",
              "      <td>46</td>\n",
              "      <td>64</td>\n",
              "      <td>110</td>\n",
              "      <td>41.82</td>\n",
              "      <td>58.18</td>\n",
              "      <td>None</td>\n",
              "    </tr>\n",
              "    <tr>\n",
              "      <th>166</th>\n",
              "      <td>The Bahamas</td>\n",
              "      <td>39</td>\n",
              "      <td>41</td>\n",
              "      <td>80</td>\n",
              "      <td>48.75</td>\n",
              "      <td>51.25</td>\n",
              "      <td>None</td>\n",
              "    </tr>\n",
              "    <tr>\n",
              "      <th>167</th>\n",
              "      <td>The Gambia</td>\n",
              "      <td>32</td>\n",
              "      <td>10</td>\n",
              "      <td>42</td>\n",
              "      <td>76.19</td>\n",
              "      <td>23.81</td>\n",
              "      <td>None</td>\n",
              "    </tr>\n",
              "    <tr>\n",
              "      <th>34</th>\n",
              "      <td>Congo-Brazzaville</td>\n",
              "      <td>12</td>\n",
              "      <td>14</td>\n",
              "      <td>26</td>\n",
              "      <td>46.15</td>\n",
              "      <td>53.85</td>\n",
              "      <td>None</td>\n",
              "    </tr>\n",
              "    <tr>\n",
              "      <th>181</th>\n",
              "      <td>Vatican City</td>\n",
              "      <td>14</td>\n",
              "      <td>8</td>\n",
              "      <td>22</td>\n",
              "      <td>63.64</td>\n",
              "      <td>36.36</td>\n",
              "      <td>None</td>\n",
              "    </tr>\n",
              "    <tr>\n",
              "      <th>52</th>\n",
              "      <td>Falkland Islands</td>\n",
              "      <td>4</td>\n",
              "      <td>15</td>\n",
              "      <td>19</td>\n",
              "      <td>21.05</td>\n",
              "      <td>78.95</td>\n",
              "      <td>None</td>\n",
              "    </tr>\n",
              "    <tr>\n",
              "      <th>41</th>\n",
              "      <td>Democratic Republic of the Congo</td>\n",
              "      <td>9</td>\n",
              "      <td>5</td>\n",
              "      <td>14</td>\n",
              "      <td>64.29</td>\n",
              "      <td>35.71</td>\n",
              "      <td>None</td>\n",
              "    </tr>\n",
              "    <tr>\n",
              "      <th>28</th>\n",
              "      <td>Cape Verde</td>\n",
              "      <td>2</td>\n",
              "      <td>0</td>\n",
              "      <td>2</td>\n",
              "      <td>100.00</td>\n",
              "      <td>0.00</td>\n",
              "      <td>None</td>\n",
              "    </tr>\n",
              "    <tr>\n",
              "      <th>46</th>\n",
              "      <td>East Timor</td>\n",
              "      <td>0</td>\n",
              "      <td>1</td>\n",
              "      <td>1</td>\n",
              "      <td>0.00</td>\n",
              "      <td>100.00</td>\n",
              "      <td>None</td>\n",
              "    </tr>\n",
              "  </tbody>\n",
              "</table>\n",
              "</div>"
            ],
            "text/plain": [
              "                              country  trump_grouped  biden_grouped  \\\n",
              "171                            Turkey           5594           4774   \n",
              "138                            Russia            434            442   \n",
              "82                            Jamaika            190            158   \n",
              "126             Palestinian Territory             69             45   \n",
              "89                             Kosovo             46             64   \n",
              "166                       The Bahamas             39             41   \n",
              "167                        The Gambia             32             10   \n",
              "34                  Congo-Brazzaville             12             14   \n",
              "181                      Vatican City             14              8   \n",
              "52                   Falkland Islands              4             15   \n",
              "41   Democratic Republic of the Congo              9              5   \n",
              "28                         Cape Verde              2              0   \n",
              "46                         East Timor              0              1   \n",
              "\n",
              "     total_tweet_count  trump_percentage  biden_percentage country_code  \n",
              "171              10368             53.95             46.05         None  \n",
              "138                876             49.54             50.46         None  \n",
              "82                 348             54.60             45.40         None  \n",
              "126                114             60.53             39.47         None  \n",
              "89                 110             41.82             58.18         None  \n",
              "166                 80             48.75             51.25         None  \n",
              "167                 42             76.19             23.81         None  \n",
              "34                  26             46.15             53.85         None  \n",
              "181                 22             63.64             36.36         None  \n",
              "52                  19             21.05             78.95         None  \n",
              "41                  14             64.29             35.71         None  \n",
              "28                   2            100.00              0.00         None  \n",
              "46                   1              0.00            100.00         None  "
            ]
          },
          "execution_count": 22,
          "metadata": {},
          "output_type": "execute_result"
        }
      ],
      "source": [
        "combined_df[combined_df['country_code'].isnull()]"
      ]
    },
    {
      "cell_type": "code",
      "execution_count": 23,
      "metadata": {},
      "outputs": [],
      "source": [
        "# Define a mapping for the missing country codes\n",
        "missing_country_codes = {\n",
        "    'Turkey': 'TUR',\n",
        "    'Russia': 'RUS',\n",
        "    'Jamaika': 'JAM',\n",
        "    'Palestinian Territory': 'PSE',\n",
        "    'Kosovo': 'XKX',  # Kosovo is often represented with 'XKX'\n",
        "    'The Bahamas': 'BHS',\n",
        "    'The Gambia': 'GMB',\n",
        "    'Congo-Brazzaville': 'COG',\n",
        "    'Vatican City': 'VAT',\n",
        "    'Falkland Islands': 'FLK',\n",
        "    'Democratic Republic of the Congo': 'COD',\n",
        "    'Cape Verde': 'CPV',\n",
        "    'East Timor': 'TLS'\n",
        "}\n",
        "\n",
        "# Fill in the missing country codes\n",
        "combined_df['country_code'] = combined_df.apply(\n",
        "    lambda row: missing_country_codes.get(row['country'], row['country_code']),\n",
        "    axis=1\n",
        ")"
      ]
    },
    {
      "cell_type": "code",
      "execution_count": 24,
      "metadata": {},
      "outputs": [
        {
          "data": {
            "image/png": "[encoded data removed]",
            "text/plain": [
              "<Figure size 1200x600 with 1 Axes>"
            ]
          },
          "metadata": {},
          "output_type": "display_data"
        }
      ],
      "source": [
        "# Get the top 10 countries based on total tweet counts\n",
        "top_countries = combined_df.head(10)\n",
        "\n",
        "# Set the position of bars on the x-axis\n",
        "bar_width = 0.25\n",
        "x = range(len(top_countries))\n",
        "\n",
        "# Create the bar chart\n",
        "plt.figure(figsize=(12, 6))\n",
        "\n",
        "# Plot Trump tweets\n",
        "plt.bar(x, top_countries['trump_grouped'], width=bar_width, label='Trump Tweets', color='red', align='center')\n",
        "\n",
        "# Plot Biden tweets\n",
        "plt.bar([p + bar_width for p in x], top_countries['biden_grouped'], width=bar_width, label='Biden Tweets', color='blue', align='center')\n",
        "\n",
        "# Plot Total tweets\n",
        "plt.bar([p + bar_width*2 for p in x], top_countries['total_tweet_count'], width=bar_width, label='Total Tweets', color='gray', align='center')\n",
        "\n",
        "# Adding labels and title\n",
        "plt.xlabel('Country', fontsize=14)\n",
        "plt.ylabel('Number of Tweets', fontsize=14)\n",
        "plt.title('Top 10 Countries Tweet Counts: Trump vs Biden vs Total', fontsize=16)\n",
        "plt.xticks([p + bar_width for p in x], top_countries['country'], rotation=45)\n",
        "plt.legend()\n",
        "\n",
        "# Show the plot\n",
        "plt.tight_layout()\n",
        "plt.show()\n"
      ]
    },
    {
      "cell_type": "code",
      "execution_count": 25,
      "metadata": {},
      "outputs": [
        {
          "data": {
            "application/vnd.plotly.v1+json": {
              "config": {
                "plotlyServerURL": "https://plot.ly"
              },
              "data": [
                {
                  "coloraxis": "coloraxis",
                  "customdata": [
                    [
                      54.07,
                      45.93,
                      8.14
                    ],
                    [
                      59.85,
                      40.15,
                      19.700000000000003
                    ],
                    [
                      46.29,
                      53.71,
                      -7.420000000000002
                    ],
                    [
                      63.93,
                      36.07,
                      27.86
                    ],
                    [
                      58.61,
                      41.39,
                      17.22
                    ],
                    [
                      61.13,
                      38.87,
                      22.260000000000005
                    ],
                    [
                      55.82,
                      44.18,
                      11.64
                    ],
                    [
                      62.86,
                      37.14,
                      25.72
                    ],
                    [
                      57.88,
                      42.12,
                      15.760000000000005
                    ],
                    [
                      53.3,
                      46.7,
                      6.599999999999994
                    ],
                    [
                      53.95,
                      46.05,
                      7.900000000000006
                    ],
                    [
                      52.38,
                      47.62,
                      4.760000000000005
                    ],
                    [
                      49.21,
                      50.79,
                      -1.5799999999999983
                    ],
                    [
                      59.16,
                      40.84,
                      18.319999999999993
                    ],
                    [
                      51.56,
                      48.44,
                      3.1200000000000045
                    ],
                    [
                      53.22,
                      46.78,
                      6.439999999999998
                    ],
                    [
                      52.75,
                      47.25,
                      5.5
                    ],
                    [
                      59.87,
                      40.13,
                      19.739999999999995
                    ],
                    [
                      57.83,
                      42.17,
                      15.659999999999997
                    ],
                    [
                      57.23,
                      42.77,
                      14.459999999999994
                    ],
                    [
                      55.49,
                      44.51,
                      10.980000000000004
                    ],
                    [
                      63.62,
                      36.38,
                      27.239999999999995
                    ],
                    [
                      59.33,
                      40.67,
                      18.659999999999997
                    ],
                    [
                      58.58,
                      41.42,
                      17.159999999999997
                    ],
                    [
                      59.6,
                      40.4,
                      19.200000000000003
                    ],
                    [
                      58.97,
                      41.03,
                      17.939999999999998
                    ],
                    [
                      58.99,
                      41.01,
                      17.980000000000004
                    ],
                    [
                      60.77,
                      39.23,
                      21.540000000000006
                    ],
                    [
                      61.04,
                      38.96,
                      22.08
                    ],
                    [
                      64.57,
                      35.43,
                      29.139999999999993
                    ],
                    [
                      50.37,
                      49.63,
                      0.7399999999999949
                    ],
                    [
                      51.39,
                      48.61,
                      2.780000000000001
                    ],
                    [
                      50.88,
                      49.12,
                      1.7600000000000051
                    ],
                    [
                      52.23,
                      47.77,
                      4.459999999999994
                    ],
                    [
                      52.94,
                      47.06,
                      5.8799999999999955
                    ],
                    [
                      55.37,
                      44.63,
                      10.739999999999995
                    ],
                    [
                      52.27,
                      47.73,
                      4.540000000000006
                    ],
                    [
                      57.19,
                      42.81,
                      14.379999999999995
                    ],
                    [
                      63.24,
                      36.76,
                      26.480000000000004
                    ],
                    [
                      68.06,
                      31.94,
                      36.120000000000005
                    ],
                    [
                      58.25,
                      41.75,
                      16.5
                    ],
                    [
                      74.46,
                      25.54,
                      48.919999999999995
                    ],
                    [
                      62.39,
                      37.61,
                      24.78
                    ],
                    [
                      50.73,
                      49.27,
                      1.4599999999999937
                    ],
                    [
                      53.52,
                      46.48,
                      7.040000000000006
                    ],
                    [
                      60.91,
                      39.09,
                      21.819999999999993
                    ],
                    [
                      66.1,
                      33.9,
                      32.199999999999996
                    ],
                    [
                      52.6,
                      47.4,
                      5.200000000000003
                    ],
                    [
                      50.83,
                      49.17,
                      1.6599999999999966
                    ],
                    [
                      54.18,
                      45.82,
                      8.36
                    ],
                    [
                      71.23,
                      28.77,
                      42.46000000000001
                    ],
                    [
                      49.54,
                      50.46,
                      -0.9200000000000017
                    ],
                    [
                      49.94,
                      50.06,
                      -0.12000000000000455
                    ],
                    [
                      48.82,
                      51.18,
                      -2.3599999999999994
                    ],
                    [
                      55.41,
                      44.59,
                      10.819999999999993
                    ],
                    [
                      54.15,
                      45.85,
                      8.299999999999997
                    ],
                    [
                      51.58,
                      48.42,
                      3.1599999999999966
                    ],
                    [
                      59.82,
                      40.18,
                      19.64
                    ],
                    [
                      46.15,
                      53.85,
                      -7.700000000000003
                    ],
                    [
                      55.31,
                      44.69,
                      10.620000000000005
                    ],
                    [
                      52.15,
                      47.85,
                      4.299999999999997
                    ],
                    [
                      42.29,
                      57.71,
                      -15.420000000000002
                    ],
                    [
                      66.14,
                      33.86,
                      32.28
                    ],
                    [
                      39.88,
                      60.12,
                      -20.239999999999995
                    ],
                    [
                      50.7,
                      49.3,
                      1.4000000000000057
                    ],
                    [
                      62.09,
                      37.91,
                      24.180000000000007
                    ],
                    [
                      53.66,
                      46.34,
                      7.319999999999993
                    ],
                    [
                      53.23,
                      46.77,
                      6.459999999999994
                    ],
                    [
                      49.5,
                      50.5,
                      -1
                    ],
                    [
                      58.61,
                      41.39,
                      17.22
                    ],
                    [
                      57.22,
                      42.78,
                      14.439999999999998
                    ],
                    [
                      61.93,
                      38.07,
                      23.86
                    ],
                    [
                      49.58,
                      50.42,
                      -0.8400000000000034
                    ],
                    [
                      54.6,
                      45.4,
                      9.200000000000003
                    ],
                    [
                      64.43,
                      35.57,
                      28.860000000000007
                    ],
                    [
                      47.66,
                      52.34,
                      -4.680000000000007
                    ],
                    [
                      50.59,
                      49.41,
                      1.1800000000000068
                    ],
                    [
                      51.95,
                      48.05,
                      3.9000000000000057
                    ],
                    [
                      51.35,
                      48.65,
                      2.700000000000003
                    ],
                    [
                      69.83,
                      30.17,
                      39.66
                    ],
                    [
                      57.89,
                      42.11,
                      15.780000000000001
                    ],
                    [
                      49.12,
                      50.88,
                      -1.7600000000000051
                    ],
                    [
                      63.74,
                      36.26,
                      27.480000000000004
                    ],
                    [
                      42.01,
                      57.99,
                      -15.980000000000004
                    ],
                    [
                      49.6,
                      50.4,
                      -0.7999999999999972
                    ],
                    [
                      54.07,
                      45.93,
                      8.14
                    ],
                    [
                      48.7,
                      51.3,
                      -2.5999999999999943
                    ],
                    [
                      49.12,
                      50.88,
                      -1.7600000000000051
                    ],
                    [
                      45.91,
                      54.09,
                      -8.180000000000007
                    ],
                    [
                      55.09,
                      44.91,
                      10.180000000000007
                    ],
                    [
                      74.88,
                      25.12,
                      49.75999999999999
                    ],
                    [
                      53.33,
                      46.67,
                      6.659999999999997
                    ],
                    [
                      50.24,
                      49.76,
                      0.480000000000004
                    ],
                    [
                      68.02,
                      31.98,
                      36.03999999999999
                    ],
                    [
                      55.15,
                      44.85,
                      10.299999999999997
                    ],
                    [
                      59.76,
                      40.24,
                      19.519999999999996
                    ],
                    [
                      55.36,
                      44.64,
                      10.719999999999999
                    ],
                    [
                      43.98,
                      56.02,
                      -12.040000000000006
                    ],
                    [
                      68.55,
                      31.45,
                      37.099999999999994
                    ],
                    [
                      52.56,
                      47.44,
                      5.1200000000000045
                    ],
                    [
                      46.71,
                      53.29,
                      -6.579999999999998
                    ],
                    [
                      53.52,
                      46.48,
                      7.040000000000006
                    ],
                    [
                      54.81,
                      45.19,
                      9.620000000000005
                    ],
                    [
                      65.41,
                      34.59,
                      30.819999999999993
                    ],
                    [
                      50,
                      50,
                      0
                    ],
                    [
                      71.54,
                      28.46,
                      43.080000000000005
                    ],
                    [
                      53.28,
                      46.72,
                      6.560000000000002
                    ],
                    [
                      50,
                      50,
                      0
                    ],
                    [
                      50.42,
                      49.58,
                      0.8400000000000034
                    ],
                    [
                      60.53,
                      39.47,
                      21.060000000000002
                    ],
                    [
                      41.82,
                      58.18,
                      -16.36
                    ],
                    [
                      67.29,
                      32.71,
                      34.580000000000005
                    ],
                    [
                      37.89,
                      62.11,
                      -24.22
                    ],
                    [
                      59.14,
                      40.86,
                      18.28
                    ],
                    [
                      47.31,
                      52.69,
                      -5.3799999999999955
                    ],
                    [
                      67.42,
                      32.58,
                      34.84
                    ],
                    [
                      59.77,
                      40.23,
                      19.540000000000006
                    ],
                    [
                      48.75,
                      51.25,
                      -2.5
                    ],
                    [
                      64.1,
                      35.9,
                      28.199999999999996
                    ],
                    [
                      32.05,
                      67.95,
                      -35.900000000000006
                    ],
                    [
                      53.33,
                      46.67,
                      6.659999999999997
                    ],
                    [
                      67.12,
                      32.88,
                      34.24
                    ],
                    [
                      53.52,
                      46.48,
                      7.040000000000006
                    ],
                    [
                      53.12,
                      46.88,
                      6.239999999999995
                    ],
                    [
                      53.45,
                      46.55,
                      6.900000000000006
                    ],
                    [
                      71.7,
                      28.3,
                      43.400000000000006
                    ],
                    [
                      73.08,
                      26.92,
                      46.16
                    ],
                    [
                      54.55,
                      45.45,
                      9.099999999999994
                    ],
                    [
                      54.55,
                      45.45,
                      9.099999999999994
                    ],
                    [
                      73.81,
                      26.19,
                      47.620000000000005
                    ],
                    [
                      76.19,
                      23.81,
                      52.379999999999995
                    ],
                    [
                      38.1,
                      61.9,
                      -23.799999999999997
                    ],
                    [
                      54.29,
                      45.71,
                      8.579999999999998
                    ],
                    [
                      59.38,
                      40.62,
                      18.760000000000005
                    ],
                    [
                      61.29,
                      38.71,
                      22.58
                    ],
                    [
                      53.33,
                      46.67,
                      6.659999999999997
                    ],
                    [
                      75,
                      25,
                      50
                    ],
                    [
                      46.15,
                      53.85,
                      -7.700000000000003
                    ],
                    [
                      64,
                      36,
                      28
                    ],
                    [
                      56,
                      44,
                      12
                    ],
                    [
                      33.33,
                      66.67,
                      -33.34
                    ],
                    [
                      52.17,
                      47.83,
                      4.340000000000003
                    ],
                    [
                      63.64,
                      36.36,
                      27.28
                    ],
                    [
                      63.64,
                      36.36,
                      27.28
                    ],
                    [
                      71.43,
                      28.57,
                      42.86000000000001
                    ],
                    [
                      61.9,
                      38.1,
                      23.799999999999997
                    ],
                    [
                      57.14,
                      42.86,
                      14.280000000000001
                    ],
                    [
                      52.63,
                      47.37,
                      5.260000000000005
                    ],
                    [
                      21.05,
                      78.95,
                      -57.900000000000006
                    ],
                    [
                      66.67,
                      33.33,
                      33.34
                    ],
                    [
                      70.59,
                      29.41,
                      41.18000000000001
                    ],
                    [
                      52.94,
                      47.06,
                      5.8799999999999955
                    ],
                    [
                      37.5,
                      62.5,
                      -25
                    ],
                    [
                      53.33,
                      46.67,
                      6.659999999999997
                    ],
                    [
                      64.29,
                      35.71,
                      28.580000000000005
                    ],
                    [
                      53.85,
                      46.15,
                      7.700000000000003
                    ],
                    [
                      72.73,
                      27.27,
                      45.46000000000001
                    ],
                    [
                      54.55,
                      45.45,
                      9.099999999999994
                    ],
                    [
                      90.91,
                      9.09,
                      81.82
                    ],
                    [
                      50,
                      50,
                      0
                    ],
                    [
                      90,
                      10,
                      80
                    ],
                    [
                      88.89,
                      11.11,
                      77.78
                    ],
                    [
                      62.5,
                      37.5,
                      25
                    ],
                    [
                      42.86,
                      57.14,
                      -14.280000000000001
                    ],
                    [
                      66.67,
                      33.33,
                      33.34
                    ],
                    [
                      20,
                      80,
                      -60
                    ],
                    [
                      60,
                      40,
                      20
                    ],
                    [
                      40,
                      60,
                      -20
                    ],
                    [
                      40,
                      60,
                      -20
                    ],
                    [
                      60,
                      40,
                      20
                    ],
                    [
                      60,
                      40,
                      20
                    ],
                    [
                      40,
                      60,
                      -20
                    ],
                    [
                      40,
                      60,
                      -20
                    ],
                    [
                      75,
                      25,
                      50
                    ],
                    [
                      50,
                      50,
                      0
                    ],
                    [
                      25,
                      75,
                      -50
                    ],
                    [
                      66.67,
                      33.33,
                      33.34
                    ],
                    [
                      66.67,
                      33.33,
                      33.34
                    ],
                    [
                      100,
                      0,
                      100
                    ],
                    [
                      50,
                      50,
                      0
                    ],
                    [
                      100,
                      0,
                      100
                    ],
                    [
                      0,
                      100,
                      -100
                    ],
                    [
                      100,
                      0,
                      100
                    ],
                    [
                      0,
                      100,
                      -100
                    ],
                    [
                      100,
                      0,
                      100
                    ],
                    [
                      0,
                      100,
                      -100
                    ],
                    [
                      0,
                      100,
                      -100
                    ]
                  ],
                  "geo": "geo",
                  "hovertemplate": "<b>%{hovertext}</b><br><br>country_code=%{location}<br>trump_percentage=%{customdata[0]}<br>biden_percentage=%{customdata[1]}<extra></extra>",
                  "hovertext": [
                    "USA",
                    "GBR",
                    "IND",
                    "DEU",
                    "FRA",
                    "CAN",
                    "ITA",
                    "AUS",
                    "NLD",
                    "MEX",
                    "TUR",
                    "BRA",
                    "PAK",
                    "ESP",
                    "IRL",
                    "COL",
                    "ARG",
                    "VEN",
                    "CHL",
                    "BEL",
                    "NGA",
                    "BGD",
                    "ZAF",
                    "GEO",
                    "CHE",
                    "SWE",
                    "CHN",
                    "FIN",
                    "EGY",
                    "AUT",
                    "ARE",
                    "GRC",
                    "NOR",
                    "IDN",
                    "LBN",
                    "ECU",
                    "KEN",
                    "PER",
                    "NZL",
                    "CUB",
                    "ISR",
                    "MYS",
                    "IRN",
                    "SGP",
                    "PRT",
                    "SAU",
                    "CRI",
                    "JPN",
                    "DOM",
                    "PHL",
                    "DNK",
                    "RUS",
                    "AZE",
                    "HND",
                    "THA",
                    "SLV",
                    "POL",
                    "GTM",
                    "LKA",
                    "IRQ",
                    "GHA",
                    "BIH",
                    "ETH",
                    "TUN",
                    "QAT",
                    "CZE",
                    "TWN",
                    "BHR",
                    "UGA",
                    "URY",
                    "KOR",
                    "BOL",
                    "HUN",
                    "JAM",
                    "NIC",
                    "JEY",
                    "NPL",
                    "CYP",
                    "MAR",
                    "SRB",
                    "LUX",
                    "VNM",
                    "MNG",
                    "KWT",
                    "BGR",
                    "PAN",
                    "HTI",
                    "UKR",
                    "AFG",
                    "MLT",
                    "LTU",
                    "PRY",
                    "SEN",
                    "ARM",
                    "LBY",
                    "RWA",
                    "CMR",
                    "OMN",
                    "ISL",
                    "EST",
                    "KHM",
                    "LBR",
                    "ALB",
                    "TTO",
                    "ROU",
                    "YEM",
                    "SOM",
                    "SVK",
                    "ZWE",
                    "PSE",
                    "XKX",
                    "SYR",
                    "JOR",
                    "SDN",
                    "TZA",
                    "MCO",
                    "PNG",
                    "BHS",
                    "AGO",
                    "MDV",
                    "MMR",
                    "DZA",
                    "ZMB",
                    "LVA",
                    "SVN",
                    "SLE",
                    "GRL",
                    "FJI",
                    "HRV",
                    "BRB",
                    "GMB",
                    "HKG",
                    "KAZ",
                    "BHS",
                    "GRD",
                    "CIV",
                    "GUY",
                    "COG",
                    "BFA",
                    "PRK",
                    "NAM",
                    "GIB",
                    "VAT",
                    "UZB",
                    "MKD",
                    "GIN",
                    "LAO",
                    "SUR",
                    "FLK",
                    "MDA",
                    "NER",
                    "DJI",
                    "MUS",
                    "BLZ",
                    "COD",
                    "KNA",
                    "BLR",
                    "MNE",
                    "SYC",
                    "FRO",
                    "VGB",
                    "PRI",
                    "CYM",
                    "TJK",
                    "LIE",
                    "ATG",
                    "AIA",
                    "DMA",
                    "MDG",
                    "IMN",
                    "SSD",
                    "FSM",
                    "COG",
                    "COG",
                    "TCA",
                    "GAB",
                    "BEN",
                    "VUT",
                    "TON",
                    "WSM",
                    "CPV",
                    "MLI",
                    "KIR",
                    "TLS",
                    "MNP",
                    "LCA",
                    "LSO"
                  ],
                  "locations": [
                    "USA",
                    "GBR",
                    "IND",
                    "DEU",
                    "FRA",
                    "CAN",
                    "ITA",
                    "AUS",
                    "NLD",
                    "MEX",
                    "TUR",
                    "BRA",
                    "PAK",
                    "ESP",
                    "IRL",
                    "COL",
                    "ARG",
                    "VEN",
                    "CHL",
                    "BEL",
                    "NGA",
                    "BGD",
                    "ZAF",
                    "GEO",
                    "CHE",
                    "SWE",
                    "CHN",
                    "FIN",
                    "EGY",
                    "AUT",
                    "ARE",
                    "GRC",
                    "NOR",
                    "IDN",
                    "LBN",
                    "ECU",
                    "KEN",
                    "PER",
                    "NZL",
                    "CUB",
                    "ISR",
                    "MYS",
                    "IRN",
                    "SGP",
                    "PRT",
                    "SAU",
                    "CRI",
                    "JPN",
                    "DOM",
                    "PHL",
                    "DNK",
                    "RUS",
                    "AZE",
                    "HND",
                    "THA",
                    "SLV",
                    "POL",
                    "GTM",
                    "LKA",
                    "IRQ",
                    "GHA",
                    "BIH",
                    "ETH",
                    "TUN",
                    "QAT",
                    "CZE",
                    "TWN",
                    "BHR",
                    "UGA",
                    "URY",
                    "KOR",
                    "BOL",
                    "HUN",
                    "JAM",
                    "NIC",
                    "JEY",
                    "NPL",
                    "CYP",
                    "MAR",
                    "SRB",
                    "LUX",
                    "VNM",
                    "MNG",
                    "KWT",
                    "BGR",
                    "PAN",
                    "HTI",
                    "UKR",
                    "AFG",
                    "MLT",
                    "LTU",
                    "PRY",
                    "SEN",
                    "ARM",
                    "LBY",
                    "RWA",
                    "CMR",
                    "OMN",
                    "ISL",
                    "EST",
                    "KHM",
                    "LBR",
                    "ALB",
                    "TTO",
                    "ROU",
                    "YEM",
                    "SOM",
                    "SVK",
                    "ZWE",
                    "PSE",
                    "XKX",
                    "SYR",
                    "JOR",
                    "SDN",
                    "TZA",
                    "MCO",
                    "PNG",
                    "BHS",
                    "AGO",
                    "MDV",
                    "MMR",
                    "DZA",
                    "ZMB",
                    "LVA",
                    "SVN",
                    "SLE",
                    "GRL",
                    "FJI",
                    "HRV",
                    "BRB",
                    "GMB",
                    "HKG",
                    "KAZ",
                    "BHS",
                    "GRD",
                    "CIV",
                    "GUY",
                    "COG",
                    "BFA",
                    "PRK",
                    "NAM",
                    "GIB",
                    "VAT",
                    "UZB",
                    "MKD",
                    "GIN",
                    "LAO",
                    "SUR",
                    "FLK",
                    "MDA",
                    "NER",
                    "DJI",
                    "MUS",
                    "BLZ",
                    "COD",
                    "KNA",
                    "BLR",
                    "MNE",
                    "SYC",
                    "FRO",
                    "VGB",
                    "PRI",
                    "CYM",
                    "TJK",
                    "LIE",
                    "ATG",
                    "AIA",
                    "DMA",
                    "MDG",
                    "IMN",
                    "SSD",
                    "FSM",
                    "COG",
                    "COG",
                    "TCA",
                    "GAB",
                    "BEN",
                    "VUT",
                    "TON",
                    "WSM",
                    "CPV",
                    "MLI",
                    "KIR",
                    "TLS",
                    "MNP",
                    "LCA",
                    "LSO"
                  ],
                  "name": "",
                  "type": "choropleth",
                  "z": [
                    8.14,
                    19.700000000000003,
                    -7.420000000000002,
                    27.86,
                    17.22,
                    22.260000000000005,
                    11.64,
                    25.72,
                    15.760000000000005,
                    6.599999999999994,
                    7.900000000000006,
                    4.760000000000005,
                    -1.5799999999999983,
                    18.319999999999993,
                    3.1200000000000045,
                    6.439999999999998,
                    5.5,
                    19.739999999999995,
                    15.659999999999997,
                    14.459999999999994,
                    10.980000000000004,
                    27.239999999999995,
                    18.659999999999997,
                    17.159999999999997,
                    19.200000000000003,
                    17.939999999999998,
                    17.980000000000004,
                    21.540000000000006,
                    22.08,
                    29.139999999999993,
                    0.7399999999999949,
                    2.780000000000001,
                    1.7600000000000051,
                    4.459999999999994,
                    5.8799999999999955,
                    10.739999999999995,
                    4.540000000000006,
                    14.379999999999995,
                    26.480000000000004,
                    36.120000000000005,
                    16.5,
                    48.919999999999995,
                    24.78,
                    1.4599999999999937,
                    7.040000000000006,
                    21.819999999999993,
                    32.199999999999996,
                    5.200000000000003,
                    1.6599999999999966,
                    8.36,
                    42.46000000000001,
                    -0.9200000000000017,
                    -0.12000000000000455,
                    -2.3599999999999994,
                    10.819999999999993,
                    8.299999999999997,
                    3.1599999999999966,
                    19.64,
                    -7.700000000000003,
                    10.620000000000005,
                    4.299999999999997,
                    -15.420000000000002,
                    32.28,
                    -20.239999999999995,
                    1.4000000000000057,
                    24.180000000000007,
                    7.319999999999993,
                    6.459999999999994,
                    -1,
                    17.22,
                    14.439999999999998,
                    23.86,
                    -0.8400000000000034,
                    9.200000000000003,
                    28.860000000000007,
                    -4.680000000000007,
                    1.1800000000000068,
                    3.9000000000000057,
                    2.700000000000003,
                    39.66,
                    15.780000000000001,
                    -1.7600000000000051,
                    27.480000000000004,
                    -15.980000000000004,
                    -0.7999999999999972,
                    8.14,
                    -2.5999999999999943,
                    -1.7600000000000051,
                    -8.180000000000007,
                    10.180000000000007,
                    49.75999999999999,
                    6.659999999999997,
                    0.480000000000004,
                    36.03999999999999,
                    10.299999999999997,
                    19.519999999999996,
                    10.719999999999999,
                    -12.040000000000006,
                    37.099999999999994,
                    5.1200000000000045,
                    -6.579999999999998,
                    7.040000000000006,
                    9.620000000000005,
                    30.819999999999993,
                    0,
                    43.080000000000005,
                    6.560000000000002,
                    0,
                    0.8400000000000034,
                    21.060000000000002,
                    -16.36,
                    34.580000000000005,
                    -24.22,
                    18.28,
                    -5.3799999999999955,
                    34.84,
                    19.540000000000006,
                    -2.5,
                    28.199999999999996,
                    -35.900000000000006,
                    6.659999999999997,
                    34.24,
                    7.040000000000006,
                    6.239999999999995,
                    6.900000000000006,
                    43.400000000000006,
                    46.16,
                    9.099999999999994,
                    9.099999999999994,
                    47.620000000000005,
                    52.379999999999995,
                    -23.799999999999997,
                    8.579999999999998,
                    18.760000000000005,
                    22.58,
                    6.659999999999997,
                    50,
                    -7.700000000000003,
                    28,
                    12,
                    -33.34,
                    4.340000000000003,
                    27.28,
                    27.28,
                    42.86000000000001,
                    23.799999999999997,
                    14.280000000000001,
                    5.260000000000005,
                    -57.900000000000006,
                    33.34,
                    41.18000000000001,
                    5.8799999999999955,
                    -25,
                    6.659999999999997,
                    28.580000000000005,
                    7.700000000000003,
                    45.46000000000001,
                    9.099999999999994,
                    81.82,
                    0,
                    80,
                    77.78,
                    25,
                    -14.280000000000001,
                    33.34,
                    -60,
                    20,
                    -20,
                    -20,
                    20,
                    20,
                    -20,
                    -20,
                    50,
                    0,
                    -50,
                    33.34,
                    33.34,
                    100,
                    0,
                    100,
                    -100,
                    100,
                    -100,
                    100,
                    -100,
                    -100
                  ]
                }
              ],
              "layout": {
                "coloraxis": {
                  "cmax": 100,
                  "cmin": -100,
                  "colorbar": {
                    "title": {
                      "text": "color"
                    }
                  },
                  "colorscale": [
                    [
                      1,
                      "red"
                    ],
                    [
                      0,
                      "blue"
                    ]
                  ]
                },
                "geo": {
                  "center": {},
                  "coastlinecolor": "Gray",
                  "domain": {
                    "x": [
                      0,
                      1
                    ],
                    "y": [
                      0,
                      1
                    ]
                  },
                  "landcolor": "white",
                  "scope": "world",
                  "showcoastlines": true,
                  "showland": true
                },
                "legend": {
                  "tracegroupgap": 0
                },
                "template": {
                  "data": {
                    "candlestick": [
                      {
                        "decreasing": {
                          "line": {
                            "color": "#000033"
                          }
                        },
                        "increasing": {
                          "line": {
                            "color": "#000032"
                          }
                        },
                        "type": "candlestick"
                      }
                    ],
                    "contour": [
                      {
                        "colorscale": [
                          [
                            0,
                            "#000011"
                          ],
                          [
                            0.1111111111111111,
                            "#000012"
                          ],
                          [
                            0.2222222222222222,
                            "#000013"
                          ],
                          [
                            0.3333333333333333,
                            "#000014"
                          ],
                          [
                            0.4444444444444444,
                            "#000015"
                          ],
                          [
                            0.5555555555555556,
                            "#000016"
                          ],
                          [
                            0.6666666666666666,
                            "#000017"
                          ],
                          [
                            0.7777777777777778,
                            "#000018"
                          ],
                          [
                            0.8888888888888888,
                            "#000019"
                          ],
                          [
                            1,
                            "#000020"
                          ]
                        ],
                        "type": "contour"
                      }
                    ],
                    "contourcarpet": [
                      {
                        "colorscale": [
                          [
                            0,
                            "#000011"
                          ],
                          [
                            0.1111111111111111,
                            "#000012"
                          ],
                          [
                            0.2222222222222222,
                            "#000013"
                          ],
                          [
                            0.3333333333333333,
                            "#000014"
                          ],
                          [
                            0.4444444444444444,
                            "#000015"
                          ],
                          [
                            0.5555555555555556,
                            "#000016"
                          ],
                          [
                            0.6666666666666666,
                            "#000017"
                          ],
                          [
                            0.7777777777777778,
                            "#000018"
                          ],
                          [
                            0.8888888888888888,
                            "#000019"
                          ],
                          [
                            1,
                            "#000020"
                          ]
                        ],
                        "type": "contourcarpet"
                      }
                    ],
                    "heatmap": [
                      {
                        "colorscale": [
                          [
                            0,
                            "#000011"
                          ],
                          [
                            0.1111111111111111,
                            "#000012"
                          ],
                          [
                            0.2222222222222222,
                            "#000013"
                          ],
                          [
                            0.3333333333333333,
                            "#000014"
                          ],
                          [
                            0.4444444444444444,
                            "#000015"
                          ],
                          [
                            0.5555555555555556,
                            "#000016"
                          ],
                          [
                            0.6666666666666666,
                            "#000017"
                          ],
                          [
                            0.7777777777777778,
                            "#000018"
                          ],
                          [
                            0.8888888888888888,
                            "#000019"
                          ],
                          [
                            1,
                            "#000020"
                          ]
                        ],
                        "type": "heatmap"
                      }
                    ],
                    "histogram2d": [
                      {
                        "colorscale": [
                          [
                            0,
                            "#000011"
                          ],
                          [
                            0.1111111111111111,
                            "#000012"
                          ],
                          [
                            0.2222222222222222,
                            "#000013"
                          ],
                          [
                            0.3333333333333333,
                            "#000014"
                          ],
                          [
                            0.4444444444444444,
                            "#000015"
                          ],
                          [
                            0.5555555555555556,
                            "#000016"
                          ],
                          [
                            0.6666666666666666,
                            "#000017"
                          ],
                          [
                            0.7777777777777778,
                            "#000018"
                          ],
                          [
                            0.8888888888888888,
                            "#000019"
                          ],
                          [
                            1,
                            "#000020"
                          ]
                        ],
                        "type": "histogram2d"
                      }
                    ],
                    "icicle": [
                      {
                        "textfont": {
                          "color": "white"
                        },
                        "type": "icicle"
                      }
                    ],
                    "sankey": [
                      {
                        "textfont": {
                          "color": "#000036"
                        },
                        "type": "sankey"
                      }
                    ],
                    "scatter": [
                      {
                        "marker": {
                          "line": {
                            "width": 0
                          }
                        },
                        "type": "scatter"
                      }
                    ],
                    "table": [
                      {
                        "cells": {
                          "fill": {
                            "color": "#000038"
                          },
                          "font": {
                            "color": "#000037"
                          },
                          "line": {
                            "color": "#000039"
                          }
                        },
                        "header": {
                          "fill": {
                            "color": "#000040"
                          },
                          "font": {
                            "color": "#000036"
                          },
                          "line": {
                            "color": "#000039"
                          }
                        },
                        "type": "table"
                      }
                    ],
                    "waterfall": [
                      {
                        "connector": {
                          "line": {
                            "color": "#000036",
                            "width": 2
                          }
                        },
                        "decreasing": {
                          "marker": {
                            "color": "#000033"
                          }
                        },
                        "increasing": {
                          "marker": {
                            "color": "#000032"
                          }
                        },
                        "totals": {
                          "marker": {
                            "color": "#000034"
                          }
                        },
                        "type": "waterfall"
                      }
                    ]
                  },
                  "layout": {
                    "coloraxis": {
                      "colorscale": [
                        [
                          0,
                          "#000011"
                        ],
                        [
                          0.1111111111111111,
                          "#000012"
                        ],
                        [
                          0.2222222222222222,
                          "#000013"
                        ],
                        [
                          0.3333333333333333,
                          "#000014"
                        ],
                        [
                          0.4444444444444444,
                          "#000015"
                        ],
                        [
                          0.5555555555555556,
                          "#000016"
                        ],
                        [
                          0.6666666666666666,
                          "#000017"
                        ],
                        [
                          0.7777777777777778,
                          "#000018"
                        ],
                        [
                          0.8888888888888888,
                          "#000019"
                        ],
                        [
                          1,
                          "#000020"
                        ]
                      ]
                    },
                    "colorscale": {
                      "diverging": [
                        [
                          0,
                          "#000021"
                        ],
                        [
                          0.1,
                          "#000022"
                        ],
                        [
                          0.2,
                          "#000023"
                        ],
                        [
                          0.3,
                          "#000024"
                        ],
                        [
                          0.4,
                          "#000025"
                        ],
                        [
                          0.5,
                          "#000026"
                        ],
                        [
                          0.6,
                          "#000027"
                        ],
                        [
                          0.7,
                          "#000028"
                        ],
                        [
                          0.8,
                          "#000029"
                        ],
                        [
                          0.9,
                          "#000030"
                        ],
                        [
                          1,
                          "#000031"
                        ]
                      ],
                      "sequential": [
                        [
                          0,
                          "#000011"
                        ],
                        [
                          0.1111111111111111,
                          "#000012"
                        ],
                        [
                          0.2222222222222222,
                          "#000013"
                        ],
                        [
                          0.3333333333333333,
                          "#000014"
                        ],
                        [
                          0.4444444444444444,
                          "#000015"
                        ],
                        [
                          0.5555555555555556,
                          "#000016"
                        ],
                        [
                          0.6666666666666666,
                          "#000017"
                        ],
                        [
                          0.7777777777777778,
                          "#000018"
                        ],
                        [
                          0.8888888888888888,
                          "#000019"
                        ],
                        [
                          1,
                          "#000020"
                        ]
                      ],
                      "sequentialminus": [
                        [
                          0,
                          "#000011"
                        ],
                        [
                          0.1111111111111111,
                          "#000012"
                        ],
                        [
                          0.2222222222222222,
                          "#000013"
                        ],
                        [
                          0.3333333333333333,
                          "#000014"
                        ],
                        [
                          0.4444444444444444,
                          "#000015"
                        ],
                        [
                          0.5555555555555556,
                          "#000016"
                        ],
                        [
                          0.6666666666666666,
                          "#000017"
                        ],
                        [
                          0.7777777777777778,
                          "#000018"
                        ],
                        [
                          0.8888888888888888,
                          "#000019"
                        ],
                        [
                          1,
                          "#000020"
                        ]
                      ]
                    },
                    "colorway": [
                      "#000001",
                      "#000002",
                      "#000003",
                      "#000004",
                      "#000005",
                      "#000006",
                      "#000007",
                      "#000008",
                      "#000009",
                      "#000010"
                    ]
                  }
                },
                "title": {
                  "text": "Biden vs Trump Tweet Percentages by Country",
                  "x": 0.5
                }
              }
            }
          },
          "metadata": {},
          "output_type": "display_data"
        }
      ],
      "source": [
        "# Calculate color mapping based on percentage difference\n",
        "combined_df['color'] = combined_df['trump_percentage'] - combined_df['biden_percentage']\n",
        "\n",
        "# Create a choropleth map\n",
        "fig = px.choropleth(\n",
        "    combined_df,\n",
        "    locations='country_code',  # Column with country ISO Alpha-3 codes\n",
        "    color='color',  # Column for the color scale\n",
        "    color_continuous_scale=[(1, 'red'), (0, 'blue')],\n",
        "    range_color=[-100, 100],  # Adjust based on your data\n",
        "    scope=\"world\",  # Display the entire world\n",
        "    title='Biden vs Trump Tweet Percentages by Country',\n",
        "    hover_name='country_code',  # Show the country code on hover\n",
        "    hover_data={\n",
        "        'trump_percentage': True,  # Display Trump percentage\n",
        "        'biden_percentage': True,  # Display Biden percentage\n",
        "        'color': False  # Do not display the difference\n",
        "    }\n",
        ")\n",
        "\n",
        "# Update layout for better visualization\n",
        "fig.update_geos(showcoastlines=True, coastlinecolor=\"Gray\", showland=True, landcolor=\"white\")\n",
        "fig.update_layout(title_x=0.5)\n",
        "\n",
        "# Display the figure\n",
        "fig.show()\n"
      ]
    },
    {
      "cell_type": "markdown",
      "metadata": {
        "id": "e5Hw7XvP2jFP"
      },
      "source": [
        "# Exploratory Data Analysis - Only USA Users"
      ]
    },
    {
      "cell_type": "code",
      "execution_count": 44,
      "metadata": {
        "colab": {
          "base_uri": "https://localhost:8080/"
        },
        "id": "skkKTMCJ0Ir1",
        "outputId": "925d8d03-810b-4187-a165-a152de53c3d0"
      },
      "outputs": [
        {
          "data": {
            "text/plain": [
              "(213263, 18)"
            ]
          },
          "execution_count": 44,
          "metadata": {},
          "output_type": "execute_result"
        }
      ],
      "source": [
        "# Create a new DataFrame with only USA data\n",
        "usa_trump_df = trump_df[trump_df['country'] == 'United States']\n",
        "usa_trump_df.shape"
      ]
    },
    {
      "cell_type": "code",
      "execution_count": 45,
      "metadata": {
        "colab": {
          "base_uri": "https://localhost:8080/"
        },
        "id": "CY97aJtE1-Di",
        "outputId": "0c4b1442-360e-428d-9cca-b12eadfc1784"
      },
      "outputs": [
        {
          "data": {
            "text/plain": [
              "(181137, 18)"
            ]
          },
          "execution_count": 45,
          "metadata": {},
          "output_type": "execute_result"
        }
      ],
      "source": [
        "usa_biden_df = biden_df[biden_df['country'] == 'United States']\n",
        "usa_biden_df.shape"
      ]
    },
    {
      "cell_type": "code",
      "execution_count": 47,
      "metadata": {
        "colab": {
          "base_uri": "https://localhost:8080/",
          "height": 621
        },
        "id": "zitCqhWk2xEC",
        "outputId": "5ef2ec89-8e8e-4670-cb34-ca34b0a967bb"
      },
      "outputs": [
        {
          "data": {
            "text/plain": [
              "<function matplotlib.pyplot.show(close=None, block=None)>"
            ]
          },
          "execution_count": 47,
          "metadata": {},
          "output_type": "execute_result"
        },
        {
          "data": {
            "image/png": "[encoded data removed]",
            "text/plain": [
              "<Figure size 640x480 with 1 Axes>"
            ]
          },
          "metadata": {},
          "output_type": "display_data"
        }
      ],
      "source": [
        "# Percentage of Total Tweets (USA) - Trump vs Biden\n",
        "trump_tweet_count_usa = usa_trump_df.shape[0]\n",
        "biden_tweet_count_usa = usa_biden_df.shape[0]\n",
        "\n",
        "total_tweet_count_usa = trump_tweet_count_usa + biden_tweet_count_usa\n",
        "trump_tweet_percentage_usa = (trump_tweet_count_usa / total_tweet_count_usa) * 100\n",
        "biden_tweet_percentage_usa = (biden_tweet_count_usa / total_tweet_count_usa) * 100\n",
        "\n",
        "tweet_percentage_usa = {'Trump': trump_tweet_percentage_usa, 'Biden': biden_tweet_percentage_usa}\n",
        "\n",
        "labels = list(tweet_percentage_usa.keys())\n",
        "values = list(tweet_percentage_usa.values())\n",
        "\n",
        "plt.bar(labels, values, color=['red', 'blue'])\n",
        "plt.ylabel('Tweet %')\n",
        "plt.title('Percentage of Total Tweets (USA) - Trump vs Biden')\n",
        "\n",
        "for i, v in enumerate(values):\n",
        "    plt.text(i, v + 1, f'{v:.2f}%', ha='center', fontweight='bold')\n",
        "\n",
        "plt.show"
      ]
    },
    {
      "cell_type": "code",
      "execution_count": 48,
      "metadata": {
        "colab": {
          "base_uri": "https://localhost:8080/",
          "height": 554
        },
        "id": "rHIH4c3E2_aO",
        "outputId": "049dfb19-b127-4433-edea-9114dd0cefef"
      },
      "outputs": [
        {
          "data": {
            "image/png": "[encoded data removed]",
            "text/plain": [
              "<Figure size 640x480 with 1 Axes>"
            ]
          },
          "metadata": {},
          "output_type": "display_data"
        },
        {
          "data": {
            "text/plain": [
              "<Figure size 1400x700 with 0 Axes>"
            ]
          },
          "metadata": {},
          "output_type": "display_data"
        }
      ],
      "source": [
        "# Daily Tweet Counts About Trump and Biden\n",
        "t_tweets_per_day = usa_trump_df.groupby(usa_trump_df['created_at'].dt.date).size()\n",
        "b_tweets_per_day = usa_biden_df.groupby(usa_biden_df['created_at'].dt.date).size()\n",
        "\n",
        "plt.plot(t_tweets_per_day.index, t_tweets_per_day.values, label='Trump', color='Red')\n",
        "plt.plot(b_tweets_per_day.index, b_tweets_per_day.values, label='Biden', color='Blue')\n",
        "plt.xlabel('Date')\n",
        "plt.ylabel('Tweet Counts')\n",
        "plt.title('Daily Tweet Counts About Trump and Biden (USA)')\n",
        "plt.legend()\n",
        "plt.gca().set_xticks(t_tweets_per_day.index)\n",
        "plt.gca().set_xticklabels(t_tweets_per_day.index, rotation=90)\n",
        "plt.figure(figsize=(14,7))\n",
        "plt.show()"
      ]
    },
    {
      "cell_type": "code",
      "execution_count": 49,
      "metadata": {
        "colab": {
          "base_uri": "https://localhost:8080/",
          "height": 563
        },
        "id": "YRJe5qk6H3zi",
        "outputId": "4dbb63c7-79c1-4f75-e978-53d4dcc9c210"
      },
      "outputs": [
        {
          "data": {
            "image/png": "[encoded data removed]",
            "text/plain": [
              "<Figure size 1200x600 with 1 Axes>"
            ]
          },
          "metadata": {},
          "output_type": "display_data"
        }
      ],
      "source": [
        "# Expl 2: Investigate Distribution of Hour of Tweets\n",
        "usa_trump_df.loc[:, 'tweet_hour'] = usa_trump_df['created_at'].dt.hour\n",
        "usa_biden_df.loc[:, 'tweet_hour'] = usa_biden_df['created_at'].dt.hour\n",
        "\n",
        "plt.figure(figsize=(12,6))\n",
        "\n",
        "sns.histplot(usa_trump_df['tweet_hour'], bins=24, kde=False, color='red', label='Trump', alpha=0.8)\n",
        "sns.histplot(usa_biden_df['tweet_hour'], bins=24, kde=False, color='blue', label='Biden', alpha=0.8)\n",
        "\n",
        "plt.title('Distribution of Tweets by Hour(USA): Trump vs Biden')\n",
        "plt.xlabel('Hour of Day (0-23)')\n",
        "plt.ylabel('Tweet Count')\n",
        "plt.xticks(range(0, 24))  # Show all hours on the x-axis\n",
        "plt.legend()  # Show the legend to distinguish Trump and Biden\n",
        "plt.grid(False)\n",
        "\n",
        "plt.show()"
      ]
    },
    {
      "cell_type": "code",
      "execution_count": 50,
      "metadata": {},
      "outputs": [
        {
          "name": "stdout",
          "output_type": "stream",
          "text": [
            "Trump\n",
            " created_at               0.00\n",
            "tweet                    0.00\n",
            "likes                    0.00\n",
            "retweet_count            0.00\n",
            "source                   0.01\n",
            "user_id                  0.00\n",
            "user_name                0.00\n",
            "user_screen_name         0.00\n",
            "user_description         5.84\n",
            "user_join_date           0.00\n",
            "user_followers_count     0.00\n",
            "user_location            0.00\n",
            "city                    52.19\n",
            "country                  0.00\n",
            "state                   16.12\n",
            "state_code              16.12\n",
            "collected_at             0.00\n",
            "tweet_hour               0.00\n",
            "dtype: float64\n"
          ]
        }
      ],
      "source": [
        "# Missing values\n",
        "percentage_empty_cell_trump_usa = ((usa_trump_df.isnull().sum() / trump_tweet_count_usa)*100).round(2)\n",
        "print(\"Trump\\n\", percentage_empty_cell_trump_usa)"
      ]
    },
    {
      "cell_type": "code",
      "execution_count": 51,
      "metadata": {},
      "outputs": [
        {
          "name": "stdout",
          "output_type": "stream",
          "text": [
            "Biden\n",
            " created_at               0.00\n",
            "tweet                    0.00\n",
            "likes                    0.00\n",
            "retweet_count            0.00\n",
            "source                   0.00\n",
            "user_id                  0.00\n",
            "user_name                0.00\n",
            "user_screen_name         0.00\n",
            "user_description         6.17\n",
            "user_join_date           0.00\n",
            "user_followers_count     0.00\n",
            "user_location            0.00\n",
            "city                    49.96\n",
            "country                  0.00\n",
            "state                   15.21\n",
            "state_code              15.21\n",
            "collected_at             0.00\n",
            "tweet_hour               0.00\n",
            "dtype: float64\n"
          ]
        }
      ],
      "source": [
        "percentage_empty_cell_biden_usa = ((usa_biden_df.isnull().sum() / biden_tweet_count_usa)*100).round(2)\n",
        "print(\"Biden\\n\", percentage_empty_cell_biden_usa)"
      ]
    },
    {
      "cell_type": "code",
      "execution_count": 52,
      "metadata": {},
      "outputs": [
        {
          "data": {
            "text/plain": [
              "(53,)"
            ]
          },
          "execution_count": 52,
          "metadata": {},
          "output_type": "execute_result"
        }
      ],
      "source": [
        "# Trump - tweet counts according to states\n",
        "usa_trump_grouped = usa_trump_df.groupby('state_code')['tweet'].count()\n",
        "usa_trump_grouped.shape"
      ]
    },
    {
      "cell_type": "code",
      "execution_count": 53,
      "metadata": {},
      "outputs": [
        {
          "data": {
            "text/plain": [
              "(54,)"
            ]
          },
          "execution_count": 53,
          "metadata": {},
          "output_type": "execute_result"
        }
      ],
      "source": [
        "# Biden - tweet counts according to states\n",
        "usa_biden_grouped = usa_biden_df.groupby('state_code')['tweet'].count()\n",
        "usa_biden_grouped.shape"
      ]
    },
    {
      "cell_type": "code",
      "execution_count": 54,
      "metadata": {},
      "outputs": [
        {
          "name": "stderr",
          "output_type": "stream",
          "text": [
            "/var/folders/0m/wtx537hs0p18qyy9nvg99f300000gn/T/ipykernel_27989/2040137906.py:7: FutureWarning:\n",
            "\n",
            "A value is trying to be set on a copy of a DataFrame or Series through chained assignment using an inplace method.\n",
            "The behavior will change in pandas 3.0. This inplace method will never work because the intermediate object on which we are setting values always behaves as a copy.\n",
            "\n",
            "For example, when doing 'df[col].method(value, inplace=True)', try using 'df.method({col: value}, inplace=True)' or df[col] = df[col].method(value) instead, to perform the operation inplace on the original object.\n",
            "\n",
            "\n",
            "\n"
          ]
        },
        {
          "data": {
            "text/html": [
              "<div>\n",
              "<style scoped>\n",
              "    .dataframe tbody tr th:only-of-type {\n",
              "        vertical-align: middle;\n",
              "    }\n",
              "\n",
              "    .dataframe tbody tr th {\n",
              "        vertical-align: top;\n",
              "    }\n",
              "\n",
              "    .dataframe thead th {\n",
              "        text-align: right;\n",
              "    }\n",
              "</style>\n",
              "<table border=\"1\" class=\"dataframe\">\n",
              "  <thead>\n",
              "    <tr style=\"text-align: right;\">\n",
              "      <th></th>\n",
              "      <th>state_code</th>\n",
              "      <th>trump_tweets</th>\n",
              "      <th>biden_tweets</th>\n",
              "      <th>tweet</th>\n",
              "      <th>total_tweets</th>\n",
              "      <th>total_tweets_overall</th>\n",
              "      <th>trump_percentage</th>\n",
              "      <th>biden_percentage</th>\n",
              "      <th>usa_percentage_total</th>\n",
              "    </tr>\n",
              "  </thead>\n",
              "  <tbody>\n",
              "    <tr>\n",
              "      <th>4</th>\n",
              "      <td>CA</td>\n",
              "      <td>31149</td>\n",
              "      <td>25817</td>\n",
              "      <td>25817</td>\n",
              "      <td>56966</td>\n",
              "      <td>332467</td>\n",
              "      <td>54.68</td>\n",
              "      <td>45.32</td>\n",
              "      <td>17.13</td>\n",
              "    </tr>\n",
              "    <tr>\n",
              "      <th>36</th>\n",
              "      <td>NY</td>\n",
              "      <td>22881</td>\n",
              "      <td>21005</td>\n",
              "      <td>21005</td>\n",
              "      <td>43886</td>\n",
              "      <td>332467</td>\n",
              "      <td>52.14</td>\n",
              "      <td>47.86</td>\n",
              "      <td>13.20</td>\n",
              "    </tr>\n",
              "    <tr>\n",
              "      <th>46</th>\n",
              "      <td>TX</td>\n",
              "      <td>16491</td>\n",
              "      <td>14191</td>\n",
              "      <td>14191</td>\n",
              "      <td>30682</td>\n",
              "      <td>332467</td>\n",
              "      <td>53.75</td>\n",
              "      <td>46.25</td>\n",
              "      <td>9.23</td>\n",
              "    </tr>\n",
              "    <tr>\n",
              "      <th>9</th>\n",
              "      <td>FL</td>\n",
              "      <td>16559</td>\n",
              "      <td>13278</td>\n",
              "      <td>13278</td>\n",
              "      <td>29837</td>\n",
              "      <td>332467</td>\n",
              "      <td>55.50</td>\n",
              "      <td>44.50</td>\n",
              "      <td>8.97</td>\n",
              "    </tr>\n",
              "    <tr>\n",
              "      <th>7</th>\n",
              "      <td>DC</td>\n",
              "      <td>9684</td>\n",
              "      <td>7055</td>\n",
              "      <td>7055</td>\n",
              "      <td>16739</td>\n",
              "      <td>332467</td>\n",
              "      <td>57.85</td>\n",
              "      <td>42.15</td>\n",
              "      <td>5.03</td>\n",
              "    </tr>\n",
              "    <tr>\n",
              "      <th>40</th>\n",
              "      <td>PA</td>\n",
              "      <td>7011</td>\n",
              "      <td>5403</td>\n",
              "      <td>5403</td>\n",
              "      <td>12414</td>\n",
              "      <td>332467</td>\n",
              "      <td>56.48</td>\n",
              "      <td>43.52</td>\n",
              "      <td>3.73</td>\n",
              "    </tr>\n",
              "    <tr>\n",
              "      <th>15</th>\n",
              "      <td>IL</td>\n",
              "      <td>6777</td>\n",
              "      <td>5500</td>\n",
              "      <td>5500</td>\n",
              "      <td>12277</td>\n",
              "      <td>332467</td>\n",
              "      <td>55.20</td>\n",
              "      <td>44.80</td>\n",
              "      <td>3.69</td>\n",
              "    </tr>\n",
              "    <tr>\n",
              "      <th>33</th>\n",
              "      <td>NJ</td>\n",
              "      <td>5045</td>\n",
              "      <td>3961</td>\n",
              "      <td>3961</td>\n",
              "      <td>9006</td>\n",
              "      <td>332467</td>\n",
              "      <td>56.02</td>\n",
              "      <td>43.98</td>\n",
              "      <td>2.71</td>\n",
              "    </tr>\n",
              "    <tr>\n",
              "      <th>20</th>\n",
              "      <td>MA</td>\n",
              "      <td>4719</td>\n",
              "      <td>3738</td>\n",
              "      <td>3738</td>\n",
              "      <td>8457</td>\n",
              "      <td>332467</td>\n",
              "      <td>55.80</td>\n",
              "      <td>44.20</td>\n",
              "      <td>2.54</td>\n",
              "    </tr>\n",
              "    <tr>\n",
              "      <th>37</th>\n",
              "      <td>OH</td>\n",
              "      <td>3871</td>\n",
              "      <td>4413</td>\n",
              "      <td>4413</td>\n",
              "      <td>8284</td>\n",
              "      <td>332467</td>\n",
              "      <td>46.73</td>\n",
              "      <td>53.27</td>\n",
              "      <td>2.49</td>\n",
              "    </tr>\n",
              "  </tbody>\n",
              "</table>\n",
              "</div>"
            ],
            "text/plain": [
              "   state_code  trump_tweets  biden_tweets  tweet  total_tweets  \\\n",
              "4          CA         31149         25817  25817         56966   \n",
              "36         NY         22881         21005  21005         43886   \n",
              "46         TX         16491         14191  14191         30682   \n",
              "9          FL         16559         13278  13278         29837   \n",
              "7          DC          9684          7055   7055         16739   \n",
              "40         PA          7011          5403   5403         12414   \n",
              "15         IL          6777          5500   5500         12277   \n",
              "33         NJ          5045          3961   3961          9006   \n",
              "20         MA          4719          3738   3738          8457   \n",
              "37         OH          3871          4413   4413          8284   \n",
              "\n",
              "    total_tweets_overall  trump_percentage  biden_percentage  \\\n",
              "4                 332467             54.68             45.32   \n",
              "36                332467             52.14             47.86   \n",
              "46                332467             53.75             46.25   \n",
              "9                 332467             55.50             44.50   \n",
              "7                 332467             57.85             42.15   \n",
              "40                332467             56.48             43.52   \n",
              "15                332467             55.20             44.80   \n",
              "33                332467             56.02             43.98   \n",
              "20                332467             55.80             44.20   \n",
              "37                332467             46.73             53.27   \n",
              "\n",
              "    usa_percentage_total  \n",
              "4                  17.13  \n",
              "36                 13.20  \n",
              "46                  9.23  \n",
              "9                   8.97  \n",
              "7                   5.03  \n",
              "40                  3.73  \n",
              "15                  3.69  \n",
              "33                  2.71  \n",
              "20                  2.54  \n",
              "37                  2.49  "
            ]
          },
          "execution_count": 54,
          "metadata": {},
          "output_type": "execute_result"
        }
      ],
      "source": [
        "usa_combined_df = pd.merge(usa_trump_grouped, usa_biden_grouped, on='state_code', how='outer')\n",
        "usa_combined_df = usa_combined_df.rename(columns={'tweet_x': 'trump_tweets', 'tweet_y': 'biden_tweets'})\n",
        "usa_combined_df = usa_combined_df.reset_index()\n",
        "usa_combined_df = pd.merge(usa_combined_df, usa_biden_grouped, on='state_code', how='outer')\n",
        "\n",
        "# NaN fill with  0\n",
        "usa_combined_df['trump_tweets'].fillna(0, inplace=True)\n",
        "\n",
        "usa_combined_df['trump_tweets'] = usa_combined_df['trump_tweets'].astype(int)\n",
        "\n",
        "usa_combined_df['total_tweets'] = usa_combined_df['trump_tweets'] + usa_combined_df['biden_tweets']\n",
        "usa_combined_df['total_tweets_overall'] = usa_combined_df['trump_tweets'].sum() + usa_combined_df['biden_tweets'].sum()\n",
        "\n",
        "usa_combined_df['trump_percentage'] = (usa_combined_df['trump_tweets'] / usa_combined_df['total_tweets'] * 100).round(2)\n",
        "usa_combined_df['biden_percentage'] = (usa_combined_df['biden_tweets'] / usa_combined_df['total_tweets'] * 100).round(2)\n",
        "\n",
        "usa_combined_df['usa_percentage_total'] = (usa_combined_df['total_tweets'] / usa_combined_df['total_tweets_overall'] * 100).round(2)\n",
        "\n",
        "usa_combined_df = usa_combined_df.sort_values(by='total_tweets', ascending=False)\n",
        "usa_combined_df.head(10)"
      ]
    },
    {
      "cell_type": "code",
      "execution_count": 55,
      "metadata": {},
      "outputs": [
        {
          "data": {
            "image/png": "[encoded data removed]",
            "text/plain": [
              "<Figure size 1200x600 with 1 Axes>"
            ]
          },
          "metadata": {},
          "output_type": "display_data"
        }
      ],
      "source": [
        "# Get the top 10 states based on total tweet counts\n",
        "top_states = usa_combined_df.sort_values(by='total_tweets', ascending=False).head(10)\n",
        "\n",
        "# Set the position of bars on the x-axis\n",
        "bar_width = 0.25\n",
        "x = range(len(top_states))\n",
        "\n",
        "# Create a figure for the bar chart\n",
        "plt.figure(figsize=(12, 6))\n",
        "\n",
        "# Plot Trump tweets\n",
        "plt.bar(x, top_states['trump_tweets'], width=bar_width, label='Trump Tweets', color='red', align='center')\n",
        "\n",
        "# Plot Biden tweets\n",
        "plt.bar([p + bar_width for p in x], top_states['biden_tweets'], width=bar_width, label='Biden Tweets', color='blue', align='center')\n",
        "\n",
        "# Plot Total tweets\n",
        "plt.bar([p + bar_width*2 for p in x], top_states['total_tweets'], width=bar_width, label='Total Tweets', color='gray', align='center')\n",
        "\n",
        "# Adding labels and title\n",
        "plt.xlabel('State', fontsize=14)\n",
        "plt.ylabel('Number of Tweets', fontsize=14)\n",
        "plt.title('Top 10 States Tweet Counts: Trump vs Biden vs Total', fontsize=16)\n",
        "plt.xticks([p + bar_width for p in x], top_states['state_code'], rotation=45)\n",
        "plt.legend()\n",
        "\n",
        "# Show the plot\n",
        "plt.tight_layout()\n",
        "plt.show()"
      ]
    },
    {
      "cell_type": "code",
      "execution_count": 65,
      "metadata": {},
      "outputs": [
        {
          "data": {
            "application/vnd.plotly.v1+json": {
              "config": {
                "plotlyServerURL": "https://plot.ly"
              },
              "data": [
                {
                  "coloraxis": "coloraxis",
                  "customdata": [
                    [
                      54.68,
                      45.32,
                      9.36
                    ],
                    [
                      52.14,
                      47.86,
                      4.280000000000001
                    ],
                    [
                      53.75,
                      46.25,
                      7.5
                    ],
                    [
                      55.5,
                      44.5,
                      11
                    ],
                    [
                      57.85,
                      42.15,
                      15.700000000000003
                    ],
                    [
                      56.48,
                      43.52,
                      12.959999999999994
                    ],
                    [
                      55.2,
                      44.8,
                      10.400000000000006
                    ],
                    [
                      56.02,
                      43.98,
                      12.040000000000006
                    ],
                    [
                      55.8,
                      44.2,
                      11.599999999999994
                    ],
                    [
                      46.73,
                      53.27,
                      -6.540000000000006
                    ],
                    [
                      52.79,
                      47.21,
                      5.579999999999998
                    ],
                    [
                      57.38,
                      42.62,
                      14.760000000000005
                    ],
                    [
                      49.83,
                      50.17,
                      -0.3400000000000034
                    ],
                    [
                      46.87,
                      53.13,
                      -6.260000000000005
                    ],
                    [
                      47.44,
                      52.56,
                      -5.1200000000000045
                    ],
                    [
                      58.15,
                      41.85,
                      16.299999999999997
                    ],
                    [
                      56.64,
                      43.36,
                      13.280000000000001
                    ],
                    [
                      52.79,
                      47.21,
                      5.579999999999998
                    ],
                    [
                      51.68,
                      48.32,
                      3.3599999999999994
                    ],
                    [
                      51.41,
                      48.59,
                      2.819999999999993
                    ],
                    [
                      53.06,
                      46.94,
                      6.1200000000000045
                    ],
                    [
                      56.5,
                      43.5,
                      13
                    ],
                    [
                      52.89,
                      47.11,
                      5.780000000000001
                    ],
                    [
                      47.18,
                      52.82,
                      -5.640000000000001
                    ],
                    [
                      50.06,
                      49.94,
                      0.12000000000000455
                    ],
                    [
                      55.37,
                      44.63,
                      10.739999999999995
                    ],
                    [
                      48.14,
                      51.86,
                      -3.719999999999999
                    ],
                    [
                      52.4,
                      47.6,
                      4.799999999999997
                    ],
                    [
                      56.51,
                      43.49,
                      13.019999999999996
                    ],
                    [
                      50.34,
                      49.66,
                      0.6800000000000068
                    ],
                    [
                      53.01,
                      46.99,
                      6.019999999999996
                    ],
                    [
                      49.56,
                      50.44,
                      -0.8799999999999955
                    ],
                    [
                      51.24,
                      48.76,
                      2.480000000000004
                    ],
                    [
                      60.61,
                      39.39,
                      21.22
                    ],
                    [
                      52.65,
                      47.35,
                      5.299999999999997
                    ],
                    [
                      79.95,
                      20.05,
                      59.900000000000006
                    ],
                    [
                      56.65,
                      43.35,
                      13.299999999999997
                    ],
                    [
                      60.08,
                      39.92,
                      20.159999999999997
                    ],
                    [
                      51.41,
                      48.59,
                      2.819999999999993
                    ],
                    [
                      52.95,
                      47.05,
                      5.900000000000006
                    ],
                    [
                      62.56,
                      37.44,
                      25.120000000000005
                    ],
                    [
                      51.3,
                      48.7,
                      2.5999999999999943
                    ],
                    [
                      42.03,
                      57.97,
                      -15.939999999999998
                    ],
                    [
                      55.66,
                      44.34,
                      11.319999999999993
                    ],
                    [
                      44.98,
                      55.02,
                      -10.040000000000006
                    ],
                    [
                      41.65,
                      58.35,
                      -16.700000000000003
                    ],
                    [
                      42.53,
                      57.47,
                      -14.939999999999998
                    ],
                    [
                      53.06,
                      46.94,
                      6.1200000000000045
                    ],
                    [
                      47.63,
                      52.37,
                      -4.739999999999995
                    ],
                    [
                      52.73,
                      47.27,
                      5.459999999999994
                    ],
                    [
                      37.61,
                      62.39,
                      -24.78
                    ],
                    [
                      46.58,
                      53.42,
                      -6.840000000000003
                    ],
                    [
                      44.44,
                      55.56,
                      -11.120000000000005
                    ],
                    [
                      0,
                      100,
                      -100
                    ]
                  ],
                  "geo": "geo",
                  "hovertemplate": "<b>%{hovertext}</b><br><br>state_code=%{location}<br>trump_percentage=%{customdata[0]}<br>biden_percentage=%{customdata[1]}<extra></extra>",
                  "hovertext": [
                    "CA",
                    "NY",
                    "TX",
                    "FL",
                    "DC",
                    "PA",
                    "IL",
                    "NJ",
                    "MA",
                    "OH",
                    "NC",
                    "CO",
                    "MI",
                    "AZ",
                    "GA",
                    "OR",
                    "WA",
                    "VA",
                    "NV",
                    "MD",
                    "TN",
                    "MO",
                    "MN",
                    "WI",
                    "IN",
                    "KY",
                    "SC",
                    "LA",
                    "CT",
                    "KS",
                    "UT",
                    "AL",
                    "OK",
                    "IA",
                    "HI",
                    "VT",
                    "AR",
                    "ID",
                    "PR",
                    "NM",
                    "ND",
                    "NE",
                    "AK",
                    "ME",
                    "WV",
                    "NH",
                    "DE",
                    "WY",
                    "MS",
                    "RI",
                    "MT",
                    "SD",
                    "GU",
                    "MP"
                  ],
                  "locationmode": "USA-states",
                  "locations": [
                    "CA",
                    "NY",
                    "TX",
                    "FL",
                    "DC",
                    "PA",
                    "IL",
                    "NJ",
                    "MA",
                    "OH",
                    "NC",
                    "CO",
                    "MI",
                    "AZ",
                    "GA",
                    "OR",
                    "WA",
                    "VA",
                    "NV",
                    "MD",
                    "TN",
                    "MO",
                    "MN",
                    "WI",
                    "IN",
                    "KY",
                    "SC",
                    "LA",
                    "CT",
                    "KS",
                    "UT",
                    "AL",
                    "OK",
                    "IA",
                    "HI",
                    "VT",
                    "AR",
                    "ID",
                    "PR",
                    "NM",
                    "ND",
                    "NE",
                    "AK",
                    "ME",
                    "WV",
                    "NH",
                    "DE",
                    "WY",
                    "MS",
                    "RI",
                    "MT",
                    "SD",
                    "GU",
                    "MP"
                  ],
                  "name": "",
                  "type": "choropleth",
                  "z": [
                    9.36,
                    4.280000000000001,
                    7.5,
                    11,
                    15.700000000000003,
                    12.959999999999994,
                    10.400000000000006,
                    12.040000000000006,
                    11.599999999999994,
                    -6.540000000000006,
                    5.579999999999998,
                    14.760000000000005,
                    -0.3400000000000034,
                    -6.260000000000005,
                    -5.1200000000000045,
                    16.299999999999997,
                    13.280000000000001,
                    5.579999999999998,
                    3.3599999999999994,
                    2.819999999999993,
                    6.1200000000000045,
                    13,
                    5.780000000000001,
                    -5.640000000000001,
                    0.12000000000000455,
                    10.739999999999995,
                    -3.719999999999999,
                    4.799999999999997,
                    13.019999999999996,
                    0.6800000000000068,
                    6.019999999999996,
                    -0.8799999999999955,
                    2.480000000000004,
                    21.22,
                    5.299999999999997,
                    59.900000000000006,
                    13.299999999999997,
                    20.159999999999997,
                    2.819999999999993,
                    5.900000000000006,
                    25.120000000000005,
                    2.5999999999999943,
                    -15.939999999999998,
                    11.319999999999993,
                    -10.040000000000006,
                    -16.700000000000003,
                    -14.939999999999998,
                    6.1200000000000045,
                    -4.739999999999995,
                    5.459999999999994,
                    -24.78,
                    -6.840000000000003,
                    -11.120000000000005,
                    -100
                  ]
                }
              ],
              "layout": {
                "coloraxis": {
                  "cmax": 100,
                  "cmin": -100,
                  "colorbar": {
                    "title": {
                      "text": "color"
                    }
                  },
                  "colorscale": [
                    [
                      1,
                      "red"
                    ],
                    [
                      0,
                      "blue"
                    ]
                  ]
                },
                "geo": {
                  "center": {},
                  "domain": {
                    "x": [
                      0,
                      1
                    ],
                    "y": [
                      0,
                      1
                    ]
                  },
                  "fitbounds": "locations",
                  "scope": "usa",
                  "visible": false
                },
                "legend": {
                  "tracegroupgap": 0
                },
                "template": {
                  "data": {
                    "candlestick": [
                      {
                        "decreasing": {
                          "line": {
                            "color": "#000033"
                          }
                        },
                        "increasing": {
                          "line": {
                            "color": "#000032"
                          }
                        },
                        "type": "candlestick"
                      }
                    ],
                    "contour": [
                      {
                        "colorscale": [
                          [
                            0,
                            "#000011"
                          ],
                          [
                            0.1111111111111111,
                            "#000012"
                          ],
                          [
                            0.2222222222222222,
                            "#000013"
                          ],
                          [
                            0.3333333333333333,
                            "#000014"
                          ],
                          [
                            0.4444444444444444,
                            "#000015"
                          ],
                          [
                            0.5555555555555556,
                            "#000016"
                          ],
                          [
                            0.6666666666666666,
                            "#000017"
                          ],
                          [
                            0.7777777777777778,
                            "#000018"
                          ],
                          [
                            0.8888888888888888,
                            "#000019"
                          ],
                          [
                            1,
                            "#000020"
                          ]
                        ],
                        "type": "contour"
                      }
                    ],
                    "contourcarpet": [
                      {
                        "colorscale": [
                          [
                            0,
                            "#000011"
                          ],
                          [
                            0.1111111111111111,
                            "#000012"
                          ],
                          [
                            0.2222222222222222,
                            "#000013"
                          ],
                          [
                            0.3333333333333333,
                            "#000014"
                          ],
                          [
                            0.4444444444444444,
                            "#000015"
                          ],
                          [
                            0.5555555555555556,
                            "#000016"
                          ],
                          [
                            0.6666666666666666,
                            "#000017"
                          ],
                          [
                            0.7777777777777778,
                            "#000018"
                          ],
                          [
                            0.8888888888888888,
                            "#000019"
                          ],
                          [
                            1,
                            "#000020"
                          ]
                        ],
                        "type": "contourcarpet"
                      }
                    ],
                    "heatmap": [
                      {
                        "colorscale": [
                          [
                            0,
                            "#000011"
                          ],
                          [
                            0.1111111111111111,
                            "#000012"
                          ],
                          [
                            0.2222222222222222,
                            "#000013"
                          ],
                          [
                            0.3333333333333333,
                            "#000014"
                          ],
                          [
                            0.4444444444444444,
                            "#000015"
                          ],
                          [
                            0.5555555555555556,
                            "#000016"
                          ],
                          [
                            0.6666666666666666,
                            "#000017"
                          ],
                          [
                            0.7777777777777778,
                            "#000018"
                          ],
                          [
                            0.8888888888888888,
                            "#000019"
                          ],
                          [
                            1,
                            "#000020"
                          ]
                        ],
                        "type": "heatmap"
                      }
                    ],
                    "histogram2d": [
                      {
                        "colorscale": [
                          [
                            0,
                            "#000011"
                          ],
                          [
                            0.1111111111111111,
                            "#000012"
                          ],
                          [
                            0.2222222222222222,
                            "#000013"
                          ],
                          [
                            0.3333333333333333,
                            "#000014"
                          ],
                          [
                            0.4444444444444444,
                            "#000015"
                          ],
                          [
                            0.5555555555555556,
                            "#000016"
                          ],
                          [
                            0.6666666666666666,
                            "#000017"
                          ],
                          [
                            0.7777777777777778,
                            "#000018"
                          ],
                          [
                            0.8888888888888888,
                            "#000019"
                          ],
                          [
                            1,
                            "#000020"
                          ]
                        ],
                        "type": "histogram2d"
                      }
                    ],
                    "icicle": [
                      {
                        "textfont": {
                          "color": "white"
                        },
                        "type": "icicle"
                      }
                    ],
                    "sankey": [
                      {
                        "textfont": {
                          "color": "#000036"
                        },
                        "type": "sankey"
                      }
                    ],
                    "scatter": [
                      {
                        "marker": {
                          "line": {
                            "width": 0
                          }
                        },
                        "type": "scatter"
                      }
                    ],
                    "table": [
                      {
                        "cells": {
                          "fill": {
                            "color": "#000038"
                          },
                          "font": {
                            "color": "#000037"
                          },
                          "line": {
                            "color": "#000039"
                          }
                        },
                        "header": {
                          "fill": {
                            "color": "#000040"
                          },
                          "font": {
                            "color": "#000036"
                          },
                          "line": {
                            "color": "#000039"
                          }
                        },
                        "type": "table"
                      }
                    ],
                    "waterfall": [
                      {
                        "connector": {
                          "line": {
                            "color": "#000036",
                            "width": 2
                          }
                        },
                        "decreasing": {
                          "marker": {
                            "color": "#000033"
                          }
                        },
                        "increasing": {
                          "marker": {
                            "color": "#000032"
                          }
                        },
                        "totals": {
                          "marker": {
                            "color": "#000034"
                          }
                        },
                        "type": "waterfall"
                      }
                    ]
                  },
                  "layout": {
                    "coloraxis": {
                      "colorscale": [
                        [
                          0,
                          "#000011"
                        ],
                        [
                          0.1111111111111111,
                          "#000012"
                        ],
                        [
                          0.2222222222222222,
                          "#000013"
                        ],
                        [
                          0.3333333333333333,
                          "#000014"
                        ],
                        [
                          0.4444444444444444,
                          "#000015"
                        ],
                        [
                          0.5555555555555556,
                          "#000016"
                        ],
                        [
                          0.6666666666666666,
                          "#000017"
                        ],
                        [
                          0.7777777777777778,
                          "#000018"
                        ],
                        [
                          0.8888888888888888,
                          "#000019"
                        ],
                        [
                          1,
                          "#000020"
                        ]
                      ]
                    },
                    "colorscale": {
                      "diverging": [
                        [
                          0,
                          "#000021"
                        ],
                        [
                          0.1,
                          "#000022"
                        ],
                        [
                          0.2,
                          "#000023"
                        ],
                        [
                          0.3,
                          "#000024"
                        ],
                        [
                          0.4,
                          "#000025"
                        ],
                        [
                          0.5,
                          "#000026"
                        ],
                        [
                          0.6,
                          "#000027"
                        ],
                        [
                          0.7,
                          "#000028"
                        ],
                        [
                          0.8,
                          "#000029"
                        ],
                        [
                          0.9,
                          "#000030"
                        ],
                        [
                          1,
                          "#000031"
                        ]
                      ],
                      "sequential": [
                        [
                          0,
                          "#000011"
                        ],
                        [
                          0.1111111111111111,
                          "#000012"
                        ],
                        [
                          0.2222222222222222,
                          "#000013"
                        ],
                        [
                          0.3333333333333333,
                          "#000014"
                        ],
                        [
                          0.4444444444444444,
                          "#000015"
                        ],
                        [
                          0.5555555555555556,
                          "#000016"
                        ],
                        [
                          0.6666666666666666,
                          "#000017"
                        ],
                        [
                          0.7777777777777778,
                          "#000018"
                        ],
                        [
                          0.8888888888888888,
                          "#000019"
                        ],
                        [
                          1,
                          "#000020"
                        ]
                      ],
                      "sequentialminus": [
                        [
                          0,
                          "#000011"
                        ],
                        [
                          0.1111111111111111,
                          "#000012"
                        ],
                        [
                          0.2222222222222222,
                          "#000013"
                        ],
                        [
                          0.3333333333333333,
                          "#000014"
                        ],
                        [
                          0.4444444444444444,
                          "#000015"
                        ],
                        [
                          0.5555555555555556,
                          "#000016"
                        ],
                        [
                          0.6666666666666666,
                          "#000017"
                        ],
                        [
                          0.7777777777777778,
                          "#000018"
                        ],
                        [
                          0.8888888888888888,
                          "#000019"
                        ],
                        [
                          1,
                          "#000020"
                        ]
                      ]
                    },
                    "colorway": [
                      "#000001",
                      "#000002",
                      "#000003",
                      "#000004",
                      "#000005",
                      "#000006",
                      "#000007",
                      "#000008",
                      "#000009",
                      "#000010"
                    ]
                  }
                },
                "title": {
                  "text": "Biden vs Trump Tweet Percentages by State",
                  "x": 0.5
                }
              }
            }
          },
          "metadata": {},
          "output_type": "display_data"
        }
      ],
      "source": [
        "# Calculate the color mapping based on the percentage difference\n",
        "usa_combined_df['color'] = usa_combined_df['trump_percentage'] - usa_combined_df['biden_percentage']\n",
        "\n",
        "# Create a choropleth map\n",
        "fig = px.choropleth(\n",
        "    usa_combined_df,\n",
        "    locationmode='USA-states',\n",
        "    locations='state_code',\n",
        "    color='color',\n",
        "    color_continuous_scale=[(1, 'red'), (0, 'blue')],\n",
        "    range_color=[-100, 100],  # Adjust this range based on your data\n",
        "    scope=\"usa\",\n",
        "    title='Biden vs Trump Tweet Percentages by State',\n",
        "    hover_name='state_code',  # Show the state code on hover\n",
        "    hover_data={\n",
        "        'trump_percentage': True,  # Display Trump percentage\n",
        "        'biden_percentage': True,   # Display Biden percentage\n",
        "        'color': False              # Do not display the difference\n",
        "    }\n",
        ")\n",
        "\n",
        "# Update layout for better visualization\n",
        "fig.update_geos(fitbounds=\"locations\", visible=False)\n",
        "fig.update_layout(title_x=0.5)\n",
        "\n",
        "# Display the figure\n",
        "fig.show()\n"
      ]
    },
    {
      "cell_type": "code",
      "execution_count": 57,
      "metadata": {},
      "outputs": [
        {
          "data": {
            "image/png": "[encoded data removed]",
            "text/plain": [
              "<Figure size 1200x1200 with 2 Axes>"
            ]
          },
          "metadata": {},
          "output_type": "display_data"
        }
      ],
      "source": [
        "# Prepare data for the heatmap: only Trump and Biden percentages\n",
        "heatmap_data = usa_combined_df[['trump_percentage', 'biden_percentage']]\n",
        "\n",
        "# Set the figure size\n",
        "plt.figure(figsize=(12, 12))  # Increase the height to accommodate state names\n",
        "\n",
        "# Draw the heatmap and set y-axis labels to state names\n",
        "sns.heatmap(heatmap_data, annot=True, cmap='coolwarm', linewidths=0.5, fmt=\".2f\", \n",
        "            cbar_kws={'label': 'Tweet Percentage'}, yticklabels=usa_combined_df.index)\n",
        "\n",
        "# Add a title\n",
        "plt.title('Trump vs Biden Tweet Percentages Heatmap', fontsize=16)\n",
        "\n",
        "# Rotate the y-axis labels (state names)\n",
        "plt.yticks(rotation=0, fontsize=10)  # Rotate labels horizontally\n",
        "\n",
        "# Adjust x and y labels\n",
        "plt.xlabel('Candidates')\n",
        "plt.ylabel('States')\n",
        "\n",
        "# Show the plot\n",
        "plt.tight_layout()  # Adjust layout to fit labels better\n",
        "plt.show()"
      ]
    },
    {
      "cell_type": "markdown",
      "metadata": {},
      "source": [
        "# Data Cleaning for Language Detection\n",
        "\n",
        "1. **Lowercase Conversion:** Convert all tweets to lowercase to ensure uniformity.\n",
        "2. **Remove Emojis:** Emojis can interfere with sentiment analysis. Remove them using regex.\n",
        "3. **Remove URLs:** Tweets often contain URLs, which don't contribute to sentiment. Remove them with a regex.\n",
        "4. **Remove Mentions & Hashtags:** User mentions (@user) or hashtags (#hashtag)"
      ]
    },
    {
      "cell_type": "code",
      "execution_count": 58,
      "metadata": {},
      "outputs": [
        {
          "name": "stderr",
          "output_type": "stream",
          "text": [
            "/var/folders/0m/wtx537hs0p18qyy9nvg99f300000gn/T/ipykernel_27989/1879051938.py:2: SettingWithCopyWarning:\n",
            "\n",
            "\n",
            "A value is trying to be set on a copy of a slice from a DataFrame.\n",
            "Try using .loc[row_indexer,col_indexer] = value instead\n",
            "\n",
            "See the caveats in the documentation: https://pandas.pydata.org/pandas-docs/stable/user_guide/indexing.html#returning-a-view-versus-a-copy\n",
            "\n",
            "/var/folders/0m/wtx537hs0p18qyy9nvg99f300000gn/T/ipykernel_27989/1879051938.py:3: SettingWithCopyWarning:\n",
            "\n",
            "\n",
            "A value is trying to be set on a copy of a slice from a DataFrame.\n",
            "Try using .loc[row_indexer,col_indexer] = value instead\n",
            "\n",
            "See the caveats in the documentation: https://pandas.pydata.org/pandas-docs/stable/user_guide/indexing.html#returning-a-view-versus-a-copy\n",
            "\n"
          ]
        }
      ],
      "source": [
        "# Lowercase conversion\n",
        "usa_trump_df['tweet'] = usa_trump_df['tweet'].str.lower()\n",
        "usa_biden_df['tweet'] = usa_biden_df['tweet'].str.lower()\n"
      ]
    },
    {
      "cell_type": "code",
      "execution_count": 59,
      "metadata": {},
      "outputs": [
        {
          "name": "stderr",
          "output_type": "stream",
          "text": [
            "/var/folders/0m/wtx537hs0p18qyy9nvg99f300000gn/T/ipykernel_27989/2736930127.py:3: SettingWithCopyWarning:\n",
            "\n",
            "\n",
            "A value is trying to be set on a copy of a slice from a DataFrame.\n",
            "Try using .loc[row_indexer,col_indexer] = value instead\n",
            "\n",
            "See the caveats in the documentation: https://pandas.pydata.org/pandas-docs/stable/user_guide/indexing.html#returning-a-view-versus-a-copy\n",
            "\n",
            "/var/folders/0m/wtx537hs0p18qyy9nvg99f300000gn/T/ipykernel_27989/2736930127.py:4: SettingWithCopyWarning:\n",
            "\n",
            "\n",
            "A value is trying to be set on a copy of a slice from a DataFrame.\n",
            "Try using .loc[row_indexer,col_indexer] = value instead\n",
            "\n",
            "See the caveats in the documentation: https://pandas.pydata.org/pandas-docs/stable/user_guide/indexing.html#returning-a-view-versus-a-copy\n",
            "\n"
          ]
        }
      ],
      "source": [
        "# Remove emojis\n",
        "import re\n",
        "usa_trump_df['tweet'] = usa_trump_df['tweet'].apply(lambda x: re.sub(r'[^\\w\\s,]', '', x))\n",
        "usa_biden_df['tweet'] = usa_biden_df['tweet'].apply(lambda x: re.sub(r'[^\\w\\s,]', '', x))\n",
        "\n",
        "# usa_trump_df['tweet'].head(2)"
      ]
    },
    {
      "cell_type": "code",
      "execution_count": 60,
      "metadata": {},
      "outputs": [
        {
          "name": "stderr",
          "output_type": "stream",
          "text": [
            "/var/folders/0m/wtx537hs0p18qyy9nvg99f300000gn/T/ipykernel_27989/3171398215.py:2: SettingWithCopyWarning:\n",
            "\n",
            "\n",
            "A value is trying to be set on a copy of a slice from a DataFrame.\n",
            "Try using .loc[row_indexer,col_indexer] = value instead\n",
            "\n",
            "See the caveats in the documentation: https://pandas.pydata.org/pandas-docs/stable/user_guide/indexing.html#returning-a-view-versus-a-copy\n",
            "\n",
            "/var/folders/0m/wtx537hs0p18qyy9nvg99f300000gn/T/ipykernel_27989/3171398215.py:3: SettingWithCopyWarning:\n",
            "\n",
            "\n",
            "A value is trying to be set on a copy of a slice from a DataFrame.\n",
            "Try using .loc[row_indexer,col_indexer] = value instead\n",
            "\n",
            "See the caveats in the documentation: https://pandas.pydata.org/pandas-docs/stable/user_guide/indexing.html#returning-a-view-versus-a-copy\n",
            "\n"
          ]
        }
      ],
      "source": [
        "# Remove URLs\n",
        "usa_trump_df['tweet'] = usa_trump_df['tweet'].apply(lambda x: re.sub(r'http\\S+|www\\S+', '', x))\n",
        "usa_biden_df['tweet'] = usa_biden_df['tweet'].apply(lambda x: re.sub(r'http\\S+|www\\S+', '', x))"
      ]
    },
    {
      "cell_type": "code",
      "execution_count": 61,
      "metadata": {},
      "outputs": [
        {
          "name": "stderr",
          "output_type": "stream",
          "text": [
            "/var/folders/0m/wtx537hs0p18qyy9nvg99f300000gn/T/ipykernel_27989/2984276328.py:2: SettingWithCopyWarning:\n",
            "\n",
            "\n",
            "A value is trying to be set on a copy of a slice from a DataFrame.\n",
            "Try using .loc[row_indexer,col_indexer] = value instead\n",
            "\n",
            "See the caveats in the documentation: https://pandas.pydata.org/pandas-docs/stable/user_guide/indexing.html#returning-a-view-versus-a-copy\n",
            "\n",
            "/var/folders/0m/wtx537hs0p18qyy9nvg99f300000gn/T/ipykernel_27989/2984276328.py:3: SettingWithCopyWarning:\n",
            "\n",
            "\n",
            "A value is trying to be set on a copy of a slice from a DataFrame.\n",
            "Try using .loc[row_indexer,col_indexer] = value instead\n",
            "\n",
            "See the caveats in the documentation: https://pandas.pydata.org/pandas-docs/stable/user_guide/indexing.html#returning-a-view-versus-a-copy\n",
            "\n"
          ]
        }
      ],
      "source": [
        "# Remove mentions & hashtags\n",
        "usa_trump_df['tweet'] = usa_trump_df['tweet'].apply(lambda x: re.sub(r'@\\w+|#\\w+', '', x))\n",
        "usa_biden_df['tweet'] = usa_biden_df['tweet'].apply(lambda x: re.sub(r'@\\w+|#\\w+', '', x))\n",
        "\n",
        "# usa_trump_df['tweet'].head(10)"
      ]
    },
    {
      "cell_type": "markdown",
      "metadata": {},
      "source": [
        "# Language Detector with MediaPipe Tasks\n",
        "\n",
        "**What is MediaPipe Language Detector?**\n",
        "\n",
        "MediaPipe's Language Detector is a machine learning solution designed to identify the language of a given text. It is highly efficient and can be integrated into Python projects to process textual data, like tweets, and categorize them based on their language.\n",
        "\n"
      ]
    },
    {
      "cell_type": "markdown",
      "metadata": {},
      "source": [
        "# NLTK (Natural Language Toolkit)\n",
        "\n",
        "**NLTK** is a popular Python library used for natural language processing (NLP) tasks. It provides easy-to-use interfaces to over 50 corpora and lexical resources, along with a suite of text processing libraries for various tasks.\n",
        "\n",
        "**Key Features**\n",
        "\n",
        "1. **Tokenization**\n",
        "   - Splitting text into words or sentences.\n",
        "\n",
        "2. **Part-of-Speech Tagging**\n",
        "   - Identifying the grammatical parts of speech for words in a sentence.\n",
        "\n",
        "3. **Stemming and Lemmatization**\n",
        "   - Reducing words to their base or root form.\n",
        "\n",
        "4. **Text Classification**\n",
        "   - Categorizing text into predefined classes.\n",
        "\n",
        "5. **Named Entity Recognition (NER)**\n",
        "   - Identifying proper nouns and other significant entities in text.\n",
        "\n",
        "6. **Corpora**\n",
        "   - Access to a large variety of text corpora and datasets for research and training.\n",
        "\n",
        "**Usage**\n",
        "\n",
        "NLTK is widely used in academia and industry for research in linguistics and machine learning, making it an essential tool for anyone working in the field of NLP.\n"
      ]
    },
    {
      "cell_type": "code",
      "execution_count": 62,
      "metadata": {},
      "outputs": [
        {
          "name": "stderr",
          "output_type": "stream",
          "text": [
            "[nltk_data] Downloading package brown to /Users/gulsah/nltk_data...\n",
            "[nltk_data]   Package brown is already up-to-date!\n",
            "[nltk_data] Downloading package punkt to /Users/gulsah/nltk_data...\n",
            "[nltk_data]   Package punkt is already up-to-date!\n",
            "[nltk_data] Downloading package wordnet to /Users/gulsah/nltk_data...\n",
            "[nltk_data]   Package wordnet is already up-to-date!\n"
          ]
        },
        {
          "data": {
            "text/plain": [
              "True"
            ]
          },
          "execution_count": 62,
          "metadata": {},
          "output_type": "execute_result"
        }
      ],
      "source": [
        "import nltk\n",
        "\n",
        "# Download the required NLTK corpora\n",
        "nltk.download('brown')\n",
        "nltk.download('punkt')\n",
        "nltk.download('wordnet')"
      ]
    },
    {
      "cell_type": "code",
      "execution_count": 63,
      "metadata": {},
      "outputs": [
        {
          "ename": "ModuleNotFoundError",
          "evalue": "No module named 'textblob'",
          "output_type": "error",
          "traceback": [
            "\u001b[0;31m---------------------------------------------------------------------------\u001b[0m",
            "\u001b[0;31mModuleNotFoundError\u001b[0m                       Traceback (most recent call last)",
            "Cell \u001b[0;32mIn[63], line 1\u001b[0m\n\u001b[0;32m----> 1\u001b[0m \u001b[38;5;28;01mfrom\u001b[39;00m \u001b[38;5;21;01mtextblob\u001b[39;00m \u001b[38;5;28;01mimport\u001b[39;00m TextBlob \u001b[38;5;66;03m# sentimental analysis\u001b[39;00m\n\u001b[1;32m      3\u001b[0m \u001b[38;5;66;03m# Create a sample TextBlob\u001b[39;00m\n\u001b[1;32m      4\u001b[0m sample_text \u001b[38;5;241m=\u001b[39m \u001b[38;5;124m\"\u001b[39m\u001b[38;5;124mThis is a good test sentence.\u001b[39m\u001b[38;5;124m\"\u001b[39m\n",
            "\u001b[0;31mModuleNotFoundError\u001b[0m: No module named 'textblob'"
          ]
        }
      ],
      "source": [
        "from textblob import TextBlob # sentimental analysis\n",
        "\n",
        "# Create a sample TextBlob\n",
        "sample_text = \"This is a good test sentence.\"\n",
        "# sample_text = \"it is certain 100% correct\"\n",
        "blob = TextBlob(sample_text)\n",
        "\n",
        "print(blob.sentiment)"
      ]
    },
    {
      "cell_type": "markdown",
      "metadata": {},
      "source": [
        "5. **Remove Stopwords:** Common words like \"the\", \"and\", \"is\" might not be important for sentiment analysis, so removing them can improve accuracy."
      ]
    },
    {
      "cell_type": "code",
      "execution_count": null,
      "metadata": {},
      "outputs": [],
      "source": [
        "# Remove stopwords\n",
        "from nltk.corpus import stopwords\n",
        "stop = set(stopwords.words('english'))\n",
        "usa_trump_df['tweet'] = usa_trump_df['tweet'].apply(lambda x: ' '.join([word for word in x.split() if word not in stop]))\n"
      ]
    },
    {
      "cell_type": "code",
      "execution_count": null,
      "metadata": {},
      "outputs": [],
      "source": [
        "# Function to detect language\n",
        "def detect_language(text):\n",
        "    try:\n",
        "        blob = TextBlob(text)\n",
        "        return blob.detect_language()\n",
        "    except Exception as e:\n",
        "        return None  # Handle exceptions for undetectable languages\n",
        "\n",
        "\n",
        "# Apply the function to the 'tweet' column\n",
        "usa_trump_df['language'] = usa_trump_df['tweet'].apply(detect_language)\n",
        "\n",
        "usa_trump_df.head(5)"
      ]
    },
    {
      "cell_type": "code",
      "execution_count": 119,
      "metadata": {},
      "outputs": [],
      "source": [
        "# trump_df = pd.read_csv(r\"/content/sample_data/hashtag_donaldtrump.csv\",lineterminator='\\n')\n",
        "# biden_df = pd.read_csv(r\"/content/sample_data/hashtag_joebiden.csv\",lineterminator='\\n')\n",
        "trump_df = pd.read_csv(r\"/Users/gulsah/Desktop/REDI/redi_fall2024_data_circle_twitter_project/csv/hashtag_donaldtrump.csv\",lineterminator='\\n')\n",
        "biden_df = pd.read_csv(r\"/Users/gulsah/Desktop/REDI/redi_fall2024_data_circle_twitter_project/csv/hashtag_joebiden.csv\",lineterminator='\\n')"
      ]
    },
    {
      "cell_type": "code",
      "execution_count": null,
      "metadata": {},
      "outputs": [],
      "source": [
        "trump_df.info()"
      ]
    },
    {
      "cell_type": "code",
      "execution_count": null,
      "metadata": {},
      "outputs": [],
      "source": [
        "biden_df.info()"
      ]
    },
    {
      "cell_type": "code",
      "execution_count": null,
      "metadata": {},
      "outputs": [],
      "source": []
    },
    {
      "cell_type": "code",
      "execution_count": null,
      "metadata": {},
      "outputs": [],
      "source": [
        "# Expl 4: Investigate The Most Retweeted Tweets - Trump\n",
        "usa_trump_df_retweet = usa_trump_df.sort_values(by='retweet_count', ascending=False)\n",
        "usa_trump_df_retweet.head(5)"
      ]
    },
    {
      "cell_type": "code",
      "execution_count": null,
      "metadata": {},
      "outputs": [],
      "source": [
        "# Expl 4: Investigate The Most Retweeted Tweets - Biden\n",
        "usa_biden_df_retweet = usa_biden_df.sort_values(by='retweet_count', ascending=False)\n",
        "usa_biden_df_retweet.head(5)"
      ]
    },
    {
      "cell_type": "code",
      "execution_count": null,
      "metadata": {},
      "outputs": [],
      "source": [
        "# Expl 6: Investigate The Most Liked Tweets - Trump\n",
        "usa_trump_df_like = usa_trump_df.sort_values(by='likes', ascending=False)\n",
        "usa_trump_df_like.head(5)"
      ]
    },
    {
      "cell_type": "code",
      "execution_count": null,
      "metadata": {},
      "outputs": [],
      "source": [
        "# Expl 6: Investigate The Most Liked Tweets - Biden\n",
        "usa_biden_df_like = usa_biden_df.sort_values(by='likes', ascending=False)\n",
        "usa_biden_df_like.head(5)"
      ]
    },
    {
      "cell_type": "code",
      "execution_count": null,
      "metadata": {},
      "outputs": [],
      "source": []
    }
  ],
  "metadata": {
    "colab": {
      "authorship_tag": "ABX9TyPC9MG318lQz8MwwU0KdXup",
      "include_colab_link": true,
      "provenance": []
    },
    "kernelspec": {
      "display_name": "twitter-project-env",
      "language": "python",
      "name": "python3"
    },
    "language_info": {
      "codemirror_mode": {
        "name": "ipython",
        "version": 3
      },
      "file_extension": ".py",
      "mimetype": "text/x-python",
      "name": "python",
      "nbconvert_exporter": "python",
      "pygments_lexer": "ipython3",
      "version": "3.10.15"
    }
  },
  "nbformat": 4,
  "nbformat_minor": 0
}
